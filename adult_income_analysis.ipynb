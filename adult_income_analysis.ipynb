{
 "cells": [
  {
   "cell_type": "code",
   "execution_count": 1,
   "id": "initial_id",
   "metadata": {
    "collapsed": true,
    "ExecuteTime": {
     "end_time": "2024-03-29T11:23:42.769722Z",
     "start_time": "2024-03-29T11:23:42.761957Z"
    }
   },
   "outputs": [],
   "source": [
    "# install ucimlrepo, pandas, imblearn, seaborn, matplotlib, numpy and scikit-learn packages\n",
    "from ucimlrepo import fetch_ucirepo "
   ]
  },
  {
   "cell_type": "code",
   "outputs": [
    {
     "data": {
      "text/plain": "((48842, 14), (48842, 1))"
     },
     "execution_count": 2,
     "metadata": {},
     "output_type": "execute_result"
    }
   ],
   "source": [
    "# fetch dataset \n",
    "adult = fetch_ucirepo(id=2) \n",
    "  \n",
    "# data (as pandas dataframes) m\n",
    "x = adult.data.features \n",
    "y = adult.data.targets \n",
    "\n",
    "# shape of data\n",
    "x.shape, y.shape"
   ],
   "metadata": {
    "collapsed": false,
    "ExecuteTime": {
     "end_time": "2024-03-29T11:23:54.108542Z",
     "start_time": "2024-03-29T11:23:43.099055Z"
    }
   },
   "id": "495158470cccf097",
   "execution_count": 2
  },
  {
   "cell_type": "markdown",
   "source": [
    "## Corpus Preparation"
   ],
   "metadata": {
    "collapsed": false
   },
   "id": "306dc158331f1d7b"
  },
  {
   "cell_type": "code",
   "outputs": [
    {
     "name": "stdout",
     "output_type": "stream",
     "text": [
      "<class 'pandas.core.frame.DataFrame'>\n",
      "RangeIndex: 48842 entries, 0 to 48841\n",
      "Data columns (total 14 columns):\n",
      " #   Column          Non-Null Count  Dtype \n",
      "---  ------          --------------  ----- \n",
      " 0   age             48842 non-null  int64 \n",
      " 1   workclass       47879 non-null  object\n",
      " 2   fnlwgt          48842 non-null  int64 \n",
      " 3   education       48842 non-null  object\n",
      " 4   education-num   48842 non-null  int64 \n",
      " 5   marital-status  48842 non-null  object\n",
      " 6   occupation      47876 non-null  object\n",
      " 7   relationship    48842 non-null  object\n",
      " 8   race            48842 non-null  object\n",
      " 9   sex             48842 non-null  object\n",
      " 10  capital-gain    48842 non-null  int64 \n",
      " 11  capital-loss    48842 non-null  int64 \n",
      " 12  hours-per-week  48842 non-null  int64 \n",
      " 13  native-country  48568 non-null  object\n",
      "dtypes: int64(6), object(8)\n",
      "memory usage: 5.2+ MB\n"
     ]
    }
   ],
   "source": [
    "# look for shape, null values, data types\n",
    "x.info()"
   ],
   "metadata": {
    "collapsed": false,
    "ExecuteTime": {
     "end_time": "2024-03-29T11:23:54.125297Z",
     "start_time": "2024-03-29T11:23:54.109905Z"
    }
   },
   "id": "ef462139fb776629",
   "execution_count": 3
  },
  {
   "cell_type": "code",
   "outputs": [
    {
     "name": "stdout",
     "output_type": "stream",
     "text": [
      "<class 'pandas.core.frame.DataFrame'>\n",
      "RangeIndex: 48842 entries, 0 to 48841\n",
      "Data columns (total 1 columns):\n",
      " #   Column  Non-Null Count  Dtype \n",
      "---  ------  --------------  ----- \n",
      " 0   income  48842 non-null  object\n",
      "dtypes: object(1)\n",
      "memory usage: 381.7+ KB\n"
     ]
    }
   ],
   "source": [
    "# look for shape, null values, data types\n",
    "y.info()"
   ],
   "metadata": {
    "collapsed": false,
    "ExecuteTime": {
     "end_time": "2024-03-29T11:23:54.130356Z",
     "start_time": "2024-03-29T11:23:54.126192Z"
    }
   },
   "id": "bc9fe6d2965d05e8",
   "execution_count": 4
  },
  {
   "cell_type": "code",
   "outputs": [],
   "source": [
    "import pandas as pd"
   ],
   "metadata": {
    "collapsed": false,
    "ExecuteTime": {
     "end_time": "2024-03-29T11:23:54.134181Z",
     "start_time": "2024-03-29T11:23:54.132013Z"
    }
   },
   "id": "ef2ebadf24f5d1f2",
   "execution_count": 5
  },
  {
   "cell_type": "code",
   "outputs": [
    {
     "data": {
      "text/plain": "       age workclass  fnlwgt  education  education-num      marital-status  \\\n33630   63   Private  201700  Bachelors             13  Married-civ-spouse   \n18131   46   Private   98012  Assoc-voc             11            Divorced   \n45202   17   Private  260978       11th              7       Never-married   \n\n          occupation   relationship   race     sex  capital-gain  \\\n33630          Sales        Husband  White    Male          7298   \n18131   Adm-clerical  Not-in-family  White  Female             0   \n45202  Other-service      Own-child  White    Male             0   \n\n       capital-loss  hours-per-week native-country  income  \n33630             0              40  United-States   >50K.  \n18131             0              40  United-States   <=50K  \n45202             0              14    Philippines  <=50K.  ",
      "text/html": "<div>\n<style scoped>\n    .dataframe tbody tr th:only-of-type {\n        vertical-align: middle;\n    }\n\n    .dataframe tbody tr th {\n        vertical-align: top;\n    }\n\n    .dataframe thead th {\n        text-align: right;\n    }\n</style>\n<table border=\"1\" class=\"dataframe\">\n  <thead>\n    <tr style=\"text-align: right;\">\n      <th></th>\n      <th>age</th>\n      <th>workclass</th>\n      <th>fnlwgt</th>\n      <th>education</th>\n      <th>education-num</th>\n      <th>marital-status</th>\n      <th>occupation</th>\n      <th>relationship</th>\n      <th>race</th>\n      <th>sex</th>\n      <th>capital-gain</th>\n      <th>capital-loss</th>\n      <th>hours-per-week</th>\n      <th>native-country</th>\n      <th>income</th>\n    </tr>\n  </thead>\n  <tbody>\n    <tr>\n      <th>33630</th>\n      <td>63</td>\n      <td>Private</td>\n      <td>201700</td>\n      <td>Bachelors</td>\n      <td>13</td>\n      <td>Married-civ-spouse</td>\n      <td>Sales</td>\n      <td>Husband</td>\n      <td>White</td>\n      <td>Male</td>\n      <td>7298</td>\n      <td>0</td>\n      <td>40</td>\n      <td>United-States</td>\n      <td>&gt;50K.</td>\n    </tr>\n    <tr>\n      <th>18131</th>\n      <td>46</td>\n      <td>Private</td>\n      <td>98012</td>\n      <td>Assoc-voc</td>\n      <td>11</td>\n      <td>Divorced</td>\n      <td>Adm-clerical</td>\n      <td>Not-in-family</td>\n      <td>White</td>\n      <td>Female</td>\n      <td>0</td>\n      <td>0</td>\n      <td>40</td>\n      <td>United-States</td>\n      <td>&lt;=50K</td>\n    </tr>\n    <tr>\n      <th>45202</th>\n      <td>17</td>\n      <td>Private</td>\n      <td>260978</td>\n      <td>11th</td>\n      <td>7</td>\n      <td>Never-married</td>\n      <td>Other-service</td>\n      <td>Own-child</td>\n      <td>White</td>\n      <td>Male</td>\n      <td>0</td>\n      <td>0</td>\n      <td>14</td>\n      <td>Philippines</td>\n      <td>&lt;=50K.</td>\n    </tr>\n  </tbody>\n</table>\n</div>"
     },
     "execution_count": 6,
     "metadata": {},
     "output_type": "execute_result"
    }
   ],
   "source": [
    "# concatenate the features and targets into one dataframe for dropping duplicated samples\n",
    "df = pd.concat([x, y], axis=1)\n",
    "df.sample(3)"
   ],
   "metadata": {
    "collapsed": false,
    "ExecuteTime": {
     "end_time": "2024-03-29T11:23:54.150551Z",
     "start_time": "2024-03-29T11:23:54.134866Z"
    }
   },
   "id": "94af50d9e47c3f96",
   "execution_count": 6
  },
  {
   "cell_type": "code",
   "outputs": [
    {
     "data": {
      "text/plain": "False    48813\nTrue        29\nName: count, dtype: int64"
     },
     "execution_count": 7,
     "metadata": {},
     "output_type": "execute_result"
    }
   ],
   "source": [
    "# view how many records are duplicated\n",
    "df.duplicated().value_counts()"
   ],
   "metadata": {
    "collapsed": false,
    "ExecuteTime": {
     "end_time": "2024-03-29T11:23:54.172821Z",
     "start_time": "2024-03-29T11:23:54.151235Z"
    }
   },
   "id": "cf3de66b09920dc6",
   "execution_count": 7
  },
  {
   "cell_type": "code",
   "outputs": [
    {
     "data": {
      "text/plain": "(48813, 15)"
     },
     "execution_count": 8,
     "metadata": {},
     "output_type": "execute_result"
    }
   ],
   "source": [
    "# drop duplicated samples keeping the first one\n",
    "df = df.drop_duplicates(keep = 'first')\n",
    "df.shape"
   ],
   "metadata": {
    "collapsed": false,
    "ExecuteTime": {
     "end_time": "2024-03-29T11:23:54.195016Z",
     "start_time": "2024-03-29T11:23:54.173513Z"
    }
   },
   "id": "5cd29208e20281cc",
   "execution_count": 8
  },
  {
   "cell_type": "code",
   "outputs": [],
   "source": [
    "from matplotlib import pyplot as plt"
   ],
   "metadata": {
    "collapsed": false,
    "ExecuteTime": {
     "end_time": "2024-03-29T11:23:54.197227Z",
     "start_time": "2024-03-29T11:23:54.195665Z"
    }
   },
   "id": "605d38f5bb3afc6",
   "execution_count": 9
  },
  {
   "cell_type": "code",
   "outputs": [
    {
     "data": {
      "text/plain": "<Figure size 500x400 with 1 Axes>",
      "image/png": "[encoded data removed]"
     },
     "metadata": {},
     "output_type": "display_data"
    }
   ],
   "source": [
    "# visualise the imbalances of the dataset\n",
    "plt.figure(figsize=(5, 4))\n",
    "df['income'].value_counts().plot(kind = 'bar')\n",
    "plt.title('Value count of a class in target variable')\n",
    "plt.xlabel('Income classes')\n",
    "plt.ylabel('Value counts')\n",
    "plt.show()"
   ],
   "metadata": {
    "collapsed": false,
    "ExecuteTime": {
     "end_time": "2024-03-29T11:23:54.351405Z",
     "start_time": "2024-03-29T11:23:54.197890Z"
    }
   },
   "id": "6002d11a390d8f59",
   "execution_count": 10
  },
  {
   "cell_type": "code",
   "outputs": [],
   "source": [
    "# separate features and targets for sampling\n",
    "x = df.drop(columns=['income'])\n",
    "y = df['income']"
   ],
   "metadata": {
    "collapsed": false,
    "ExecuteTime": {
     "end_time": "2024-03-29T11:23:54.370980Z",
     "start_time": "2024-03-29T11:23:54.362299Z"
    }
   },
   "id": "19361fdcc06639f8",
   "execution_count": 11
  },
  {
   "cell_type": "code",
   "outputs": [],
   "source": [
    "from imblearn.over_sampling import RandomOverSampler"
   ],
   "metadata": {
    "collapsed": false,
    "ExecuteTime": {
     "end_time": "2024-03-29T11:23:54.749890Z",
     "start_time": "2024-03-29T11:23:54.372562Z"
    }
   },
   "id": "d36fb2dff5f1ae24",
   "execution_count": 12
  },
  {
   "cell_type": "code",
   "outputs": [
    {
     "data": {
      "text/plain": "<Figure size 500x400 with 1 Axes>",
      "image/png": "[encoded data removed]"
     },
     "metadata": {},
     "output_type": "display_data"
    }
   ],
   "source": [
    "oversample = RandomOverSampler(random_state=42)\n",
    "\n",
    "# resample and balance the dataset\n",
    "x, y = oversample.fit_resample(x, y)\n",
    "\n",
    "plt.figure(figsize=(5, 4))\n",
    "y.value_counts().plot(kind = 'bar')\n",
    "plt.title('Value count of a class in target variable')\n",
    "plt.xlabel('Income classes')\n",
    "plt.ylabel('Value counts')\n",
    "plt.show()"
   ],
   "metadata": {
    "collapsed": false,
    "ExecuteTime": {
     "end_time": "2024-03-29T11:23:54.999067Z",
     "start_time": "2024-03-29T11:23:54.751070Z"
    }
   },
   "id": "cc6a5ce106cc955d",
   "execution_count": 13
  },
  {
   "cell_type": "code",
   "outputs": [
    {
     "data": {
      "text/plain": "       age     workclass  fnlwgt  education  education-num  \\\n69445   43       Private  132130  Assoc-voc             11   \n24652   17       Private  153021       12th              8   \n14376   75  Self-emp-inc  125197    HS-grad              9   \n\n           marital-status       occupation relationship   race     sex  \\\n69445  Married-civ-spouse  Farming-fishing      Husband  White    Male   \n24652       Never-married            Sales    Own-child  White  Female   \n14376  Married-civ-spouse     Adm-clerical      Husband  White    Male   \n\n       capital-gain  capital-loss  hours-per-week native-country income  \n69445             0             0              40  United-States   >50K  \n24652             0             0              20  United-States  <=50K  \n14376             0             0              26  United-States  <=50K  ",
      "text/html": "<div>\n<style scoped>\n    .dataframe tbody tr th:only-of-type {\n        vertical-align: middle;\n    }\n\n    .dataframe tbody tr th {\n        vertical-align: top;\n    }\n\n    .dataframe thead th {\n        text-align: right;\n    }\n</style>\n<table border=\"1\" class=\"dataframe\">\n  <thead>\n    <tr style=\"text-align: right;\">\n      <th></th>\n      <th>age</th>\n      <th>workclass</th>\n      <th>fnlwgt</th>\n      <th>education</th>\n      <th>education-num</th>\n      <th>marital-status</th>\n      <th>occupation</th>\n      <th>relationship</th>\n      <th>race</th>\n      <th>sex</th>\n      <th>capital-gain</th>\n      <th>capital-loss</th>\n      <th>hours-per-week</th>\n      <th>native-country</th>\n      <th>income</th>\n    </tr>\n  </thead>\n  <tbody>\n    <tr>\n      <th>69445</th>\n      <td>43</td>\n      <td>Private</td>\n      <td>132130</td>\n      <td>Assoc-voc</td>\n      <td>11</td>\n      <td>Married-civ-spouse</td>\n      <td>Farming-fishing</td>\n      <td>Husband</td>\n      <td>White</td>\n      <td>Male</td>\n      <td>0</td>\n      <td>0</td>\n      <td>40</td>\n      <td>United-States</td>\n      <td>&gt;50K</td>\n    </tr>\n    <tr>\n      <th>24652</th>\n      <td>17</td>\n      <td>Private</td>\n      <td>153021</td>\n      <td>12th</td>\n      <td>8</td>\n      <td>Never-married</td>\n      <td>Sales</td>\n      <td>Own-child</td>\n      <td>White</td>\n      <td>Female</td>\n      <td>0</td>\n      <td>0</td>\n      <td>20</td>\n      <td>United-States</td>\n      <td>&lt;=50K</td>\n    </tr>\n    <tr>\n      <th>14376</th>\n      <td>75</td>\n      <td>Self-emp-inc</td>\n      <td>125197</td>\n      <td>HS-grad</td>\n      <td>9</td>\n      <td>Married-civ-spouse</td>\n      <td>Adm-clerical</td>\n      <td>Husband</td>\n      <td>White</td>\n      <td>Male</td>\n      <td>0</td>\n      <td>0</td>\n      <td>26</td>\n      <td>United-States</td>\n      <td>&lt;=50K</td>\n    </tr>\n  </tbody>\n</table>\n</div>"
     },
     "execution_count": 14,
     "metadata": {},
     "output_type": "execute_result"
    }
   ],
   "source": [
    "# concatenate the features and targets into one dataframe for pre-processing\n",
    "df = pd.concat([x, y], axis=1)\n",
    "df.sample(3)"
   ],
   "metadata": {
    "collapsed": false,
    "ExecuteTime": {
     "end_time": "2024-03-29T11:23:55.024975Z",
     "start_time": "2024-03-29T11:23:55.000717Z"
    }
   },
   "id": "fe59316e41c596c2",
   "execution_count": 14
  },
  {
   "cell_type": "code",
   "outputs": [
    {
     "data": {
      "text/plain": "(98792, 15)"
     },
     "execution_count": 15,
     "metadata": {},
     "output_type": "execute_result"
    }
   ],
   "source": [
    "df.shape"
   ],
   "metadata": {
    "collapsed": false,
    "ExecuteTime": {
     "end_time": "2024-03-29T11:23:55.032299Z",
     "start_time": "2024-03-29T11:23:55.027343Z"
    }
   },
   "id": "a5d502c2ad7a5c9",
   "execution_count": 15
  },
  {
   "cell_type": "code",
   "outputs": [
    {
     "data": {
      "text/plain": "income\n<=50K     24698\n>50K      24698\n<=50K.    24698\n>50K.     24698\nName: count, dtype: int64"
     },
     "execution_count": 16,
     "metadata": {},
     "output_type": "execute_result"
    }
   ],
   "source": [
    "# view unique values with value counts\n",
    "df['income'].value_counts()"
   ],
   "metadata": {
    "collapsed": false,
    "ExecuteTime": {
     "end_time": "2024-03-29T11:23:55.043386Z",
     "start_time": "2024-03-29T11:23:55.033754Z"
    }
   },
   "id": "54200c6885278f60",
   "execution_count": 16
  },
  {
   "cell_type": "code",
   "outputs": [
    {
     "data": {
      "text/plain": "income\n0    49396\n1    49396\nName: count, dtype: int64"
     },
     "execution_count": 17,
     "metadata": {},
     "output_type": "execute_result"
    }
   ],
   "source": [
    "# method to make the problem into binary classification problem\n",
    "# 1 for income > 50K and 0 for <= 50K\n",
    "def process_income(income):\n",
    "    if income == '>50K.':\n",
    "        return 1\n",
    "    elif income == '<=50K.':\n",
    "        return 0\n",
    "    elif income == '>50K':\n",
    "        return 1\n",
    "    elif income == '<=50K':\n",
    "        return 0\n",
    "    \n",
    "df['income'] = df['income'].apply(process_income)\n",
    "df['income'].value_counts()"
   ],
   "metadata": {
    "collapsed": false,
    "ExecuteTime": {
     "end_time": "2024-03-29T11:23:55.072721Z",
     "start_time": "2024-03-29T11:23:55.045186Z"
    }
   },
   "id": "7c696d95557ac8eb",
   "execution_count": 17
  },
  {
   "cell_type": "code",
   "outputs": [],
   "source": [
    "import seaborn as sns"
   ],
   "metadata": {
    "collapsed": false,
    "ExecuteTime": {
     "end_time": "2024-03-29T11:23:55.077538Z",
     "start_time": "2024-03-29T11:23:55.074169Z"
    }
   },
   "id": "8a57b5ce1b6403fd",
   "execution_count": 18
  },
  {
   "cell_type": "code",
   "outputs": [
    {
     "data": {
      "text/plain": "<Axes: >"
     },
     "execution_count": 19,
     "metadata": {},
     "output_type": "execute_result"
    },
    {
     "data": {
      "text/plain": "<Figure size 640x480 with 2 Axes>",
      "image/png": "[encoded data removed]"
     },
     "metadata": {},
     "output_type": "display_data"
    }
   ],
   "source": [
    "# view co-relations using heatmap\n",
    "\n",
    "numerical_features = df.select_dtypes(include=['int64'])\n",
    "corr_metrics = numerical_features.corr()\n",
    "color_map = sns.light_palette(\"seagreen\", as_cmap=True)\n",
    "sns.heatmap(corr_metrics, annot=True, cmap=color_map)"
   ],
   "metadata": {
    "collapsed": false,
    "ExecuteTime": {
     "end_time": "2024-03-29T11:23:55.268896Z",
     "start_time": "2024-03-29T11:23:55.079569Z"
    }
   },
   "id": "3f41ec30b72deba8",
   "execution_count": 19
  },
  {
   "cell_type": "code",
   "outputs": [],
   "source": [
    "# drop non dependent variables\n",
    "df = df.drop(columns='fnlwgt')"
   ],
   "metadata": {
    "collapsed": false,
    "ExecuteTime": {
     "end_time": "2024-03-29T11:23:55.279799Z",
     "start_time": "2024-03-29T11:23:55.270092Z"
    }
   },
   "id": "4987705c4729b611",
   "execution_count": 20
  },
  {
   "cell_type": "code",
   "outputs": [
    {
     "data": {
      "text/plain": "count    98792.000000\nmean        40.575239\nstd         13.015335\nmin         17.000000\n25%         31.000000\n50%         40.000000\n75%         49.000000\nmax         90.000000\nName: age, dtype: float64"
     },
     "execution_count": 21,
     "metadata": {},
     "output_type": "execute_result"
    }
   ],
   "source": [
    "df['age'].describe()"
   ],
   "metadata": {
    "collapsed": false,
    "ExecuteTime": {
     "end_time": "2024-03-29T11:23:55.290342Z",
     "start_time": "2024-03-29T11:23:55.280772Z"
    }
   },
   "id": "51c6a18e18e8550c",
   "execution_count": 21
  },
  {
   "cell_type": "code",
   "outputs": [
    {
     "data": {
      "text/plain": "<Figure size 640x480 with 1 Axes>",
      "image/png": "[encoded data removed]"
     },
     "metadata": {},
     "output_type": "display_data"
    }
   ],
   "source": [
    "# visualise how the age values are distributed\n",
    "plt.hist(df['age'], bins=20)\n",
    "plt.title('Age distribution')\n",
    "plt.show()"
   ],
   "metadata": {
    "collapsed": false,
    "ExecuteTime": {
     "end_time": "2024-03-29T11:23:55.387184Z",
     "start_time": "2024-03-29T11:23:55.291659Z"
    }
   },
   "id": "dd1ea034975d6849",
   "execution_count": 22
  },
  {
   "cell_type": "code",
   "outputs": [
    {
     "data": {
      "text/plain": "age\n90    109\n81     74\n83     21\n82     19\n84     18\n88     13\n85     11\n89      5\n87      4\n86      1\nName: count, dtype: int64"
     },
     "execution_count": 23,
     "metadata": {},
     "output_type": "execute_result"
    }
   ],
   "source": [
    "# view the frequency of ages greater than 80\n",
    "age_filter_80 = (df['age'] > 80)\n",
    "df.loc[age_filter_80]['age'].value_counts()"
   ],
   "metadata": {
    "collapsed": false,
    "ExecuteTime": {
     "end_time": "2024-03-29T11:23:55.392385Z",
     "start_time": "2024-03-29T11:23:55.388090Z"
    }
   },
   "id": "92aec0e4322f5b28",
   "execution_count": 23
  },
  {
   "cell_type": "code",
   "outputs": [
    {
     "data": {
      "text/plain": "age\n90    109\n81     74\n83     21\n82     19\n84     18\n88     13\n85     11\n87      5\n89      5\nName: count, dtype: int64"
     },
     "execution_count": 24,
     "metadata": {},
     "output_type": "execute_result"
    }
   ],
   "source": [
    "# replace age values between 84 and 90 by mean value of 84 and 90 to increase the record count for training\n",
    "df['age'] = df['age'].apply(lambda x : 87 if x == 86 else x)\n",
    "df.loc[age_filter_80]['age'].value_counts()"
   ],
   "metadata": {
    "collapsed": false,
    "ExecuteTime": {
     "end_time": "2024-03-29T11:23:55.415422Z",
     "start_time": "2024-03-29T11:23:55.393608Z"
    }
   },
   "id": "17b37a624c004ae9",
   "execution_count": 24
  },
  {
   "cell_type": "code",
   "outputs": [
    {
     "data": {
      "text/plain": "2259"
     },
     "execution_count": 25,
     "metadata": {},
     "output_type": "execute_result"
    }
   ],
   "source": [
    "# as the workclass contains null values, view the count\n",
    "df['workclass'].isnull().sum()"
   ],
   "metadata": {
    "collapsed": false,
    "ExecuteTime": {
     "end_time": "2024-03-29T11:23:55.421382Z",
     "start_time": "2024-03-29T11:23:55.416580Z"
    }
   },
   "id": "70aa557416ebb5ce",
   "execution_count": 25
  },
  {
   "cell_type": "code",
   "outputs": [
    {
     "data": {
      "text/plain": "workclass\nPrivate             66420\nSelf-emp-not-inc     8247\nLocal-gov            6861\nSelf-emp-inc         5011\nState-gov            4192\nFederal-gov          3565\nUnknown              2259\n?                    2191\nWithout-pay            35\nNever-worked           11\nName: count, dtype: int64"
     },
     "execution_count": 26,
     "metadata": {},
     "output_type": "execute_result"
    }
   ],
   "source": [
    "# fill the null values using a new class calles 'Unknown'\n",
    "df['workclass'] = df['workclass'].fillna('Unknown')\n",
    "df['workclass'].value_counts()"
   ],
   "metadata": {
    "collapsed": false,
    "ExecuteTime": {
     "end_time": "2024-03-29T11:23:55.430956Z",
     "start_time": "2024-03-29T11:23:55.422143Z"
    }
   },
   "id": "895501570e7d82f6",
   "execution_count": 26
  },
  {
   "cell_type": "code",
   "outputs": [
    {
     "data": {
      "text/plain": "income\n0    36\n1    10\nName: count, dtype: int64"
     },
     "execution_count": 27,
     "metadata": {},
     "output_type": "execute_result"
    }
   ],
   "source": [
    "# view the values counts of income for who were Without-pay and Never-worked\n",
    "workclass_filt_wp = (df['workclass'] == 'Without-pay')\n",
    "workclass_filt_nw = (df['workclass'] == 'Never-worked')\n",
    "\n",
    "df.loc[workclass_filt_wp | workclass_filt_nw, 'income'].value_counts()"
   ],
   "metadata": {
    "collapsed": false,
    "ExecuteTime": {
     "end_time": "2024-03-29T11:23:55.443695Z",
     "start_time": "2024-03-29T11:23:55.431877Z"
    }
   },
   "id": "90630507b372f2b",
   "execution_count": 27
  },
  {
   "cell_type": "code",
   "outputs": [
    {
     "data": {
      "text/plain": "workclass\nPrivate             66420\nSelf-emp-not-inc     8247\nLocal-gov            6861\nSelf-emp-inc         5011\nUnknown              4450\nState-gov            4192\nFederal-gov          3565\nUn-employed            46\nName: count, dtype: int64"
     },
     "execution_count": 28,
     "metadata": {},
     "output_type": "execute_result"
    }
   ],
   "source": [
    "# method to rename '?' value to 'Unknown' and get 'Without-pay' and 'Never-worked' to 'Un-employed' class to increase the amount of records\n",
    "def process_workclass(workclass):\n",
    "    if workclass == '?':\n",
    "        return 'Unknown'\n",
    "    elif workclass in ['Without-pay', 'Never-worked']:\n",
    "        return 'Un-employed'\n",
    "    else:\n",
    "        return workclass\n",
    "    \n",
    "df['workclass'] = df['workclass'].apply(process_workclass)\n",
    "df['workclass'].value_counts()"
   ],
   "metadata": {
    "collapsed": false,
    "ExecuteTime": {
     "end_time": "2024-03-29T11:23:55.468625Z",
     "start_time": "2024-03-29T11:23:55.445238Z"
    }
   },
   "id": "649749f03e9faa58",
   "execution_count": 28
  },
  {
   "cell_type": "code",
   "outputs": [
    {
     "data": {
      "text/plain": "education\nHS-grad         28174\nSome-college    20402\nBachelors       20254\nMasters          7746\nAssoc-voc        4258\nAssoc-acdm       3396\nProf-school      2781\n11th             2747\n10th             2134\nDoctorate        2059\n7th-8th          1480\n9th              1128\n12th             1008\n5th-6th           777\n1st-4th           327\nPreschool         121\nName: count, dtype: int64"
     },
     "execution_count": 29,
     "metadata": {},
     "output_type": "execute_result"
    }
   ],
   "source": [
    "# view the frequency of classes in education feature\n",
    "df['education'].value_counts()"
   ],
   "metadata": {
    "collapsed": false,
    "ExecuteTime": {
     "end_time": "2024-03-29T11:23:55.486315Z",
     "start_time": "2024-03-29T11:23:55.478991Z"
    }
   },
   "id": "ede7ca8668b32f55",
   "execution_count": 29
  },
  {
   "cell_type": "code",
   "outputs": [
    {
     "data": {
      "text/plain": "income\n0    113\n1      8\nName: count, dtype: int64"
     },
     "execution_count": 30,
     "metadata": {},
     "output_type": "execute_result"
    }
   ],
   "source": [
    "# check for outliers\n",
    "filt_preschool = (df['education'] == 'Preschool')\n",
    "df.loc[filt_preschool, 'income'].value_counts()"
   ],
   "metadata": {
    "collapsed": false,
    "ExecuteTime": {
     "end_time": "2024-03-29T11:23:55.499443Z",
     "start_time": "2024-03-29T11:23:55.487491Z"
    }
   },
   "id": "5d8ae8785e9b8dc9",
   "execution_count": 30
  },
  {
   "cell_type": "code",
   "outputs": [
    {
     "data": {
      "text/plain": "education-num\n9     28174\n10    20402\n13    20254\n14     7746\n11     4258\n12     3396\n15     2781\n7      2747\n6      2134\n16     2059\n4      1480\n5      1128\n8      1008\n3       777\n2       327\n1       121\nName: count, dtype: int64"
     },
     "execution_count": 31,
     "metadata": {},
     "output_type": "execute_result"
    }
   ],
   "source": [
    "# check the frequency of education-num values\n",
    "df['education-num'].value_counts()"
   ],
   "metadata": {
    "collapsed": false,
    "ExecuteTime": {
     "end_time": "2024-03-29T11:23:55.505147Z",
     "start_time": "2024-03-29T11:23:55.500808Z"
    }
   },
   "id": "fab074c010376617",
   "execution_count": 31
  },
  {
   "cell_type": "code",
   "outputs": [
    {
     "data": {
      "text/plain": "marital-status\nMarried-civ-spouse       58804\nNever-married            23438\nDivorced                 10703\nWidowed                   2424\nSeparated                 2302\nMarried-spouse-absent     1032\nMarried-AF-spouse           89\nName: count, dtype: int64"
     },
     "execution_count": 32,
     "metadata": {},
     "output_type": "execute_result"
    }
   ],
   "source": [
    "# check the frequency of marital-status values\n",
    "df['marital-status'].value_counts()"
   ],
   "metadata": {
    "collapsed": false,
    "ExecuteTime": {
     "end_time": "2024-03-29T11:23:55.512853Z",
     "start_time": "2024-03-29T11:23:55.506611Z"
    }
   },
   "id": "86178803ec425bd5",
   "execution_count": 32
  },
  {
   "cell_type": "code",
   "outputs": [
    {
     "data": {
      "text/plain": "income\n1    53\n0    36\nName: count, dtype: int64"
     },
     "execution_count": 33,
     "metadata": {},
     "output_type": "execute_result"
    }
   ],
   "source": [
    "# check for the target value balance for Married-AF-spouse\n",
    "filt_af_spouse = df['marital-status'] == 'Married-AF-spouse'\n",
    "df.loc[filt_af_spouse, 'income'].value_counts()"
   ],
   "metadata": {
    "collapsed": false,
    "ExecuteTime": {
     "end_time": "2024-03-29T11:23:55.520851Z",
     "start_time": "2024-03-29T11:23:55.514199Z"
    }
   },
   "id": "fe289ef0afacc40d",
   "execution_count": 33
  },
  {
   "cell_type": "code",
   "outputs": [
    {
     "data": {
      "text/plain": "2263"
     },
     "execution_count": 34,
     "metadata": {},
     "output_type": "execute_result"
    }
   ],
   "source": [
    "# as the occupation contains null values, view the count\n",
    "df['occupation'].isnull().sum()"
   ],
   "metadata": {
    "collapsed": false,
    "ExecuteTime": {
     "end_time": "2024-03-29T11:23:55.526541Z",
     "start_time": "2024-03-29T11:23:55.521844Z"
    }
   },
   "id": "83ff163823570707",
   "execution_count": 34
  },
  {
   "cell_type": "code",
   "outputs": [
    {
     "data": {
      "text/plain": "occupation\nExec-managerial      16545\nProf-specialty       16266\nCraft-repair         12056\nSales                11628\nAdm-clerical          9699\nOther-service         7134\nMachine-op-inspct     5074\nTransport-moving      4426\nHandlers-cleaners     3225\nTech-support          3192\nFarming-fishing       2524\nUnknown               2263\n?                     2198\nProtective-serv       2179\nPriv-house-serv        339\nArmed-Forces            44\nName: count, dtype: int64"
     },
     "execution_count": 35,
     "metadata": {},
     "output_type": "execute_result"
    }
   ],
   "source": [
    "# fill null values with new class 'Unknown'\n",
    "df['occupation'] = df['occupation'].fillna('Unknown')\n",
    "df['occupation'].value_counts()"
   ],
   "metadata": {
    "collapsed": false,
    "ExecuteTime": {
     "end_time": "2024-03-29T11:23:55.537209Z",
     "start_time": "2024-03-29T11:23:55.527820Z"
    }
   },
   "id": "e38c3e029f3b05",
   "execution_count": 35
  },
  {
   "cell_type": "code",
   "outputs": [],
   "source": [
    "# fill '?' values with 'Unknown' value\n",
    "df['occupation'] = df['occupation'].apply(lambda x : 'Unknown' if x == '?' else x)"
   ],
   "metadata": {
    "collapsed": false,
    "ExecuteTime": {
     "end_time": "2024-03-29T11:23:55.550710Z",
     "start_time": "2024-03-29T11:23:55.538314Z"
    }
   },
   "id": "f8bb239c7992dca2",
   "execution_count": 36
  },
  {
   "cell_type": "code",
   "outputs": [
    {
     "data": {
      "text/plain": "income\n1    32\n0    12\nName: count, dtype: int64"
     },
     "execution_count": 37,
     "metadata": {},
     "output_type": "execute_result"
    }
   ],
   "source": [
    "# check for outliers\n",
    "filt_af = (df['occupation'] == 'Armed-Forces')\n",
    "df.loc[filt_af, 'income'].value_counts()"
   ],
   "metadata": {
    "collapsed": false,
    "ExecuteTime": {
     "end_time": "2024-03-29T11:23:55.560006Z",
     "start_time": "2024-03-29T11:23:55.551822Z"
    }
   },
   "id": "e661b641ccda82e6",
   "execution_count": 37
  },
  {
   "cell_type": "code",
   "outputs": [
    {
     "data": {
      "text/plain": "relationship\nHusband           51926\nNot-in-family     20346\nOwn-child         10426\nUnmarried          7651\nWife               6291\nOther-relative     2152\nName: count, dtype: int64"
     },
     "execution_count": 38,
     "metadata": {},
     "output_type": "execute_result"
    }
   ],
   "source": [
    "# check for the frequency of relationship values\n",
    "df['relationship'].value_counts()"
   ],
   "metadata": {
    "collapsed": false,
    "ExecuteTime": {
     "end_time": "2024-03-29T11:23:55.567516Z",
     "start_time": "2024-03-29T11:23:55.562207Z"
    }
   },
   "id": "779692d958748e97",
   "execution_count": 38
  },
  {
   "cell_type": "code",
   "outputs": [
    {
     "data": {
      "text/plain": "marital-status\nDivorced                 3677\nNever-married            1803\nSeparated                 998\nWidowed                   897\nMarried-spouse-absent     276\nName: count, dtype: int64"
     },
     "execution_count": 39,
     "metadata": {},
     "output_type": "execute_result"
    }
   ],
   "source": [
    "# check if the 'Unmarried' values are accurate\n",
    "filt_unmarried = (df['relationship'] == 'Unmarried')\n",
    "df.loc[filt_unmarried, 'marital-status'].value_counts()"
   ],
   "metadata": {
    "collapsed": false,
    "ExecuteTime": {
     "end_time": "2024-03-29T11:23:55.577045Z",
     "start_time": "2024-03-29T11:23:55.569246Z"
    }
   },
   "id": "ecb9afd6d715ac30",
   "execution_count": 39
  },
  {
   "cell_type": "code",
   "outputs": [
    {
     "data": {
      "text/plain": "race\nWhite                 86355\nBlack                  7820\nAsian-Pac-Islander     3124\nAmer-Indian-Eskimo      779\nOther                   714\nName: count, dtype: int64"
     },
     "execution_count": 40,
     "metadata": {},
     "output_type": "execute_result"
    }
   ],
   "source": [
    "# check for the frequency of race values\n",
    "df['race'].value_counts()"
   ],
   "metadata": {
    "collapsed": false,
    "ExecuteTime": {
     "end_time": "2024-03-29T11:23:55.582492Z",
     "start_time": "2024-03-29T11:23:55.577810Z"
    }
   },
   "id": "6378bb8ac9ba254c",
   "execution_count": 40
  },
  {
   "cell_type": "code",
   "outputs": [
    {
     "data": {
      "text/plain": "sex\nMale      72078\nFemale    26714\nName: count, dtype: int64"
     },
     "execution_count": 41,
     "metadata": {},
     "output_type": "execute_result"
    }
   ],
   "source": [
    "# check for the frequency of sex values\n",
    "df['sex'].value_counts()"
   ],
   "metadata": {
    "collapsed": false,
    "ExecuteTime": {
     "end_time": "2024-03-29T11:23:55.587596Z",
     "start_time": "2024-03-29T11:23:55.583126Z"
    }
   },
   "id": "d7290c3b8a26ba03",
   "execution_count": 41
  },
  {
   "cell_type": "code",
   "outputs": [
    {
     "data": {
      "text/plain": "count    98792.000000\nmean      2108.506094\nstd      10689.223859\nmin          0.000000\n25%          0.000000\n50%          0.000000\n75%          0.000000\nmax      99999.000000\nName: capital-gain, dtype: float64"
     },
     "execution_count": 42,
     "metadata": {},
     "output_type": "execute_result"
    }
   ],
   "source": [
    "df['capital-gain'].describe()"
   ],
   "metadata": {
    "collapsed": false,
    "ExecuteTime": {
     "end_time": "2024-03-29T11:23:55.592807Z",
     "start_time": "2024-03-29T11:23:55.588167Z"
    }
   },
   "id": "2653f69ac413797b",
   "execution_count": 42
  },
  {
   "cell_type": "code",
   "outputs": [
    {
     "data": {
      "text/plain": "86186"
     },
     "execution_count": 43,
     "metadata": {},
     "output_type": "execute_result"
    }
   ],
   "source": [
    "# check how many 0 in the capital-gain\n",
    "(df['capital-gain'] == 0).sum()"
   ],
   "metadata": {
    "collapsed": false,
    "ExecuteTime": {
     "end_time": "2024-03-29T11:23:55.596060Z",
     "start_time": "2024-03-29T11:23:55.593432Z"
    }
   },
   "id": "a88d2e3a96a2c924",
   "execution_count": 43
  },
  {
   "cell_type": "code",
   "outputs": [
    {
     "data": {
      "text/plain": "<Figure size 640x480 with 1 Axes>",
      "image/png": "[encoded data removed]"
     },
     "metadata": {},
     "output_type": "display_data"
    }
   ],
   "source": [
    "# check for outliers in capital-gain\n",
    "plt.boxplot(df['capital-gain'])\n",
    "plt.show()"
   ],
   "metadata": {
    "collapsed": false,
    "ExecuteTime": {
     "end_time": "2024-03-29T11:23:55.651153Z",
     "start_time": "2024-03-29T11:23:55.596714Z"
    }
   },
   "id": "690a185008968a34",
   "execution_count": 44
  },
  {
   "cell_type": "code",
   "outputs": [
    {
     "data": {
      "text/plain": "1043"
     },
     "execution_count": 45,
     "metadata": {},
     "output_type": "execute_result"
    }
   ],
   "source": [
    "# check if the outlier affects training process\n",
    "(df['capital-gain'] > 80000).sum()"
   ],
   "metadata": {
    "collapsed": false,
    "ExecuteTime": {
     "end_time": "2024-03-29T11:23:55.657682Z",
     "start_time": "2024-03-29T11:23:55.652721Z"
    }
   },
   "id": "d270909c2049dda",
   "execution_count": 45
  },
  {
   "cell_type": "code",
   "outputs": [],
   "source": [
    "import numpy as np"
   ],
   "metadata": {
    "collapsed": false,
    "ExecuteTime": {
     "end_time": "2024-03-29T11:23:55.661419Z",
     "start_time": "2024-03-29T11:23:55.658993Z"
    }
   },
   "id": "945b2d5c47d62284",
   "execution_count": 46
  },
  {
   "cell_type": "code",
   "outputs": [
    {
     "data": {
      "text/plain": "0.26477310665898335"
     },
     "execution_count": 47,
     "metadata": {},
     "output_type": "execute_result"
    }
   ],
   "source": [
    "# view the change of co-relation by handeling outliers\n",
    "filt_cp_gain_out = (df['capital-gain'] > 80000)\n",
    "df['handle_cp_gain'] = np.where(filt_cp_gain_out, np.mean(df[~filt_cp_gain_out]['capital-gain']), df['capital-gain'])\n",
    "df['income'].corr(df['handle_cp_gain'])"
   ],
   "metadata": {
    "collapsed": false,
    "ExecuteTime": {
     "end_time": "2024-03-29T11:23:55.679096Z",
     "start_time": "2024-03-29T11:23:55.663677Z"
    }
   },
   "id": "79343f9852786407",
   "execution_count": 47
  },
  {
   "cell_type": "code",
   "outputs": [
    {
     "data": {
      "text/plain": "   age         workclass  education  education-num      marital-status  \\\n0   39         State-gov  Bachelors             13       Never-married   \n1   50  Self-emp-not-inc  Bachelors             13  Married-civ-spouse   \n2   38           Private    HS-grad              9            Divorced   \n\n          occupation   relationship   race   sex  capital-gain  capital-loss  \\\n0       Adm-clerical  Not-in-family  White  Male          2174             0   \n1    Exec-managerial        Husband  White  Male             0             0   \n2  Handlers-cleaners  Not-in-family  White  Male             0             0   \n\n   hours-per-week native-country  income  capital-gain  \n0              40  United-States       0        2174.0  \n1              13  United-States       0           0.0  \n2              40  United-States       0           0.0  ",
      "text/html": "<div>\n<style scoped>\n    .dataframe tbody tr th:only-of-type {\n        vertical-align: middle;\n    }\n\n    .dataframe tbody tr th {\n        vertical-align: top;\n    }\n\n    .dataframe thead th {\n        text-align: right;\n    }\n</style>\n<table border=\"1\" class=\"dataframe\">\n  <thead>\n    <tr style=\"text-align: right;\">\n      <th></th>\n      <th>age</th>\n      <th>workclass</th>\n      <th>education</th>\n      <th>education-num</th>\n      <th>marital-status</th>\n      <th>occupation</th>\n      <th>relationship</th>\n      <th>race</th>\n      <th>sex</th>\n      <th>capital-gain</th>\n      <th>capital-loss</th>\n      <th>hours-per-week</th>\n      <th>native-country</th>\n      <th>income</th>\n      <th>capital-gain</th>\n    </tr>\n  </thead>\n  <tbody>\n    <tr>\n      <th>0</th>\n      <td>39</td>\n      <td>State-gov</td>\n      <td>Bachelors</td>\n      <td>13</td>\n      <td>Never-married</td>\n      <td>Adm-clerical</td>\n      <td>Not-in-family</td>\n      <td>White</td>\n      <td>Male</td>\n      <td>2174</td>\n      <td>0</td>\n      <td>40</td>\n      <td>United-States</td>\n      <td>0</td>\n      <td>2174.0</td>\n    </tr>\n    <tr>\n      <th>1</th>\n      <td>50</td>\n      <td>Self-emp-not-inc</td>\n      <td>Bachelors</td>\n      <td>13</td>\n      <td>Married-civ-spouse</td>\n      <td>Exec-managerial</td>\n      <td>Husband</td>\n      <td>White</td>\n      <td>Male</td>\n      <td>0</td>\n      <td>0</td>\n      <td>13</td>\n      <td>United-States</td>\n      <td>0</td>\n      <td>0.0</td>\n    </tr>\n    <tr>\n      <th>2</th>\n      <td>38</td>\n      <td>Private</td>\n      <td>HS-grad</td>\n      <td>9</td>\n      <td>Divorced</td>\n      <td>Handlers-cleaners</td>\n      <td>Not-in-family</td>\n      <td>White</td>\n      <td>Male</td>\n      <td>0</td>\n      <td>0</td>\n      <td>40</td>\n      <td>United-States</td>\n      <td>0</td>\n      <td>0.0</td>\n    </tr>\n  </tbody>\n</table>\n</div>"
     },
     "execution_count": 48,
     "metadata": {},
     "output_type": "execute_result"
    }
   ],
   "source": [
    "# save handeled capital-gain values\n",
    "df.rename(columns={'handle_cp_gain': 'capital-gain'}, inplace=True)\n",
    "df.head(3)"
   ],
   "metadata": {
    "collapsed": false,
    "ExecuteTime": {
     "end_time": "2024-03-29T11:23:55.687108Z",
     "start_time": "2024-03-29T11:23:55.680307Z"
    }
   },
   "id": "adc4903b873885c2",
   "execution_count": 48
  },
  {
   "cell_type": "code",
   "outputs": [
    {
     "data": {
      "text/plain": "count    98792.000000\nmean       123.632045\nstd        478.755249\nmin          0.000000\n25%          0.000000\n50%          0.000000\n75%          0.000000\nmax       4356.000000\nName: capital-loss, dtype: float64"
     },
     "execution_count": 49,
     "metadata": {},
     "output_type": "execute_result"
    }
   ],
   "source": [
    "df['capital-loss'].describe()"
   ],
   "metadata": {
    "collapsed": false,
    "ExecuteTime": {
     "end_time": "2024-03-29T11:23:55.694609Z",
     "start_time": "2024-03-29T11:23:55.688610Z"
    }
   },
   "id": "2721598c1a74da0f",
   "execution_count": 49
  },
  {
   "cell_type": "code",
   "outputs": [
    {
     "data": {
      "text/plain": "92450"
     },
     "execution_count": 50,
     "metadata": {},
     "output_type": "execute_result"
    }
   ],
   "source": [
    "# check how many 0 in the capital-loss\n",
    "(df['capital-loss'] == 0).sum()"
   ],
   "metadata": {
    "collapsed": false,
    "ExecuteTime": {
     "end_time": "2024-03-29T11:23:55.699611Z",
     "start_time": "2024-03-29T11:23:55.695934Z"
    }
   },
   "id": "cd89c40112493966",
   "execution_count": 50
  },
  {
   "cell_type": "code",
   "outputs": [
    {
     "data": {
      "text/plain": "<Figure size 640x480 with 1 Axes>",
      "image/png": "[encoded data removed]"
     },
     "metadata": {},
     "output_type": "display_data"
    }
   ],
   "source": [
    "plt.boxplot(df['capital-loss'])\n",
    "plt.show()"
   ],
   "metadata": {
    "collapsed": false,
    "ExecuteTime": {
     "end_time": "2024-03-29T11:23:55.754064Z",
     "start_time": "2024-03-29T11:23:55.700714Z"
    }
   },
   "id": "e73ccc928111017",
   "execution_count": 51
  },
  {
   "cell_type": "code",
   "outputs": [
    {
     "data": {
      "text/plain": "36"
     },
     "execution_count": 52,
     "metadata": {},
     "output_type": "execute_result"
    }
   ],
   "source": [
    "(df['capital-loss'] > 3000).sum()"
   ],
   "metadata": {
    "collapsed": false,
    "ExecuteTime": {
     "end_time": "2024-03-29T11:23:55.758803Z",
     "start_time": "2024-03-29T11:23:55.754911Z"
    }
   },
   "id": "fb3cc6a3df6ca318",
   "execution_count": 52
  },
  {
   "cell_type": "code",
   "outputs": [
    {
     "data": {
      "text/plain": "0.14508237278756927"
     },
     "execution_count": 53,
     "metadata": {},
     "output_type": "execute_result"
    }
   ],
   "source": [
    "# view the change of co-relation by handeling outliers\n",
    "filt_cp_loss_out = (df['capital-loss'] > 3000)\n",
    "df['handle_cp_loss'] = np.where(filt_cp_loss_out, np.mean(df[~filt_cp_loss_out]['capital-loss']), df['capital-loss'])\n",
    "df['income'].corr(df['handle_cp_loss'])"
   ],
   "metadata": {
    "collapsed": false,
    "ExecuteTime": {
     "end_time": "2024-03-29T11:23:55.773335Z",
     "start_time": "2024-03-29T11:23:55.759889Z"
    }
   },
   "id": "d735665d5d29f0a6",
   "execution_count": 53
  },
  {
   "cell_type": "code",
   "outputs": [],
   "source": [
    "# drop non dependent variables\n",
    "df = df.drop(columns=['capital-loss'])"
   ],
   "metadata": {
    "collapsed": false,
    "ExecuteTime": {
     "end_time": "2024-03-29T11:23:55.782283Z",
     "start_time": "2024-03-29T11:23:55.774377Z"
    }
   },
   "id": "b37d2fbb9e3b56d9",
   "execution_count": 54
  },
  {
   "cell_type": "code",
   "outputs": [
    {
     "data": {
      "text/plain": "count    98792.000000\nmean        42.112570\nstd         12.235764\nmin          1.000000\n25%         40.000000\n50%         40.000000\n75%         48.000000\nmax         99.000000\nName: hours-per-week, dtype: float64"
     },
     "execution_count": 55,
     "metadata": {},
     "output_type": "execute_result"
    }
   ],
   "source": [
    "df['hours-per-week'].describe()"
   ],
   "metadata": {
    "collapsed": false,
    "ExecuteTime": {
     "end_time": "2024-03-29T11:23:55.788984Z",
     "start_time": "2024-03-29T11:23:55.783157Z"
    }
   },
   "id": "67a06b5933a4e85d",
   "execution_count": 55
  },
  {
   "cell_type": "code",
   "outputs": [
    {
     "data": {
      "text/plain": "<Figure size 640x480 with 1 Axes>",
      "image/png": "[encoded data removed]"
     },
     "metadata": {},
     "output_type": "display_data"
    }
   ],
   "source": [
    "plt.boxplot(df['hours-per-week'])\n",
    "plt.show()"
   ],
   "metadata": {
    "collapsed": false,
    "ExecuteTime": {
     "end_time": "2024-03-29T11:23:55.846460Z",
     "start_time": "2024-03-29T11:23:55.790113Z"
    }
   },
   "id": "ef205f9ebcfe6fe2",
   "execution_count": 56
  },
  {
   "cell_type": "code",
   "outputs": [
    {
     "data": {
      "text/plain": "858"
     },
     "execution_count": 57,
     "metadata": {},
     "output_type": "execute_result"
    }
   ],
   "source": [
    "# as the native-country contains null values, view the count\n",
    "df['native-country'].isnull().sum()"
   ],
   "metadata": {
    "collapsed": false,
    "ExecuteTime": {
     "end_time": "2024-03-29T11:23:55.852230Z",
     "start_time": "2024-03-29T11:23:55.847174Z"
    }
   },
   "id": "8753c3d21b632b1a",
   "execution_count": 57
  },
  {
   "cell_type": "code",
   "outputs": [
    {
     "data": {
      "text/plain": "native-country\nUnited-States                 89348\nMexico                         1340\n?                               923\nOther                           858\nPhilippines                     633\nCanada                          420\nGermany                         413\nIndia                           392\nEngland                         318\nPuerto-Rico                     307\nCuba                            276\nChina                           262\nEl-Salvador                     242\nItaly                           223\nJapan                           214\nSouth                           201\nJamaica                         170\nPoland                          168\nDominican-Republic              158\nTaiwan                          155\nIran                            141\nPortugal                        134\nGreece                          134\nColumbia                        130\nHaiti                           126\nVietnam                         125\nGuatemala                       113\nFrance                          101\nIreland                          92\nPeru                             76\nEcuador                          75\nNicaragua                        71\nCambodia                         67\nHong                             58\nYugoslavia                       56\nThailand                         48\nHungary                          45\nTrinadad&Tobago                  43\nScotland                         37\nHonduras                         36\nOutlying-US(Guam-USVI-etc)       32\nLaos                             30\nHoland-Netherlands                1\nName: count, dtype: int64"
     },
     "execution_count": 58,
     "metadata": {},
     "output_type": "execute_result"
    }
   ],
   "source": [
    "# fill null values with new class 'Other'\n",
    "df['native-country'] = df['native-country'].fillna('Other')\n",
    "df['native-country'].value_counts()"
   ],
   "metadata": {
    "collapsed": false,
    "ExecuteTime": {
     "end_time": "2024-03-29T11:23:55.864093Z",
     "start_time": "2024-03-29T11:23:55.853464Z"
    }
   },
   "id": "c026ffa4bd8dffe3",
   "execution_count": 58
  },
  {
   "cell_type": "code",
   "outputs": [
    {
     "data": {
      "text/plain": "native-country\nUnited-States                 89348\nOther                          1782\nMexico                         1340\nPhilippines                     633\nCanada                          420\nGermany                         413\nIndia                           392\nEngland                         318\nPuerto-Rico                     307\nCuba                            276\nChina                           262\nEl-Salvador                     242\nItaly                           223\nJapan                           214\nSouth                           201\nJamaica                         170\nPoland                          168\nDominican-Republic              158\nTaiwan                          155\nIran                            141\nGreece                          134\nPortugal                        134\nColumbia                        130\nHaiti                           126\nVietnam                         125\nGuatemala                       113\nFrance                          101\nIreland                          92\nPeru                             76\nEcuador                          75\nNicaragua                        71\nCambodia                         67\nHong                             58\nYugoslavia                       56\nThailand                         48\nHungary                          45\nTrinadad&Tobago                  43\nScotland                         37\nHonduras                         36\nOutlying-US(Guam-USVI-etc)       32\nLaos                             30\nName: count, dtype: int64"
     },
     "execution_count": 59,
     "metadata": {},
     "output_type": "execute_result"
    }
   ],
   "source": [
    "# replace '?' values with 'Other'\n",
    "df['native-country'] = df['native-country'].apply(lambda x: 'Other' if x in ['?', 'Holand-Netherlands'] else x)\n",
    "df['native-country'].value_counts()"
   ],
   "metadata": {
    "collapsed": false,
    "ExecuteTime": {
     "end_time": "2024-03-29T11:23:55.881211Z",
     "start_time": "2024-03-29T11:23:55.865297Z"
    }
   },
   "id": "989e74c080b3b027",
   "execution_count": 59
  },
  {
   "cell_type": "code",
   "outputs": [
    {
     "name": "stdout",
     "output_type": "stream",
     "text": [
      "<class 'pandas.core.frame.DataFrame'>\n",
      "RangeIndex: 98792 entries, 0 to 98791\n",
      "Data columns (total 15 columns):\n",
      " #   Column          Non-Null Count  Dtype  \n",
      "---  ------          --------------  -----  \n",
      " 0   age             98792 non-null  int64  \n",
      " 1   workclass       98792 non-null  object \n",
      " 2   education       98792 non-null  object \n",
      " 3   education-num   98792 non-null  int64  \n",
      " 4   marital-status  98792 non-null  object \n",
      " 5   occupation      98792 non-null  object \n",
      " 6   relationship    98792 non-null  object \n",
      " 7   race            98792 non-null  object \n",
      " 8   sex             98792 non-null  object \n",
      " 9   capital-gain    98792 non-null  int64  \n",
      " 10  hours-per-week  98792 non-null  int64  \n",
      " 11  native-country  98792 non-null  object \n",
      " 12  income          98792 non-null  int64  \n",
      " 13  capital-gain    98792 non-null  float64\n",
      " 14  handle_cp_loss  98792 non-null  float64\n",
      "dtypes: float64(2), int64(5), object(8)\n",
      "memory usage: 11.3+ MB\n"
     ]
    }
   ],
   "source": [
    "df.info()"
   ],
   "metadata": {
    "collapsed": false,
    "ExecuteTime": {
     "end_time": "2024-03-29T11:23:55.901723Z",
     "start_time": "2024-03-29T11:23:55.882033Z"
    }
   },
   "id": "7c3a05dde29f5571",
   "execution_count": 60
  },
  {
   "cell_type": "code",
   "outputs": [],
   "source": [
    "# seperate features and targets for training\n",
    "x = df.drop(columns=['income'])\n",
    "y = df['income']"
   ],
   "metadata": {
    "collapsed": false,
    "ExecuteTime": {
     "end_time": "2024-03-29T11:23:55.911957Z",
     "start_time": "2024-03-29T11:23:55.902783Z"
    }
   },
   "id": "9fe2edc4e548b4fe",
   "execution_count": 61
  },
  {
   "cell_type": "code",
   "outputs": [],
   "source": [
    "# One-Hot-Encoding for categorical features\n",
    "x = pd.get_dummies(x)"
   ],
   "metadata": {
    "collapsed": false,
    "ExecuteTime": {
     "end_time": "2024-03-29T11:23:55.964528Z",
     "start_time": "2024-03-29T11:23:55.912740Z"
    }
   },
   "id": "1e1f2f2a4afc79ec",
   "execution_count": 62
  },
  {
   "cell_type": "code",
   "outputs": [],
   "source": [
    "from sklearn.model_selection import train_test_split"
   ],
   "metadata": {
    "collapsed": false,
    "ExecuteTime": {
     "end_time": "2024-03-29T11:23:55.968290Z",
     "start_time": "2024-03-29T11:23:55.965727Z"
    }
   },
   "id": "5fbb21c5f1e4f5dd",
   "execution_count": 63
  },
  {
   "cell_type": "code",
   "outputs": [
    {
     "data": {
      "text/plain": "((59275, 106), (39517, 106))"
     },
     "execution_count": 64,
     "metadata": {},
     "output_type": "execute_result"
    }
   ],
   "source": [
    "# split the dataset 6 : 4\n",
    "x_train, x_test, y_train, y_test = train_test_split(x, y, test_size=0.4, random_state=42)\n",
    "x_train.shape, x_test.shape"
   ],
   "metadata": {
    "collapsed": false,
    "ExecuteTime": {
     "end_time": "2024-03-29T11:23:55.985386Z",
     "start_time": "2024-03-29T11:23:55.969003Z"
    }
   },
   "id": "d9a1cde53635002",
   "execution_count": 64
  },
  {
   "cell_type": "code",
   "outputs": [
    {
     "data": {
      "text/plain": "(24317, 107)"
     },
     "execution_count": 65,
     "metadata": {},
     "output_type": "execute_result"
    }
   ],
   "source": [
    "# concatenate the features and targets into one dataframe for dropping duplicated samples in testing set\n",
    "df_test = pd.concat([x_test, y_test], axis=1)\n",
    "df_test.drop_duplicates().shape"
   ],
   "metadata": {
    "collapsed": false,
    "ExecuteTime": {
     "end_time": "2024-03-29T11:23:56.018157Z",
     "start_time": "2024-03-29T11:23:55.986473Z"
    }
   },
   "id": "4fe9f21d52fc9862",
   "execution_count": 65
  },
  {
   "cell_type": "code",
   "outputs": [
    {
     "data": {
      "text/plain": "((24317, 106), (24317,))"
     },
     "execution_count": 66,
     "metadata": {},
     "output_type": "execute_result"
    }
   ],
   "source": [
    "# make sure the testing set has no duplicated samples\n",
    "df_test = df_test.drop_duplicates()\n",
    "y_test = df_test['income']\n",
    "x_test = df_test.drop(columns=['income'])\n",
    "x_test.shape, y_test.shape"
   ],
   "metadata": {
    "collapsed": false,
    "ExecuteTime": {
     "end_time": "2024-03-29T11:23:56.047161Z",
     "start_time": "2024-03-29T11:23:56.019462Z"
    }
   },
   "id": "cafd8a086dce68c7",
   "execution_count": 66
  },
  {
   "cell_type": "code",
   "outputs": [
    {
     "data": {
      "text/plain": "income\n0    15792\n1     8525\nName: count, dtype: int64"
     },
     "execution_count": 67,
     "metadata": {},
     "output_type": "execute_result"
    }
   ],
   "source": [
    "# check the values counts of target in testing set to evaluate the result of confusion_matrix\n",
    "y_test.value_counts()"
   ],
   "metadata": {
    "collapsed": false,
    "ExecuteTime": {
     "end_time": "2024-03-29T11:23:56.051361Z",
     "start_time": "2024-03-29T11:23:56.047856Z"
    }
   },
   "id": "f8418ff4fb933ed9",
   "execution_count": 67
  },
  {
   "cell_type": "code",
   "outputs": [],
   "source": [
    "from sklearn.naive_bayes import BernoulliNB\n",
    "from sklearn.metrics import accuracy_score"
   ],
   "metadata": {
    "collapsed": false,
    "ExecuteTime": {
     "end_time": "2024-03-29T11:23:56.056728Z",
     "start_time": "2024-03-29T11:23:56.052501Z"
    }
   },
   "id": "754f63fac0871d86",
   "execution_count": 68
  },
  {
   "cell_type": "markdown",
   "source": [
    "## Naive Bayes Algorithm"
   ],
   "metadata": {
    "collapsed": false
   },
   "id": "a4a2e3ac34c509cf"
  },
  {
   "cell_type": "code",
   "outputs": [
    {
     "name": "stdout",
     "output_type": "stream",
     "text": [
      "Training accuracy :  0.7790468156895825\n",
      "Testing accuracy :  0.7632109223999671\n"
     ]
    }
   ],
   "source": [
    "# as the problem is a binary classification problem, use the BernoulliNB algorithm\n",
    "bernouli_model = BernoulliNB()\n",
    "bernouli_model.fit(x_train, y_train)\n",
    "\n",
    "pred_train = bernouli_model.predict(x_train)\n",
    "pred_test = bernouli_model.predict(x_test)\n",
    "\n",
    "print('Training accuracy : ', accuracy_score(pred_train, y_train))\n",
    "print('Testing accuracy : ', accuracy_score(pred_test, y_test))"
   ],
   "metadata": {
    "collapsed": false,
    "ExecuteTime": {
     "end_time": "2024-03-29T11:23:56.253876Z",
     "start_time": "2024-03-29T11:23:56.058057Z"
    }
   },
   "id": "7243fbe50f624e23",
   "execution_count": 69
  },
  {
   "cell_type": "code",
   "outputs": [],
   "source": [
    "from sklearn.model_selection import GridSearchCV"
   ],
   "metadata": {
    "collapsed": false,
    "ExecuteTime": {
     "end_time": "2024-03-29T11:23:56.259980Z",
     "start_time": "2024-03-29T11:23:56.256230Z"
    }
   },
   "id": "ec9262cba61a8b43",
   "execution_count": 70
  },
  {
   "cell_type": "code",
   "outputs": [],
   "source": [
    "# define parameters to introduce to GridSearchCV\n",
    "param_grid = {\n",
    "    'alpha': [0.1, 0.5, 1.0, 1.5, 2.0],\n",
    "    'force_alpha': [True, False],\n",
    "    'binarize': [0.0, 0.5, 1.0],\n",
    "    'fit_prior': [True, False],\n",
    "    'class_prior': [None, [0.5, 0.5], [0.6, 0.4], [0.4, 0.6]]\n",
    "}"
   ],
   "metadata": {
    "collapsed": false,
    "ExecuteTime": {
     "end_time": "2024-03-29T11:23:56.267931Z",
     "start_time": "2024-03-29T11:23:56.261988Z"
    }
   },
   "id": "e85378db97cd3d0d",
   "execution_count": 71
  },
  {
   "cell_type": "code",
   "outputs": [
    {
     "data": {
      "text/plain": "GridSearchCV(estimator=BernoulliNB(),\n             param_grid={'alpha': [0.1, 0.5, 1.0, 1.5, 2.0],\n                         'binarize': [0.0, 0.5, 1.0],\n                         'class_prior': [None, [0.5, 0.5], [0.6, 0.4],\n                                         [0.4, 0.6]],\n                         'fit_prior': [True, False],\n                         'force_alpha': [True, False]})",
      "text/html": "<style>#sk-container-id-1 {\n  /* Definition of color scheme common for light and dark mode */\n  --sklearn-color-text: black;\n  --sklearn-color-line: gray;\n  /* Definition of color scheme for unfitted estimators */\n  --sklearn-color-unfitted-level-0: #fff5e6;\n  --sklearn-color-unfitted-level-1: #f6e4d2;\n  --sklearn-color-unfitted-level-2: #ffe0b3;\n  --sklearn-color-unfitted-level-3: chocolate;\n  /* Definition of color scheme for fitted estimators */\n  --sklearn-color-fitted-level-0: #f0f8ff;\n  --sklearn-color-fitted-level-1: #d4ebff;\n  --sklearn-color-fitted-level-2: #b3dbfd;\n  --sklearn-color-fitted-level-3: cornflowerblue;\n\n  /* Specific color for light theme */\n  --sklearn-color-text-on-default-background: var(--sg-text-color, var(--theme-code-foreground, var(--jp-content-font-color1, black)));\n  --sklearn-color-background: var(--sg-background-color, var(--theme-background, var(--jp-layout-color0, white)));\n  --sklearn-color-border-box: var(--sg-text-color, var(--theme-code-foreground, var(--jp-content-font-color1, black)));\n  --sklearn-color-icon: #696969;\n\n  @media (prefers-color-scheme: dark) {\n    /* Redefinition of color scheme for dark theme */\n    --sklearn-color-text-on-default-background: var(--sg-text-color, var(--theme-code-foreground, var(--jp-content-font-color1, white)));\n    --sklearn-color-background: var(--sg-background-color, var(--theme-background, var(--jp-layout-color0, #111)));\n    --sklearn-color-border-box: var(--sg-text-color, var(--theme-code-foreground, var(--jp-content-font-color1, white)));\n    --sklearn-color-icon: #878787;\n  }\n}\n\n#sk-container-id-1 {\n  color: var(--sklearn-color-text);\n}\n\n#sk-container-id-1 pre {\n  padding: 0;\n}\n\n#sk-container-id-1 input.sk-hidden--visually {\n  border: 0;\n  clip: rect(1px 1px 1px 1px);\n  clip: rect(1px, 1px, 1px, 1px);\n  height: 1px;\n  margin: -1px;\n  overflow: hidden;\n  padding: 0;\n  position: absolute;\n  width: 1px;\n}\n\n#sk-container-id-1 div.sk-dashed-wrapped {\n  border: 1px dashed var(--sklearn-color-line);\n  margin: 0 0.4em 0.5em 0.4em;\n  box-sizing: border-box;\n  padding-bottom: 0.4em;\n  background-color: var(--sklearn-color-background);\n}\n\n#sk-container-id-1 div.sk-container {\n  /* jupyter's `normalize.less` sets `[hidden] { display: none; }`\n     but bootstrap.min.css set `[hidden] { display: none !important; }`\n     so we also need the `!important` here to be able to override the\n     default hidden behavior on the sphinx rendered scikit-learn.org.\n     See: https://github.com/scikit-learn/scikit-learn/issues/21755 */\n  display: inline-block !important;\n  position: relative;\n}\n\n#sk-container-id-1 div.sk-text-repr-fallback {\n  display: none;\n}\n\ndiv.sk-parallel-item,\ndiv.sk-serial,\ndiv.sk-item {\n  /* draw centered vertical line to link estimators */\n  background-image: linear-gradient(var(--sklearn-color-text-on-default-background), var(--sklearn-color-text-on-default-background));\n  background-size: 2px 100%;\n  background-repeat: no-repeat;\n  background-position: center center;\n}\n\n/* Parallel-specific style estimator block */\n\n#sk-container-id-1 div.sk-parallel-item::after {\n  content: \"\";\n  width: 100%;\n  border-bottom: 2px solid var(--sklearn-color-text-on-default-background);\n  flex-grow: 1;\n}\n\n#sk-container-id-1 div.sk-parallel {\n  display: flex;\n  align-items: stretch;\n  justify-content: center;\n  background-color: var(--sklearn-color-background);\n  position: relative;\n}\n\n#sk-container-id-1 div.sk-parallel-item {\n  display: flex;\n  flex-direction: column;\n}\n\n#sk-container-id-1 div.sk-parallel-item:first-child::after {\n  align-self: flex-end;\n  width: 50%;\n}\n\n#sk-container-id-1 div.sk-parallel-item:last-child::after {\n  align-self: flex-start;\n  width: 50%;\n}\n\n#sk-container-id-1 div.sk-parallel-item:only-child::after {\n  width: 0;\n}\n\n/* Serial-specific style estimator block */\n\n#sk-container-id-1 div.sk-serial {\n  display: flex;\n  flex-direction: column;\n  align-items: center;\n  background-color: var(--sklearn-color-background);\n  padding-right: 1em;\n  padding-left: 1em;\n}\n\n\n/* Toggleable style: style used for estimator/Pipeline/ColumnTransformer box that is\nclickable and can be expanded/collapsed.\n- Pipeline and ColumnTransformer use this feature and define the default style\n- Estimators will overwrite some part of the style using the `sk-estimator` class\n*/\n\n/* Pipeline and ColumnTransformer style (default) */\n\n#sk-container-id-1 div.sk-toggleable {\n  /* Default theme specific background. It is overwritten whether we have a\n  specific estimator or a Pipeline/ColumnTransformer */\n  background-color: var(--sklearn-color-background);\n}\n\n/* Toggleable label */\n#sk-container-id-1 label.sk-toggleable__label {\n  cursor: pointer;\n  display: block;\n  width: 100%;\n  margin-bottom: 0;\n  padding: 0.5em;\n  box-sizing: border-box;\n  text-align: center;\n}\n\n#sk-container-id-1 label.sk-toggleable__label-arrow:before {\n  /* Arrow on the left of the label */\n  content: \"▸\";\n  float: left;\n  margin-right: 0.25em;\n  color: var(--sklearn-color-icon);\n}\n\n#sk-container-id-1 label.sk-toggleable__label-arrow:hover:before {\n  color: var(--sklearn-color-text);\n}\n\n/* Toggleable content - dropdown */\n\n#sk-container-id-1 div.sk-toggleable__content {\n  max-height: 0;\n  max-width: 0;\n  overflow: hidden;\n  text-align: left;\n  /* unfitted */\n  background-color: var(--sklearn-color-unfitted-level-0);\n}\n\n#sk-container-id-1 div.sk-toggleable__content.fitted {\n  /* fitted */\n  background-color: var(--sklearn-color-fitted-level-0);\n}\n\n#sk-container-id-1 div.sk-toggleable__content pre {\n  margin: 0.2em;\n  border-radius: 0.25em;\n  color: var(--sklearn-color-text);\n  /* unfitted */\n  background-color: var(--sklearn-color-unfitted-level-0);\n}\n\n#sk-container-id-1 div.sk-toggleable__content.fitted pre {\n  /* unfitted */\n  background-color: var(--sklearn-color-fitted-level-0);\n}\n\n#sk-container-id-1 input.sk-toggleable__control:checked~div.sk-toggleable__content {\n  /* Expand drop-down */\n  max-height: 200px;\n  max-width: 100%;\n  overflow: auto;\n}\n\n#sk-container-id-1 input.sk-toggleable__control:checked~label.sk-toggleable__label-arrow:before {\n  content: \"▾\";\n}\n\n/* Pipeline/ColumnTransformer-specific style */\n\n#sk-container-id-1 div.sk-label input.sk-toggleable__control:checked~label.sk-toggleable__label {\n  color: var(--sklearn-color-text);\n  background-color: var(--sklearn-color-unfitted-level-2);\n}\n\n#sk-container-id-1 div.sk-label.fitted input.sk-toggleable__control:checked~label.sk-toggleable__label {\n  background-color: var(--sklearn-color-fitted-level-2);\n}\n\n/* Estimator-specific style */\n\n/* Colorize estimator box */\n#sk-container-id-1 div.sk-estimator input.sk-toggleable__control:checked~label.sk-toggleable__label {\n  /* unfitted */\n  background-color: var(--sklearn-color-unfitted-level-2);\n}\n\n#sk-container-id-1 div.sk-estimator.fitted input.sk-toggleable__control:checked~label.sk-toggleable__label {\n  /* fitted */\n  background-color: var(--sklearn-color-fitted-level-2);\n}\n\n#sk-container-id-1 div.sk-label label.sk-toggleable__label,\n#sk-container-id-1 div.sk-label label {\n  /* The background is the default theme color */\n  color: var(--sklearn-color-text-on-default-background);\n}\n\n/* On hover, darken the color of the background */\n#sk-container-id-1 div.sk-label:hover label.sk-toggleable__label {\n  color: var(--sklearn-color-text);\n  background-color: var(--sklearn-color-unfitted-level-2);\n}\n\n/* Label box, darken color on hover, fitted */\n#sk-container-id-1 div.sk-label.fitted:hover label.sk-toggleable__label.fitted {\n  color: var(--sklearn-color-text);\n  background-color: var(--sklearn-color-fitted-level-2);\n}\n\n/* Estimator label */\n\n#sk-container-id-1 div.sk-label label {\n  font-family: monospace;\n  font-weight: bold;\n  display: inline-block;\n  line-height: 1.2em;\n}\n\n#sk-container-id-1 div.sk-label-container {\n  text-align: center;\n}\n\n/* Estimator-specific */\n#sk-container-id-1 div.sk-estimator {\n  font-family: monospace;\n  border: 1px dotted var(--sklearn-color-border-box);\n  border-radius: 0.25em;\n  box-sizing: border-box;\n  margin-bottom: 0.5em;\n  /* unfitted */\n  background-color: var(--sklearn-color-unfitted-level-0);\n}\n\n#sk-container-id-1 div.sk-estimator.fitted {\n  /* fitted */\n  background-color: var(--sklearn-color-fitted-level-0);\n}\n\n/* on hover */\n#sk-container-id-1 div.sk-estimator:hover {\n  /* unfitted */\n  background-color: var(--sklearn-color-unfitted-level-2);\n}\n\n#sk-container-id-1 div.sk-estimator.fitted:hover {\n  /* fitted */\n  background-color: var(--sklearn-color-fitted-level-2);\n}\n\n/* Specification for estimator info (e.g. \"i\" and \"?\") */\n\n/* Common style for \"i\" and \"?\" */\n\n.sk-estimator-doc-link,\na:link.sk-estimator-doc-link,\na:visited.sk-estimator-doc-link {\n  float: right;\n  font-size: smaller;\n  line-height: 1em;\n  font-family: monospace;\n  background-color: var(--sklearn-color-background);\n  border-radius: 1em;\n  height: 1em;\n  width: 1em;\n  text-decoration: none !important;\n  margin-left: 1ex;\n  /* unfitted */\n  border: var(--sklearn-color-unfitted-level-1) 1pt solid;\n  color: var(--sklearn-color-unfitted-level-1);\n}\n\n.sk-estimator-doc-link.fitted,\na:link.sk-estimator-doc-link.fitted,\na:visited.sk-estimator-doc-link.fitted {\n  /* fitted */\n  border: var(--sklearn-color-fitted-level-1) 1pt solid;\n  color: var(--sklearn-color-fitted-level-1);\n}\n\n/* On hover */\ndiv.sk-estimator:hover .sk-estimator-doc-link:hover,\n.sk-estimator-doc-link:hover,\ndiv.sk-label-container:hover .sk-estimator-doc-link:hover,\n.sk-estimator-doc-link:hover {\n  /* unfitted */\n  background-color: var(--sklearn-color-unfitted-level-3);\n  color: var(--sklearn-color-background);\n  text-decoration: none;\n}\n\ndiv.sk-estimator.fitted:hover .sk-estimator-doc-link.fitted:hover,\n.sk-estimator-doc-link.fitted:hover,\ndiv.sk-label-container:hover .sk-estimator-doc-link.fitted:hover,\n.sk-estimator-doc-link.fitted:hover {\n  /* fitted */\n  background-color: var(--sklearn-color-fitted-level-3);\n  color: var(--sklearn-color-background);\n  text-decoration: none;\n}\n\n/* Span, style for the box shown on hovering the info icon */\n.sk-estimator-doc-link span {\n  display: none;\n  z-index: 9999;\n  position: relative;\n  font-weight: normal;\n  right: .2ex;\n  padding: .5ex;\n  margin: .5ex;\n  width: min-content;\n  min-width: 20ex;\n  max-width: 50ex;\n  color: var(--sklearn-color-text);\n  box-shadow: 2pt 2pt 4pt #999;\n  /* unfitted */\n  background: var(--sklearn-color-unfitted-level-0);\n  border: .5pt solid var(--sklearn-color-unfitted-level-3);\n}\n\n.sk-estimator-doc-link.fitted span {\n  /* fitted */\n  background: var(--sklearn-color-fitted-level-0);\n  border: var(--sklearn-color-fitted-level-3);\n}\n\n.sk-estimator-doc-link:hover span {\n  display: block;\n}\n\n/* \"?\"-specific style due to the `<a>` HTML tag */\n\n#sk-container-id-1 a.estimator_doc_link {\n  float: right;\n  font-size: 1rem;\n  line-height: 1em;\n  font-family: monospace;\n  background-color: var(--sklearn-color-background);\n  border-radius: 1rem;\n  height: 1rem;\n  width: 1rem;\n  text-decoration: none;\n  /* unfitted */\n  color: var(--sklearn-color-unfitted-level-1);\n  border: var(--sklearn-color-unfitted-level-1) 1pt solid;\n}\n\n#sk-container-id-1 a.estimator_doc_link.fitted {\n  /* fitted */\n  border: var(--sklearn-color-fitted-level-1) 1pt solid;\n  color: var(--sklearn-color-fitted-level-1);\n}\n\n/* On hover */\n#sk-container-id-1 a.estimator_doc_link:hover {\n  /* unfitted */\n  background-color: var(--sklearn-color-unfitted-level-3);\n  color: var(--sklearn-color-background);\n  text-decoration: none;\n}\n\n#sk-container-id-1 a.estimator_doc_link.fitted:hover {\n  /* fitted */\n  background-color: var(--sklearn-color-fitted-level-3);\n}\n</style><div id=\"sk-container-id-1\" class=\"sk-top-container\"><div class=\"sk-text-repr-fallback\"><pre>GridSearchCV(estimator=BernoulliNB(),\n             param_grid={&#x27;alpha&#x27;: [0.1, 0.5, 1.0, 1.5, 2.0],\n                         &#x27;binarize&#x27;: [0.0, 0.5, 1.0],\n                         &#x27;class_prior&#x27;: [None, [0.5, 0.5], [0.6, 0.4],\n                                         [0.4, 0.6]],\n                         &#x27;fit_prior&#x27;: [True, False],\n                         &#x27;force_alpha&#x27;: [True, False]})</pre><b>In a Jupyter environment, please rerun this cell to show the HTML representation or trust the notebook. <br />On GitHub, the HTML representation is unable to render, please try loading this page with nbviewer.org.</b></div><div class=\"sk-container\" hidden><div class=\"sk-item sk-dashed-wrapped\"><div class=\"sk-label-container\"><div class=\"sk-label fitted sk-toggleable\"><input class=\"sk-toggleable__control sk-hidden--visually\" id=\"sk-estimator-id-1\" type=\"checkbox\" ><label for=\"sk-estimator-id-1\" class=\"sk-toggleable__label fitted sk-toggleable__label-arrow fitted\">&nbsp;&nbsp;GridSearchCV<a class=\"sk-estimator-doc-link fitted\" rel=\"noreferrer\" target=\"_blank\" href=\"https://scikit-learn.org/1.4/modules/generated/sklearn.model_selection.GridSearchCV.html\">?<span>Documentation for GridSearchCV</span></a><span class=\"sk-estimator-doc-link fitted\">i<span>Fitted</span></span></label><div class=\"sk-toggleable__content fitted\"><pre>GridSearchCV(estimator=BernoulliNB(),\n             param_grid={&#x27;alpha&#x27;: [0.1, 0.5, 1.0, 1.5, 2.0],\n                         &#x27;binarize&#x27;: [0.0, 0.5, 1.0],\n                         &#x27;class_prior&#x27;: [None, [0.5, 0.5], [0.6, 0.4],\n                                         [0.4, 0.6]],\n                         &#x27;fit_prior&#x27;: [True, False],\n                         &#x27;force_alpha&#x27;: [True, False]})</pre></div> </div></div><div class=\"sk-parallel\"><div class=\"sk-parallel-item\"><div class=\"sk-item\"><div class=\"sk-label-container\"><div class=\"sk-label fitted sk-toggleable\"><input class=\"sk-toggleable__control sk-hidden--visually\" id=\"sk-estimator-id-2\" type=\"checkbox\" ><label for=\"sk-estimator-id-2\" class=\"sk-toggleable__label fitted sk-toggleable__label-arrow fitted\">estimator: BernoulliNB</label><div class=\"sk-toggleable__content fitted\"><pre>BernoulliNB()</pre></div> </div></div><div class=\"sk-serial\"><div class=\"sk-item\"><div class=\"sk-estimator fitted sk-toggleable\"><input class=\"sk-toggleable__control sk-hidden--visually\" id=\"sk-estimator-id-3\" type=\"checkbox\" ><label for=\"sk-estimator-id-3\" class=\"sk-toggleable__label fitted sk-toggleable__label-arrow fitted\">&nbsp;BernoulliNB<a class=\"sk-estimator-doc-link fitted\" rel=\"noreferrer\" target=\"_blank\" href=\"https://scikit-learn.org/1.4/modules/generated/sklearn.naive_bayes.BernoulliNB.html\">?<span>Documentation for BernoulliNB</span></a></label><div class=\"sk-toggleable__content fitted\"><pre>BernoulliNB()</pre></div> </div></div></div></div></div></div></div></div></div>"
     },
     "execution_count": 72,
     "metadata": {},
     "output_type": "execute_result"
    }
   ],
   "source": [
    "grid_search_bernouli = GridSearchCV(estimator = bernouli_model, param_grid = param_grid)\n",
    "grid_search_bernouli.fit(x_train,y_train)"
   ],
   "metadata": {
    "collapsed": false,
    "ExecuteTime": {
     "end_time": "2024-03-29T11:25:11.147440Z",
     "start_time": "2024-03-29T11:23:56.271836Z"
    }
   },
   "id": "b03997c9bea8d653",
   "execution_count": 72
  },
  {
   "cell_type": "code",
   "outputs": [
    {
     "data": {
      "text/plain": "{'alpha': 0.1,\n 'binarize': 0.0,\n 'class_prior': [0.4, 0.6],\n 'fit_prior': True,\n 'force_alpha': True}"
     },
     "execution_count": 73,
     "metadata": {},
     "output_type": "execute_result"
    }
   ],
   "source": [
    "# vew the optimal parameter list\n",
    "grid_search_bernouli.best_params_"
   ],
   "metadata": {
    "collapsed": false,
    "ExecuteTime": {
     "end_time": "2024-03-29T11:25:11.154309Z",
     "start_time": "2024-03-29T11:25:11.149894Z"
    }
   },
   "id": "a0da1d1c5f68084b",
   "execution_count": 73
  },
  {
   "cell_type": "code",
   "outputs": [
    {
     "name": "stdout",
     "output_type": "stream",
     "text": [
      "Training accuracy :  0.7804301982285955\n",
      "Testing accuracy :  0.7623884525229263\n"
     ]
    }
   ],
   "source": [
    "# view training and testing accuracy\n",
    "pred_train = grid_search_bernouli.predict(x_train)\n",
    "pred_test = grid_search_bernouli.predict(x_test)\n",
    "\n",
    "print('Training accuracy : ', accuracy_score(pred_train, y_train))\n",
    "print('Testing accuracy : ', accuracy_score(pred_test, y_test))"
   ],
   "metadata": {
    "collapsed": false,
    "ExecuteTime": {
     "end_time": "2024-03-29T11:25:11.273992Z",
     "start_time": "2024-03-29T11:25:11.155883Z"
    }
   },
   "id": "b00780e896f29966",
   "execution_count": 74
  },
  {
   "cell_type": "code",
   "outputs": [
    {
     "data": {
      "text/plain": "98175    1\n67456    1\n41863    0\n83611    1\n48590    0\n71100    1\n3030     0\n58805    0\n81679    1\n34538    0\nName: income, dtype: int64"
     },
     "execution_count": 75,
     "metadata": {},
     "output_type": "execute_result"
    }
   ],
   "source": [
    "y_test[:10]"
   ],
   "metadata": {
    "collapsed": false,
    "ExecuteTime": {
     "end_time": "2024-03-29T11:25:11.284388Z",
     "start_time": "2024-03-29T11:25:11.277827Z"
    }
   },
   "id": "a67c48f93f00dbf8",
   "execution_count": 75
  },
  {
   "cell_type": "code",
   "outputs": [
    {
     "data": {
      "text/plain": "array([1, 1, 1, 1, 1, 1, 0, 1, 0, 0])"
     },
     "execution_count": 76,
     "metadata": {},
     "output_type": "execute_result"
    }
   ],
   "source": [
    "# view the predicted values\n",
    "pred_test[:10]"
   ],
   "metadata": {
    "collapsed": false,
    "ExecuteTime": {
     "end_time": "2024-03-29T11:25:11.288694Z",
     "start_time": "2024-03-29T11:25:11.285766Z"
    }
   },
   "id": "7422e3502d918606",
   "execution_count": 76
  },
  {
   "cell_type": "code",
   "outputs": [],
   "source": [
    "from sklearn.metrics import confusion_matrix"
   ],
   "metadata": {
    "collapsed": false,
    "ExecuteTime": {
     "end_time": "2024-03-29T11:25:11.293346Z",
     "start_time": "2024-03-29T11:25:11.290116Z"
    }
   },
   "id": "bde47ed8b53f9ade",
   "execution_count": 77
  },
  {
   "cell_type": "code",
   "outputs": [
    {
     "data": {
      "text/plain": "array([[11338,  1324],\n       [ 4454,  7201]])"
     },
     "execution_count": 78,
     "metadata": {},
     "output_type": "execute_result"
    }
   ],
   "source": [
    "# confusion matrix\n",
    "confusion_matrix(pred_test, y_test)"
   ],
   "metadata": {
    "collapsed": false,
    "ExecuteTime": {
     "end_time": "2024-03-29T11:25:11.300995Z",
     "start_time": "2024-03-29T11:25:11.294305Z"
    }
   },
   "id": "fc5e78f1273e7459",
   "execution_count": 78
  },
  {
   "cell_type": "code",
   "outputs": [],
   "source": [
    "from sklearn.metrics import classification_report"
   ],
   "metadata": {
    "collapsed": false,
    "ExecuteTime": {
     "end_time": "2024-03-29T11:25:11.304725Z",
     "start_time": "2024-03-29T11:25:11.301992Z"
    }
   },
   "id": "91a18d12f303bfa8",
   "execution_count": 79
  },
  {
   "cell_type": "code",
   "outputs": [
    {
     "name": "stdout",
     "output_type": "stream",
     "text": [
      "              precision    recall  f1-score   support\n",
      "\n",
      "           0       0.72      0.90      0.80     12662\n",
      "           1       0.84      0.62      0.71     11655\n",
      "\n",
      "    accuracy                           0.76     24317\n",
      "   macro avg       0.78      0.76      0.76     24317\n",
      "weighted avg       0.78      0.76      0.76     24317\n"
     ]
    }
   ],
   "source": [
    "# view precision, recall, f1-score\n",
    "print(classification_report(pred_test, y_test))"
   ],
   "metadata": {
    "collapsed": false,
    "ExecuteTime": {
     "end_time": "2024-03-29T11:25:11.352678Z",
     "start_time": "2024-03-29T11:25:11.305904Z"
    }
   },
   "id": "3b1ce4d4c6afa7c5",
   "execution_count": 80
  },
  {
   "cell_type": "code",
   "outputs": [],
   "source": [
    "from sklearn.metrics import roc_curve"
   ],
   "metadata": {
    "collapsed": false,
    "ExecuteTime": {
     "end_time": "2024-03-29T11:25:11.359055Z",
     "start_time": "2024-03-29T11:25:11.357290Z"
    }
   },
   "id": "a91b894f2cc3ecfd",
   "execution_count": 81
  },
  {
   "cell_type": "code",
   "outputs": [
    {
     "data": {
      "text/plain": "<Figure size 640x480 with 1 Axes>",
      "image/png": "[encoded data removed]"
     },
     "metadata": {},
     "output_type": "display_data"
    }
   ],
   "source": [
    "# ROC curve\n",
    "fpr, tpr, thresholds = roc_curve(pred_test, y_test)\n",
    "plt.plot(fpr, tpr)\n",
    "plt.title('ROC curve')\n",
    "plt.show()"
   ],
   "metadata": {
    "collapsed": false,
    "ExecuteTime": {
     "end_time": "2024-03-29T11:25:11.504326Z",
     "start_time": "2024-03-29T11:25:11.360477Z"
    }
   },
   "id": "ee220666ff2a8d5f",
   "execution_count": 82
  },
  {
   "cell_type": "code",
   "outputs": [],
   "source": [
    "from sklearn.metrics import roc_auc_score"
   ],
   "metadata": {
    "collapsed": false,
    "ExecuteTime": {
     "end_time": "2024-03-29T11:25:11.552676Z",
     "start_time": "2024-03-29T11:25:11.549600Z"
    }
   },
   "id": "f600fddb34ce5a",
   "execution_count": 83
  },
  {
   "cell_type": "code",
   "outputs": [
    {
     "name": "stdout",
     "output_type": "stream",
     "text": [
      "roc_auc_score :  0.7566407890843209\n"
     ]
    }
   ],
   "source": [
    "# view the roc_auc_score\n",
    "print('roc_auc_score : ', roc_auc_score(pred_test, y_test))"
   ],
   "metadata": {
    "collapsed": false,
    "ExecuteTime": {
     "end_time": "2024-03-29T11:25:11.561332Z",
     "start_time": "2024-03-29T11:25:11.554090Z"
    }
   },
   "id": "baf601cb4be66f1a",
   "execution_count": 84
  },
  {
   "cell_type": "markdown",
   "source": [
    "## Random Forest Classification Algorithm"
   ],
   "metadata": {
    "collapsed": false
   },
   "id": "61b6fca598cc074d"
  },
  {
   "cell_type": "code",
   "outputs": [],
   "source": [
    "from sklearn.ensemble import RandomForestClassifier"
   ],
   "metadata": {
    "collapsed": false,
    "ExecuteTime": {
     "end_time": "2024-03-29T11:25:11.565644Z",
     "start_time": "2024-03-29T11:25:11.563541Z"
    }
   },
   "id": "85054a4e4eb5ee21",
   "execution_count": 85
  },
  {
   "cell_type": "code",
   "outputs": [
    {
     "data": {
      "text/plain": "<Figure size 640x480 with 1 Axes>",
      "image/png": "[encoded data removed]"
     },
     "metadata": {},
     "output_type": "display_data"
    }
   ],
   "source": [
    "# list to store accuracy values\n",
    "test_acc_list = []\n",
    "train_acc_list = []\n",
    "\n",
    "for i in range(1, 101):\n",
    "    rf_model = RandomForestClassifier(n_estimators=i, random_state=42)\n",
    "    rf_model.fit(x_train, y_train)\n",
    "    \n",
    "    # training set\n",
    "    train_pred = rf_model.predict(x_train)\n",
    "    train_acc = accuracy_score(train_pred, y_train)\n",
    "    train_acc_list.append(train_acc)\n",
    "    \n",
    "    # testing set\n",
    "    test_pred = rf_model.predict(x_test)\n",
    "    test_acc = accuracy_score(test_pred, y_test)\n",
    "    test_acc_list.append(test_acc)\n",
    "\n",
    "# plot the accuracy values vs number of trees\n",
    "plt.plot(range(1, 101), train_acc_list)\n",
    "plt.plot(range(1, 101), test_acc_list)\n",
    "plt.title('Random Forest Classification Accuracy')\n",
    "plt.xlabel('Number of Trees')\n",
    "plt.ylabel('Accuracy')\n",
    "plt.show()"
   ],
   "metadata": {
    "collapsed": false,
    "ExecuteTime": {
     "end_time": "2024-03-29T11:29:31.975637Z",
     "start_time": "2024-03-29T11:25:11.567773Z"
    }
   },
   "id": "b326fe08affe9f96",
   "execution_count": 86
  },
  {
   "cell_type": "code",
   "outputs": [
    {
     "name": "stdout",
     "output_type": "stream",
     "text": [
      "Training accuracy :  0.976195698017714\n",
      "Testing accuracy :  0.9156968376033228\n"
     ]
    }
   ],
   "source": [
    "rf_model = RandomForestClassifier(n_estimators=40, random_state=42)\n",
    "rf_model.fit(x_train, y_train)\n",
    "\n",
    "train_pred = rf_model.predict(x_train)\n",
    "test_pred = rf_model.predict(x_test)\n",
    "\n",
    "print('Training accuracy : ', accuracy_score(train_pred, y_train))\n",
    "print('Testing accuracy : ', accuracy_score(test_pred, y_test))"
   ],
   "metadata": {
    "collapsed": false,
    "ExecuteTime": {
     "end_time": "2024-03-29T11:29:34.130771Z",
     "start_time": "2024-03-29T11:29:31.977355Z"
    }
   },
   "id": "c1874d1e749652be",
   "execution_count": 87
  },
  {
   "cell_type": "code",
   "outputs": [],
   "source": [
    "# define parameters to introduce to GridSearchCV\n",
    "param_grid = {\n",
    "    'n_estimators': [40],\n",
    "    'random_state': [42],\n",
    "    'criterion': ['gini', 'entropy'],\n",
    "    'bootstrap': [True, False],\n",
    "    'warm_start': [True, False]\n",
    "}"
   ],
   "metadata": {
    "collapsed": false,
    "ExecuteTime": {
     "end_time": "2024-03-29T11:29:34.133622Z",
     "start_time": "2024-03-29T11:29:34.131567Z"
    }
   },
   "id": "f03df5d93976ad5c",
   "execution_count": 88
  },
  {
   "cell_type": "code",
   "outputs": [
    {
     "data": {
      "text/plain": "GridSearchCV(estimator=RandomForestClassifier(n_estimators=40, random_state=42),\n             param_grid={'bootstrap': [True, False],\n                         'criterion': ['gini', 'entropy'], 'n_estimators': [40],\n                         'random_state': [42], 'warm_start': [True, False]})",
      "text/html": "<style>#sk-container-id-2 {\n  /* Definition of color scheme common for light and dark mode */\n  --sklearn-color-text: black;\n  --sklearn-color-line: gray;\n  /* Definition of color scheme for unfitted estimators */\n  --sklearn-color-unfitted-level-0: #fff5e6;\n  --sklearn-color-unfitted-level-1: #f6e4d2;\n  --sklearn-color-unfitted-level-2: #ffe0b3;\n  --sklearn-color-unfitted-level-3: chocolate;\n  /* Definition of color scheme for fitted estimators */\n  --sklearn-color-fitted-level-0: #f0f8ff;\n  --sklearn-color-fitted-level-1: #d4ebff;\n  --sklearn-color-fitted-level-2: #b3dbfd;\n  --sklearn-color-fitted-level-3: cornflowerblue;\n\n  /* Specific color for light theme */\n  --sklearn-color-text-on-default-background: var(--sg-text-color, var(--theme-code-foreground, var(--jp-content-font-color1, black)));\n  --sklearn-color-background: var(--sg-background-color, var(--theme-background, var(--jp-layout-color0, white)));\n  --sklearn-color-border-box: var(--sg-text-color, var(--theme-code-foreground, var(--jp-content-font-color1, black)));\n  --sklearn-color-icon: #696969;\n\n  @media (prefers-color-scheme: dark) {\n    /* Redefinition of color scheme for dark theme */\n    --sklearn-color-text-on-default-background: var(--sg-text-color, var(--theme-code-foreground, var(--jp-content-font-color1, white)));\n    --sklearn-color-background: var(--sg-background-color, var(--theme-background, var(--jp-layout-color0, #111)));\n    --sklearn-color-border-box: var(--sg-text-color, var(--theme-code-foreground, var(--jp-content-font-color1, white)));\n    --sklearn-color-icon: #878787;\n  }\n}\n\n#sk-container-id-2 {\n  color: var(--sklearn-color-text);\n}\n\n#sk-container-id-2 pre {\n  padding: 0;\n}\n\n#sk-container-id-2 input.sk-hidden--visually {\n  border: 0;\n  clip: rect(1px 1px 1px 1px);\n  clip: rect(1px, 1px, 1px, 1px);\n  height: 1px;\n  margin: -1px;\n  overflow: hidden;\n  padding: 0;\n  position: absolute;\n  width: 1px;\n}\n\n#sk-container-id-2 div.sk-dashed-wrapped {\n  border: 1px dashed var(--sklearn-color-line);\n  margin: 0 0.4em 0.5em 0.4em;\n  box-sizing: border-box;\n  padding-bottom: 0.4em;\n  background-color: var(--sklearn-color-background);\n}\n\n#sk-container-id-2 div.sk-container {\n  /* jupyter's `normalize.less` sets `[hidden] { display: none; }`\n     but bootstrap.min.css set `[hidden] { display: none !important; }`\n     so we also need the `!important` here to be able to override the\n     default hidden behavior on the sphinx rendered scikit-learn.org.\n     See: https://github.com/scikit-learn/scikit-learn/issues/21755 */\n  display: inline-block !important;\n  position: relative;\n}\n\n#sk-container-id-2 div.sk-text-repr-fallback {\n  display: none;\n}\n\ndiv.sk-parallel-item,\ndiv.sk-serial,\ndiv.sk-item {\n  /* draw centered vertical line to link estimators */\n  background-image: linear-gradient(var(--sklearn-color-text-on-default-background), var(--sklearn-color-text-on-default-background));\n  background-size: 2px 100%;\n  background-repeat: no-repeat;\n  background-position: center center;\n}\n\n/* Parallel-specific style estimator block */\n\n#sk-container-id-2 div.sk-parallel-item::after {\n  content: \"\";\n  width: 100%;\n  border-bottom: 2px solid var(--sklearn-color-text-on-default-background);\n  flex-grow: 1;\n}\n\n#sk-container-id-2 div.sk-parallel {\n  display: flex;\n  align-items: stretch;\n  justify-content: center;\n  background-color: var(--sklearn-color-background);\n  position: relative;\n}\n\n#sk-container-id-2 div.sk-parallel-item {\n  display: flex;\n  flex-direction: column;\n}\n\n#sk-container-id-2 div.sk-parallel-item:first-child::after {\n  align-self: flex-end;\n  width: 50%;\n}\n\n#sk-container-id-2 div.sk-parallel-item:last-child::after {\n  align-self: flex-start;\n  width: 50%;\n}\n\n#sk-container-id-2 div.sk-parallel-item:only-child::after {\n  width: 0;\n}\n\n/* Serial-specific style estimator block */\n\n#sk-container-id-2 div.sk-serial {\n  display: flex;\n  flex-direction: column;\n  align-items: center;\n  background-color: var(--sklearn-color-background);\n  padding-right: 1em;\n  padding-left: 1em;\n}\n\n\n/* Toggleable style: style used for estimator/Pipeline/ColumnTransformer box that is\nclickable and can be expanded/collapsed.\n- Pipeline and ColumnTransformer use this feature and define the default style\n- Estimators will overwrite some part of the style using the `sk-estimator` class\n*/\n\n/* Pipeline and ColumnTransformer style (default) */\n\n#sk-container-id-2 div.sk-toggleable {\n  /* Default theme specific background. It is overwritten whether we have a\n  specific estimator or a Pipeline/ColumnTransformer */\n  background-color: var(--sklearn-color-background);\n}\n\n/* Toggleable label */\n#sk-container-id-2 label.sk-toggleable__label {\n  cursor: pointer;\n  display: block;\n  width: 100%;\n  margin-bottom: 0;\n  padding: 0.5em;\n  box-sizing: border-box;\n  text-align: center;\n}\n\n#sk-container-id-2 label.sk-toggleable__label-arrow:before {\n  /* Arrow on the left of the label */\n  content: \"▸\";\n  float: left;\n  margin-right: 0.25em;\n  color: var(--sklearn-color-icon);\n}\n\n#sk-container-id-2 label.sk-toggleable__label-arrow:hover:before {\n  color: var(--sklearn-color-text);\n}\n\n/* Toggleable content - dropdown */\n\n#sk-container-id-2 div.sk-toggleable__content {\n  max-height: 0;\n  max-width: 0;\n  overflow: hidden;\n  text-align: left;\n  /* unfitted */\n  background-color: var(--sklearn-color-unfitted-level-0);\n}\n\n#sk-container-id-2 div.sk-toggleable__content.fitted {\n  /* fitted */\n  background-color: var(--sklearn-color-fitted-level-0);\n}\n\n#sk-container-id-2 div.sk-toggleable__content pre {\n  margin: 0.2em;\n  border-radius: 0.25em;\n  color: var(--sklearn-color-text);\n  /* unfitted */\n  background-color: var(--sklearn-color-unfitted-level-0);\n}\n\n#sk-container-id-2 div.sk-toggleable__content.fitted pre {\n  /* unfitted */\n  background-color: var(--sklearn-color-fitted-level-0);\n}\n\n#sk-container-id-2 input.sk-toggleable__control:checked~div.sk-toggleable__content {\n  /* Expand drop-down */\n  max-height: 200px;\n  max-width: 100%;\n  overflow: auto;\n}\n\n#sk-container-id-2 input.sk-toggleable__control:checked~label.sk-toggleable__label-arrow:before {\n  content: \"▾\";\n}\n\n/* Pipeline/ColumnTransformer-specific style */\n\n#sk-container-id-2 div.sk-label input.sk-toggleable__control:checked~label.sk-toggleable__label {\n  color: var(--sklearn-color-text);\n  background-color: var(--sklearn-color-unfitted-level-2);\n}\n\n#sk-container-id-2 div.sk-label.fitted input.sk-toggleable__control:checked~label.sk-toggleable__label {\n  background-color: var(--sklearn-color-fitted-level-2);\n}\n\n/* Estimator-specific style */\n\n/* Colorize estimator box */\n#sk-container-id-2 div.sk-estimator input.sk-toggleable__control:checked~label.sk-toggleable__label {\n  /* unfitted */\n  background-color: var(--sklearn-color-unfitted-level-2);\n}\n\n#sk-container-id-2 div.sk-estimator.fitted input.sk-toggleable__control:checked~label.sk-toggleable__label {\n  /* fitted */\n  background-color: var(--sklearn-color-fitted-level-2);\n}\n\n#sk-container-id-2 div.sk-label label.sk-toggleable__label,\n#sk-container-id-2 div.sk-label label {\n  /* The background is the default theme color */\n  color: var(--sklearn-color-text-on-default-background);\n}\n\n/* On hover, darken the color of the background */\n#sk-container-id-2 div.sk-label:hover label.sk-toggleable__label {\n  color: var(--sklearn-color-text);\n  background-color: var(--sklearn-color-unfitted-level-2);\n}\n\n/* Label box, darken color on hover, fitted */\n#sk-container-id-2 div.sk-label.fitted:hover label.sk-toggleable__label.fitted {\n  color: var(--sklearn-color-text);\n  background-color: var(--sklearn-color-fitted-level-2);\n}\n\n/* Estimator label */\n\n#sk-container-id-2 div.sk-label label {\n  font-family: monospace;\n  font-weight: bold;\n  display: inline-block;\n  line-height: 1.2em;\n}\n\n#sk-container-id-2 div.sk-label-container {\n  text-align: center;\n}\n\n/* Estimator-specific */\n#sk-container-id-2 div.sk-estimator {\n  font-family: monospace;\n  border: 1px dotted var(--sklearn-color-border-box);\n  border-radius: 0.25em;\n  box-sizing: border-box;\n  margin-bottom: 0.5em;\n  /* unfitted */\n  background-color: var(--sklearn-color-unfitted-level-0);\n}\n\n#sk-container-id-2 div.sk-estimator.fitted {\n  /* fitted */\n  background-color: var(--sklearn-color-fitted-level-0);\n}\n\n/* on hover */\n#sk-container-id-2 div.sk-estimator:hover {\n  /* unfitted */\n  background-color: var(--sklearn-color-unfitted-level-2);\n}\n\n#sk-container-id-2 div.sk-estimator.fitted:hover {\n  /* fitted */\n  background-color: var(--sklearn-color-fitted-level-2);\n}\n\n/* Specification for estimator info (e.g. \"i\" and \"?\") */\n\n/* Common style for \"i\" and \"?\" */\n\n.sk-estimator-doc-link,\na:link.sk-estimator-doc-link,\na:visited.sk-estimator-doc-link {\n  float: right;\n  font-size: smaller;\n  line-height: 1em;\n  font-family: monospace;\n  background-color: var(--sklearn-color-background);\n  border-radius: 1em;\n  height: 1em;\n  width: 1em;\n  text-decoration: none !important;\n  margin-left: 1ex;\n  /* unfitted */\n  border: var(--sklearn-color-unfitted-level-1) 1pt solid;\n  color: var(--sklearn-color-unfitted-level-1);\n}\n\n.sk-estimator-doc-link.fitted,\na:link.sk-estimator-doc-link.fitted,\na:visited.sk-estimator-doc-link.fitted {\n  /* fitted */\n  border: var(--sklearn-color-fitted-level-1) 1pt solid;\n  color: var(--sklearn-color-fitted-level-1);\n}\n\n/* On hover */\ndiv.sk-estimator:hover .sk-estimator-doc-link:hover,\n.sk-estimator-doc-link:hover,\ndiv.sk-label-container:hover .sk-estimator-doc-link:hover,\n.sk-estimator-doc-link:hover {\n  /* unfitted */\n  background-color: var(--sklearn-color-unfitted-level-3);\n  color: var(--sklearn-color-background);\n  text-decoration: none;\n}\n\ndiv.sk-estimator.fitted:hover .sk-estimator-doc-link.fitted:hover,\n.sk-estimator-doc-link.fitted:hover,\ndiv.sk-label-container:hover .sk-estimator-doc-link.fitted:hover,\n.sk-estimator-doc-link.fitted:hover {\n  /* fitted */\n  background-color: var(--sklearn-color-fitted-level-3);\n  color: var(--sklearn-color-background);\n  text-decoration: none;\n}\n\n/* Span, style for the box shown on hovering the info icon */\n.sk-estimator-doc-link span {\n  display: none;\n  z-index: 9999;\n  position: relative;\n  font-weight: normal;\n  right: .2ex;\n  padding: .5ex;\n  margin: .5ex;\n  width: min-content;\n  min-width: 20ex;\n  max-width: 50ex;\n  color: var(--sklearn-color-text);\n  box-shadow: 2pt 2pt 4pt #999;\n  /* unfitted */\n  background: var(--sklearn-color-unfitted-level-0);\n  border: .5pt solid var(--sklearn-color-unfitted-level-3);\n}\n\n.sk-estimator-doc-link.fitted span {\n  /* fitted */\n  background: var(--sklearn-color-fitted-level-0);\n  border: var(--sklearn-color-fitted-level-3);\n}\n\n.sk-estimator-doc-link:hover span {\n  display: block;\n}\n\n/* \"?\"-specific style due to the `<a>` HTML tag */\n\n#sk-container-id-2 a.estimator_doc_link {\n  float: right;\n  font-size: 1rem;\n  line-height: 1em;\n  font-family: monospace;\n  background-color: var(--sklearn-color-background);\n  border-radius: 1rem;\n  height: 1rem;\n  width: 1rem;\n  text-decoration: none;\n  /* unfitted */\n  color: var(--sklearn-color-unfitted-level-1);\n  border: var(--sklearn-color-unfitted-level-1) 1pt solid;\n}\n\n#sk-container-id-2 a.estimator_doc_link.fitted {\n  /* fitted */\n  border: var(--sklearn-color-fitted-level-1) 1pt solid;\n  color: var(--sklearn-color-fitted-level-1);\n}\n\n/* On hover */\n#sk-container-id-2 a.estimator_doc_link:hover {\n  /* unfitted */\n  background-color: var(--sklearn-color-unfitted-level-3);\n  color: var(--sklearn-color-background);\n  text-decoration: none;\n}\n\n#sk-container-id-2 a.estimator_doc_link.fitted:hover {\n  /* fitted */\n  background-color: var(--sklearn-color-fitted-level-3);\n}\n</style><div id=\"sk-container-id-2\" class=\"sk-top-container\"><div class=\"sk-text-repr-fallback\"><pre>GridSearchCV(estimator=RandomForestClassifier(n_estimators=40, random_state=42),\n             param_grid={&#x27;bootstrap&#x27;: [True, False],\n                         &#x27;criterion&#x27;: [&#x27;gini&#x27;, &#x27;entropy&#x27;], &#x27;n_estimators&#x27;: [40],\n                         &#x27;random_state&#x27;: [42], &#x27;warm_start&#x27;: [True, False]})</pre><b>In a Jupyter environment, please rerun this cell to show the HTML representation or trust the notebook. <br />On GitHub, the HTML representation is unable to render, please try loading this page with nbviewer.org.</b></div><div class=\"sk-container\" hidden><div class=\"sk-item sk-dashed-wrapped\"><div class=\"sk-label-container\"><div class=\"sk-label fitted sk-toggleable\"><input class=\"sk-toggleable__control sk-hidden--visually\" id=\"sk-estimator-id-4\" type=\"checkbox\" ><label for=\"sk-estimator-id-4\" class=\"sk-toggleable__label fitted sk-toggleable__label-arrow fitted\">&nbsp;&nbsp;GridSearchCV<a class=\"sk-estimator-doc-link fitted\" rel=\"noreferrer\" target=\"_blank\" href=\"https://scikit-learn.org/1.4/modules/generated/sklearn.model_selection.GridSearchCV.html\">?<span>Documentation for GridSearchCV</span></a><span class=\"sk-estimator-doc-link fitted\">i<span>Fitted</span></span></label><div class=\"sk-toggleable__content fitted\"><pre>GridSearchCV(estimator=RandomForestClassifier(n_estimators=40, random_state=42),\n             param_grid={&#x27;bootstrap&#x27;: [True, False],\n                         &#x27;criterion&#x27;: [&#x27;gini&#x27;, &#x27;entropy&#x27;], &#x27;n_estimators&#x27;: [40],\n                         &#x27;random_state&#x27;: [42], &#x27;warm_start&#x27;: [True, False]})</pre></div> </div></div><div class=\"sk-parallel\"><div class=\"sk-parallel-item\"><div class=\"sk-item\"><div class=\"sk-label-container\"><div class=\"sk-label fitted sk-toggleable\"><input class=\"sk-toggleable__control sk-hidden--visually\" id=\"sk-estimator-id-5\" type=\"checkbox\" ><label for=\"sk-estimator-id-5\" class=\"sk-toggleable__label fitted sk-toggleable__label-arrow fitted\">estimator: RandomForestClassifier</label><div class=\"sk-toggleable__content fitted\"><pre>RandomForestClassifier(n_estimators=40, random_state=42)</pre></div> </div></div><div class=\"sk-serial\"><div class=\"sk-item\"><div class=\"sk-estimator fitted sk-toggleable\"><input class=\"sk-toggleable__control sk-hidden--visually\" id=\"sk-estimator-id-6\" type=\"checkbox\" ><label for=\"sk-estimator-id-6\" class=\"sk-toggleable__label fitted sk-toggleable__label-arrow fitted\">&nbsp;RandomForestClassifier<a class=\"sk-estimator-doc-link fitted\" rel=\"noreferrer\" target=\"_blank\" href=\"https://scikit-learn.org/1.4/modules/generated/sklearn.ensemble.RandomForestClassifier.html\">?<span>Documentation for RandomForestClassifier</span></a></label><div class=\"sk-toggleable__content fitted\"><pre>RandomForestClassifier(n_estimators=40, random_state=42)</pre></div> </div></div></div></div></div></div></div></div></div>"
     },
     "execution_count": 89,
     "metadata": {},
     "output_type": "execute_result"
    }
   ],
   "source": [
    "grid_search_rf = GridSearchCV(estimator = rf_model, param_grid = param_grid)\n",
    "grid_search_rf.fit(x_train, y_train)"
   ],
   "metadata": {
    "collapsed": false,
    "ExecuteTime": {
     "end_time": "2024-03-29T11:30:38.427283Z",
     "start_time": "2024-03-29T11:29:34.134290Z"
    }
   },
   "id": "6f7e61009288d6e7",
   "execution_count": 89
  },
  {
   "cell_type": "code",
   "outputs": [
    {
     "data": {
      "text/plain": "{'bootstrap': False,\n 'criterion': 'gini',\n 'n_estimators': 40,\n 'random_state': 42,\n 'warm_start': True}"
     },
     "execution_count": 90,
     "metadata": {},
     "output_type": "execute_result"
    }
   ],
   "source": [
    "# vew the optimal parameter list\n",
    "grid_search_rf.best_params_"
   ],
   "metadata": {
    "collapsed": false,
    "ExecuteTime": {
     "end_time": "2024-03-29T11:30:38.431497Z",
     "start_time": "2024-03-29T11:30:38.428415Z"
    }
   },
   "id": "7091a2b7db359415",
   "execution_count": 90
  },
  {
   "cell_type": "code",
   "outputs": [
    {
     "name": "stdout",
     "output_type": "stream",
     "text": [
      "Training accuracy :  0.9764824968367777\n",
      "Testing accuracy :  0.9182464942221491\n"
     ]
    }
   ],
   "source": [
    "# view training and testing accuracy\n",
    "pred_train = grid_search_rf.predict(x_train)\n",
    "pred_test = grid_search_rf.predict(x_test)\n",
    "\n",
    "print('Training accuracy : ', accuracy_score(pred_train, y_train))\n",
    "print('Testing accuracy : ', accuracy_score(pred_test, y_test))"
   ],
   "metadata": {
    "collapsed": false,
    "ExecuteTime": {
     "end_time": "2024-03-29T11:30:38.930056Z",
     "start_time": "2024-03-29T11:30:38.432228Z"
    }
   },
   "id": "48ba0853fcbb2742",
   "execution_count": 91
  },
  {
   "cell_type": "code",
   "outputs": [
    {
     "data": {
      "text/plain": "98175    1\n67456    1\n41863    0\n83611    1\n48590    0\n71100    1\n3030     0\n58805    0\n81679    1\n34538    0\nName: income, dtype: int64"
     },
     "execution_count": 92,
     "metadata": {},
     "output_type": "execute_result"
    }
   ],
   "source": [
    "y_test[:10]"
   ],
   "metadata": {
    "collapsed": false,
    "ExecuteTime": {
     "end_time": "2024-03-29T11:30:38.933989Z",
     "start_time": "2024-03-29T11:30:38.930802Z"
    }
   },
   "id": "64636fc5b417b92b",
   "execution_count": 92
  },
  {
   "cell_type": "code",
   "outputs": [
    {
     "data": {
      "text/plain": "array([1, 1, 0, 1, 0, 1, 0, 0, 1, 0])"
     },
     "execution_count": 93,
     "metadata": {},
     "output_type": "execute_result"
    }
   ],
   "source": [
    "# view the predicted values\n",
    "pred_test[:10]"
   ],
   "metadata": {
    "collapsed": false,
    "ExecuteTime": {
     "end_time": "2024-03-29T11:30:38.937048Z",
     "start_time": "2024-03-29T11:30:38.934682Z"
    }
   },
   "id": "7883307534f8483b",
   "execution_count": 93
  },
  {
   "cell_type": "code",
   "outputs": [],
   "source": [
    "from sklearn.metrics import confusion_matrix"
   ],
   "metadata": {
    "collapsed": false,
    "ExecuteTime": {
     "end_time": "2024-03-29T11:30:38.939241Z",
     "start_time": "2024-03-29T11:30:38.937580Z"
    }
   },
   "id": "1128c828eb4413a2",
   "execution_count": 94
  },
  {
   "cell_type": "code",
   "outputs": [
    {
     "data": {
      "text/plain": "array([[14244,   440],\n       [ 1548,  8085]])"
     },
     "execution_count": 95,
     "metadata": {},
     "output_type": "execute_result"
    }
   ],
   "source": [
    "# confusion matrix\n",
    "confusion_matrix(pred_test, y_test)"
   ],
   "metadata": {
    "collapsed": false,
    "ExecuteTime": {
     "end_time": "2024-03-29T11:30:38.944940Z",
     "start_time": "2024-03-29T11:30:38.939831Z"
    }
   },
   "id": "f9147259dca5c7f3",
   "execution_count": 95
  },
  {
   "cell_type": "code",
   "outputs": [],
   "source": [
    "from sklearn.metrics import classification_report"
   ],
   "metadata": {
    "collapsed": false,
    "ExecuteTime": {
     "end_time": "2024-03-29T11:30:38.947163Z",
     "start_time": "2024-03-29T11:30:38.945576Z"
    }
   },
   "id": "c5ef5ebce9403110",
   "execution_count": 96
  },
  {
   "cell_type": "code",
   "outputs": [
    {
     "name": "stdout",
     "output_type": "stream",
     "text": [
      "              precision    recall  f1-score   support\n",
      "\n",
      "           0       0.90      0.97      0.93     14684\n",
      "           1       0.95      0.84      0.89      9633\n",
      "\n",
      "    accuracy                           0.92     24317\n",
      "   macro avg       0.93      0.90      0.91     24317\n",
      "weighted avg       0.92      0.92      0.92     24317\n"
     ]
    }
   ],
   "source": [
    "# view precision, recall, f1-score\n",
    "print(classification_report(pred_test, y_test))"
   ],
   "metadata": {
    "collapsed": false,
    "ExecuteTime": {
     "end_time": "2024-03-29T11:30:38.971597Z",
     "start_time": "2024-03-29T11:30:38.947971Z"
    }
   },
   "id": "6d65aa8135a56eeb",
   "execution_count": 97
  },
  {
   "cell_type": "code",
   "outputs": [],
   "source": [
    "from sklearn.metrics import roc_curve"
   ],
   "metadata": {
    "collapsed": false,
    "ExecuteTime": {
     "end_time": "2024-03-29T11:30:38.973793Z",
     "start_time": "2024-03-29T11:30:38.972267Z"
    }
   },
   "id": "755513e478a25cee",
   "execution_count": 98
  },
  {
   "cell_type": "code",
   "outputs": [
    {
     "data": {
      "text/plain": "<Figure size 640x480 with 1 Axes>",
      "image/png": "[encoded data removed]"
     },
     "metadata": {},
     "output_type": "display_data"
    }
   ],
   "source": [
    "# ROC curve\n",
    "fpr, tpr, thresholds = roc_curve(pred_test, y_test)\n",
    "plt.plot(fpr, tpr)\n",
    "plt.title('ROC curve')\n",
    "plt.show()"
   ],
   "metadata": {
    "collapsed": false,
    "ExecuteTime": {
     "end_time": "2024-03-29T11:30:39.060088Z",
     "start_time": "2024-03-29T11:30:38.974597Z"
    }
   },
   "id": "9f6d9b1172b0929a",
   "execution_count": 99
  },
  {
   "cell_type": "code",
   "outputs": [
    {
     "name": "stdout",
     "output_type": "stream",
     "text": [
      "roc_auc_score :  0.9046689053504701\n"
     ]
    }
   ],
   "source": [
    "# view the roc_auc_score\n",
    "print('roc_auc_score : ', roc_auc_score(pred_test, y_test))"
   ],
   "metadata": {
    "collapsed": false,
    "ExecuteTime": {
     "end_time": "2024-03-29T11:30:39.067301Z",
     "start_time": "2024-03-29T11:30:39.061401Z"
    }
   },
   "id": "ce648464a82722c2",
   "execution_count": 100
  }
 ],
 "metadata": {
  "kernelspec": {
   "display_name": "Python 3",
   "language": "python",
   "name": "python3"
  },
  "language_info": {
   "codemirror_mode": {
    "name": "ipython",
    "version": 2
   },
   "file_extension": ".py",
   "mimetype": "text/x-python",
   "name": "python",
   "nbconvert_exporter": "python",
   "pygments_lexer": "ipython2",
   "version": "2.7.6"
  }
 },
 "nbformat": 4,
 "nbformat_minor": 5
}
