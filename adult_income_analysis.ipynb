{
 "cells": [
  {
   "cell_type": "code",
   "execution_count": 1,
   "id": "initial_id",
   "metadata": {
    "collapsed": true,
    "ExecuteTime": {
     "end_time": "2024-03-14T01:57:07.744806Z",
     "start_time": "2024-03-14T01:57:07.347935Z"
    }
   },
   "outputs": [],
   "source": [
    "# install ucimlrepo, pandas, matplotlib packages\n",
    "\n",
    "from ucimlrepo import fetch_ucirepo "
   ]
  },
  {
   "cell_type": "code",
   "outputs": [
    {
     "data": {
      "text/plain": "((48842, 14), (48842, 1))"
     },
     "execution_count": 147,
     "metadata": {},
     "output_type": "execute_result"
    }
   ],
   "source": [
    "# fetch dataset \n",
    "adult = fetch_ucirepo(id=2) \n",
    "  \n",
    "# data (as pandas dataframes) \n",
    "x = adult.data.features \n",
    "y = adult.data.targets \n",
    "\n",
    "# shape of data\n",
    "x.shape, y.shape"
   ],
   "metadata": {
    "collapsed": false,
    "ExecuteTime": {
     "end_time": "2024-03-14T02:50:58.890790Z",
     "start_time": "2024-03-14T02:50:49.110238Z"
    }
   },
   "id": "495158470cccf097",
   "execution_count": 147
  },
  {
   "cell_type": "code",
   "outputs": [
    {
     "name": "stdout",
     "output_type": "stream",
     "text": [
      "<class 'pandas.core.frame.DataFrame'>\n",
      "RangeIndex: 48842 entries, 0 to 48841\n",
      "Data columns (total 14 columns):\n",
      " #   Column          Non-Null Count  Dtype \n",
      "---  ------          --------------  ----- \n",
      " 0   age             48842 non-null  int64 \n",
      " 1   workclass       47879 non-null  object\n",
      " 2   fnlwgt          48842 non-null  int64 \n",
      " 3   education       48842 non-null  object\n",
      " 4   education-num   48842 non-null  int64 \n",
      " 5   marital-status  48842 non-null  object\n",
      " 6   occupation      47876 non-null  object\n",
      " 7   relationship    48842 non-null  object\n",
      " 8   race            48842 non-null  object\n",
      " 9   sex             48842 non-null  object\n",
      " 10  capital-gain    48842 non-null  int64 \n",
      " 11  capital-loss    48842 non-null  int64 \n",
      " 12  hours-per-week  48842 non-null  int64 \n",
      " 13  native-country  48568 non-null  object\n",
      "dtypes: int64(6), object(8)\n",
      "memory usage: 5.2+ MB\n"
     ]
    }
   ],
   "source": [
    "# look for null values, data types\n",
    "x.info()"
   ],
   "metadata": {
    "collapsed": false,
    "ExecuteTime": {
     "end_time": "2024-03-14T02:50:58.907491Z",
     "start_time": "2024-03-14T02:50:58.892360Z"
    }
   },
   "id": "ef462139fb776629",
   "execution_count": 148
  },
  {
   "cell_type": "code",
   "outputs": [
    {
     "name": "stdout",
     "output_type": "stream",
     "text": [
      "<class 'pandas.core.frame.DataFrame'>\n",
      "RangeIndex: 48842 entries, 0 to 48841\n",
      "Data columns (total 1 columns):\n",
      " #   Column  Non-Null Count  Dtype \n",
      "---  ------  --------------  ----- \n",
      " 0   income  48842 non-null  object\n",
      "dtypes: object(1)\n",
      "memory usage: 381.7+ KB\n"
     ]
    }
   ],
   "source": [
    "# look for null values, data types\n",
    "y.info()"
   ],
   "metadata": {
    "collapsed": false,
    "ExecuteTime": {
     "end_time": "2024-03-14T02:50:58.912498Z",
     "start_time": "2024-03-14T02:50:58.908339Z"
    }
   },
   "id": "bc9fe6d2965d05e8",
   "execution_count": 149
  },
  {
   "cell_type": "code",
   "outputs": [],
   "source": [
    "import pandas as pd"
   ],
   "metadata": {
    "collapsed": false,
    "ExecuteTime": {
     "end_time": "2024-03-14T02:50:58.915509Z",
     "start_time": "2024-03-14T02:50:58.913845Z"
    }
   },
   "id": "ef2ebadf24f5d1f2",
   "execution_count": 150
  },
  {
   "cell_type": "code",
   "outputs": [
    {
     "data": {
      "text/plain": "       age         workclass  fnlwgt education  education-num  \\\n19744   57           Private   29375   HS-grad              9   \n46549   62           Private  584259   HS-grad              9   \n7716    58  Self-emp-not-inc  222311   HS-grad              9   \n\n           marital-status     occupation   relationship                race  \\\n19744           Separated          Sales  Not-in-family  Amer-Indian-Eskimo   \n46549  Married-civ-spouse          Sales        Husband               White   \n7716   Married-civ-spouse  Other-service        Husband               White   \n\n          sex  capital-gain  capital-loss  hours-per-week native-country  \\\n19744  Female             0             0              35  United-States   \n46549    Male             0             0              44  United-States   \n7716     Male          7688             0              55  United-States   \n\n       income  \n19744   <=50K  \n46549  <=50K.  \n7716     >50K  ",
      "text/html": "<div>\n<style scoped>\n    .dataframe tbody tr th:only-of-type {\n        vertical-align: middle;\n    }\n\n    .dataframe tbody tr th {\n        vertical-align: top;\n    }\n\n    .dataframe thead th {\n        text-align: right;\n    }\n</style>\n<table border=\"1\" class=\"dataframe\">\n  <thead>\n    <tr style=\"text-align: right;\">\n      <th></th>\n      <th>age</th>\n      <th>workclass</th>\n      <th>fnlwgt</th>\n      <th>education</th>\n      <th>education-num</th>\n      <th>marital-status</th>\n      <th>occupation</th>\n      <th>relationship</th>\n      <th>race</th>\n      <th>sex</th>\n      <th>capital-gain</th>\n      <th>capital-loss</th>\n      <th>hours-per-week</th>\n      <th>native-country</th>\n      <th>income</th>\n    </tr>\n  </thead>\n  <tbody>\n    <tr>\n      <th>19744</th>\n      <td>57</td>\n      <td>Private</td>\n      <td>29375</td>\n      <td>HS-grad</td>\n      <td>9</td>\n      <td>Separated</td>\n      <td>Sales</td>\n      <td>Not-in-family</td>\n      <td>Amer-Indian-Eskimo</td>\n      <td>Female</td>\n      <td>0</td>\n      <td>0</td>\n      <td>35</td>\n      <td>United-States</td>\n      <td>&lt;=50K</td>\n    </tr>\n    <tr>\n      <th>46549</th>\n      <td>62</td>\n      <td>Private</td>\n      <td>584259</td>\n      <td>HS-grad</td>\n      <td>9</td>\n      <td>Married-civ-spouse</td>\n      <td>Sales</td>\n      <td>Husband</td>\n      <td>White</td>\n      <td>Male</td>\n      <td>0</td>\n      <td>0</td>\n      <td>44</td>\n      <td>United-States</td>\n      <td>&lt;=50K.</td>\n    </tr>\n    <tr>\n      <th>7716</th>\n      <td>58</td>\n      <td>Self-emp-not-inc</td>\n      <td>222311</td>\n      <td>HS-grad</td>\n      <td>9</td>\n      <td>Married-civ-spouse</td>\n      <td>Other-service</td>\n      <td>Husband</td>\n      <td>White</td>\n      <td>Male</td>\n      <td>7688</td>\n      <td>0</td>\n      <td>55</td>\n      <td>United-States</td>\n      <td>&gt;50K</td>\n    </tr>\n  </tbody>\n</table>\n</div>"
     },
     "execution_count": 151,
     "metadata": {},
     "output_type": "execute_result"
    }
   ],
   "source": [
    "df = pd.concat([x, y], axis=1)\n",
    "df.sample(3)"
   ],
   "metadata": {
    "collapsed": false,
    "ExecuteTime": {
     "end_time": "2024-03-14T02:50:58.927278Z",
     "start_time": "2024-03-14T02:50:58.916158Z"
    }
   },
   "id": "94af50d9e47c3f96",
   "execution_count": 151
  },
  {
   "cell_type": "code",
   "outputs": [
    {
     "data": {
      "text/plain": "income\n<=50K     24720\n<=50K.    12435\n>50K       7841\n>50K.      3846\nName: count, dtype: int64"
     },
     "execution_count": 152,
     "metadata": {},
     "output_type": "execute_result"
    }
   ],
   "source": [
    "# view unique values with value counts\n",
    "df['income'].value_counts()"
   ],
   "metadata": {
    "collapsed": false,
    "ExecuteTime": {
     "end_time": "2024-03-14T02:50:58.931716Z",
     "start_time": "2024-03-14T02:50:58.927957Z"
    }
   },
   "id": "54200c6885278f60",
   "execution_count": 152
  },
  {
   "cell_type": "code",
   "outputs": [
    {
     "data": {
      "text/plain": "income\n<=50K    37155\n>50K     11687\nName: count, dtype: int64"
     },
     "execution_count": 153,
     "metadata": {},
     "output_type": "execute_result"
    }
   ],
   "source": [
    "def process_income(income):\n",
    "    if income == '<=50K.':\n",
    "        return '<=50K'\n",
    "    elif income == '>50K.':\n",
    "        return '>50K'\n",
    "    else: \n",
    "        return income\n",
    "    \n",
    "df['income'] = df['income'].apply(process_income)\n",
    "df['income'].value_counts()"
   ],
   "metadata": {
    "collapsed": false,
    "ExecuteTime": {
     "end_time": "2024-03-14T02:50:58.941832Z",
     "start_time": "2024-03-14T02:50:58.932358Z"
    }
   },
   "id": "7c696d95557ac8eb",
   "execution_count": 153
  },
  {
   "cell_type": "code",
   "outputs": [
    {
     "data": {
      "text/plain": "count    48842.000000\nmean        38.643585\nstd         13.710510\nmin         17.000000\n25%         28.000000\n50%         37.000000\n75%         48.000000\nmax         90.000000\nName: age, dtype: float64"
     },
     "execution_count": 154,
     "metadata": {},
     "output_type": "execute_result"
    }
   ],
   "source": [
    "df['age'].describe()"
   ],
   "metadata": {
    "collapsed": false,
    "ExecuteTime": {
     "end_time": "2024-03-14T02:50:58.952288Z",
     "start_time": "2024-03-14T02:50:58.942597Z"
    }
   },
   "id": "51c6a18e18e8550c",
   "execution_count": 154
  },
  {
   "cell_type": "code",
   "outputs": [],
   "source": [
    "from matplotlib import pyplot as plt"
   ],
   "metadata": {
    "collapsed": false,
    "ExecuteTime": {
     "end_time": "2024-03-14T02:50:58.954259Z",
     "start_time": "2024-03-14T02:50:58.952920Z"
    }
   },
   "id": "89d1fc1365cbeed9",
   "execution_count": 155
  },
  {
   "cell_type": "code",
   "outputs": [
    {
     "data": {
      "text/plain": "<Figure size 640x480 with 1 Axes>",
      "image/png": "[encoded data removed]"
     },
     "metadata": {},
     "output_type": "display_data"
    }
   ],
   "source": [
    "plt.hist(df['age'], bins=50)\n",
    "plt.show()"
   ],
   "metadata": {
    "collapsed": false,
    "ExecuteTime": {
     "end_time": "2024-03-14T02:50:59.050914Z",
     "start_time": "2024-03-14T02:50:58.956025Z"
    }
   },
   "id": "dd1ea034975d6849",
   "execution_count": 156
  },
  {
   "cell_type": "code",
   "outputs": [
    {
     "data": {
      "text/plain": "373"
     },
     "execution_count": 157,
     "metadata": {},
     "output_type": "execute_result"
    }
   ],
   "source": [
    "(df['age'] > 75).sum()"
   ],
   "metadata": {
    "collapsed": false,
    "ExecuteTime": {
     "end_time": "2024-03-14T02:50:59.054605Z",
     "start_time": "2024-03-14T02:50:59.051528Z"
    }
   },
   "id": "6b94176a61c96a3f",
   "execution_count": 157
  },
  {
   "cell_type": "code",
   "outputs": [
    {
     "data": {
      "text/plain": "age\n76    69\n90    55\n77    54\n80    38\n81    37\n78    34\n79    30\n82    15\n84    13\n83    11\n88     6\n85     5\n87     3\n89     2\n86     1\nName: count, dtype: int64"
     },
     "execution_count": 158,
     "metadata": {},
     "output_type": "execute_result"
    }
   ],
   "source": [
    "age_filter_1 = df['age'] > 75\n",
    "df.loc[age_filter_1]['age'].value_counts()"
   ],
   "metadata": {
    "collapsed": false,
    "ExecuteTime": {
     "end_time": "2024-03-14T02:50:59.060365Z",
     "start_time": "2024-03-14T02:50:59.055150Z"
    }
   },
   "id": "92aec0e4322f5b28",
   "execution_count": 158
  },
  {
   "cell_type": "code",
   "outputs": [
    {
     "name": "stderr",
     "output_type": "stream",
     "text": [
      "/var/folders/qj/pw1c7jg14nd01mgxxf40rq9c0000gn/T/ipykernel_35939/361181970.py:3: FutureWarning: Setting an item of incompatible dtype is deprecated and will raise an error in a future version of pandas. Value '82.5' has dtype incompatible with int64, please explicitly cast to a compatible dtype first.\n",
      "  df.loc[age_filter_2 & age_filter_3, 'age'] = (75 + 90)/ 2\n"
     ]
    },
    {
     "data": {
      "text/plain": "age\n76.0    69\n90.0    55\n77.0    54\n80.0    38\n81.0    37\n78.0    34\n79.0    30\n82.5    17\n82.0    15\n84.0    13\n83.0    11\nName: count, dtype: int64"
     },
     "execution_count": 159,
     "metadata": {},
     "output_type": "execute_result"
    }
   ],
   "source": [
    "age_filter_2 = df['age'] > 84\n",
    "age_filter_3 = df['age'] < 90\n",
    "df.loc[age_filter_2 & age_filter_3, 'age'] = (75 + 90)/ 2\n",
    "df.loc[age_filter_1]['age'].value_counts()"
   ],
   "metadata": {
    "collapsed": false,
    "ExecuteTime": {
     "end_time": "2024-03-14T02:50:59.068023Z",
     "start_time": "2024-03-14T02:50:59.061002Z"
    }
   },
   "id": "17b37a624c004ae9",
   "execution_count": 159
  },
  {
   "cell_type": "code",
   "outputs": [
    {
     "data": {
      "text/plain": "workclass\nPrivate             33906\nSelf-emp-not-inc     3862\nLocal-gov            3136\nState-gov            1981\n?                    1836\nSelf-emp-inc         1695\nFederal-gov          1432\nWithout-pay            21\nNever-worked           10\nName: count, dtype: int64"
     },
     "execution_count": 160,
     "metadata": {},
     "output_type": "execute_result"
    }
   ],
   "source": [
    "df['workclass'].value_counts()"
   ],
   "metadata": {
    "collapsed": false,
    "ExecuteTime": {
     "end_time": "2024-03-14T02:50:59.072221Z",
     "start_time": "2024-03-14T02:50:59.068617Z"
    }
   },
   "id": "d288288598cf9ef8",
   "execution_count": 160
  },
  {
   "cell_type": "code",
   "outputs": [
    {
     "data": {
      "text/plain": "income\n<=50K    29\n>50K      2\nName: count, dtype: int64"
     },
     "execution_count": 161,
     "metadata": {},
     "output_type": "execute_result"
    }
   ],
   "source": [
    "workclass_filt_1 = df['workclass'] == 'Without-pay'\n",
    "workclass_filt_2 = df['workclass'] == 'Never-worked'\n",
    "\n",
    "df.loc[workclass_filt_1 | workclass_filt_2, 'income'].value_counts()"
   ],
   "metadata": {
    "collapsed": false,
    "ExecuteTime": {
     "end_time": "2024-03-14T02:50:59.080229Z",
     "start_time": "2024-03-14T02:50:59.073431Z"
    }
   },
   "id": "90630507b372f2b",
   "execution_count": 161
  },
  {
   "cell_type": "code",
   "outputs": [
    {
     "data": {
      "text/plain": "(48840, 15)"
     },
     "execution_count": 162,
     "metadata": {},
     "output_type": "execute_result"
    }
   ],
   "source": [
    "indices = df[(workclass_filt_1 | workclass_filt_2) & (df['income'] == '>50K')].index\n",
    "df = df.drop(indices)\n",
    "df.shape"
   ],
   "metadata": {
    "collapsed": false,
    "ExecuteTime": {
     "end_time": "2024-03-14T02:50:59.091076Z",
     "start_time": "2024-03-14T02:50:59.080834Z"
    }
   },
   "id": "a0b718270c87870",
   "execution_count": 162
  },
  {
   "cell_type": "code",
   "outputs": [
    {
     "data": {
      "text/plain": "workclass\nPrivate             33906\nSelf-emp-not-inc     3862\nLocal-gov            3136\nState-gov            1981\nunknown              1836\nSelf-emp-inc         1695\nFederal-gov          1432\nunemployed             29\nName: count, dtype: int64"
     },
     "execution_count": 165,
     "metadata": {},
     "output_type": "execute_result"
    }
   ],
   "source": [
    "def process_workclass(workclass):\n",
    "    if workclass == '?':\n",
    "        return 'unknown'\n",
    "    elif workclass in ['Without-pay', 'Never-worked']:\n",
    "        return 'unemployed'\n",
    "    else:\n",
    "        return workclass\n",
    "    \n",
    "df['workclass'] = df['workclass'].apply(process_workclass)\n",
    "df['workclass'].value_counts()"
   ],
   "metadata": {
    "collapsed": false,
    "ExecuteTime": {
     "end_time": "2024-03-14T02:53:18.546663Z",
     "start_time": "2024-03-14T02:53:18.528387Z"
    }
   },
   "id": "649749f03e9faa58",
   "execution_count": 165
  }
 ],
 "metadata": {
  "kernelspec": {
   "display_name": "Python 3",
   "language": "python",
   "name": "python3"
  },
  "language_info": {
   "codemirror_mode": {
    "name": "ipython",
    "version": 2
   },
   "file_extension": ".py",
   "mimetype": "text/x-python",
   "name": "python",
   "nbconvert_exporter": "python",
   "pygments_lexer": "ipython2",
   "version": "2.7.6"
  }
 },
 "nbformat": 4,
 "nbformat_minor": 5
}
