{
 "cells": [
  {
   "cell_type": "code",
   "execution_count": 1,
   "id": "initial_id",
   "metadata": {
    "collapsed": true,
    "ExecuteTime": {
     "end_time": "2024-03-27T12:33:54.150166Z",
     "start_time": "2024-03-27T12:33:54.145191Z"
    }
   },
   "outputs": [],
   "source": [
    "# install ucimlrepo, pandas, imblearn, seaborn, matplotlib numpy and scikit-learn packages\n",
    "from ucimlrepo import fetch_ucirepo "
   ]
  },
  {
   "cell_type": "code",
   "outputs": [
    {
     "data": {
      "text/plain": "((48842, 14), (48842, 1))"
     },
     "execution_count": 2,
     "metadata": {},
     "output_type": "execute_result"
    }
   ],
   "source": [
    "# fetch dataset \n",
    "adult = fetch_ucirepo(id=2) \n",
    "  \n",
    "# data (as pandas dataframes) \n",
    "x = adult.data.features \n",
    "y = adult.data.targets \n",
    "\n",
    "# shape of data\n",
    "x.shape, y.shape"
   ],
   "metadata": {
    "collapsed": false,
    "ExecuteTime": {
     "end_time": "2024-03-27T12:34:05.570137Z",
     "start_time": "2024-03-27T12:33:54.425840Z"
    }
   },
   "id": "495158470cccf097",
   "execution_count": 2
  },
  {
   "cell_type": "markdown",
   "source": [
    "## Corpus Preparation"
   ],
   "metadata": {
    "collapsed": false
   },
   "id": "306dc158331f1d7b"
  },
  {
   "cell_type": "code",
   "outputs": [
    {
     "name": "stdout",
     "output_type": "stream",
     "text": [
      "<class 'pandas.core.frame.DataFrame'>\n",
      "RangeIndex: 48842 entries, 0 to 48841\n",
      "Data columns (total 14 columns):\n",
      " #   Column          Non-Null Count  Dtype \n",
      "---  ------          --------------  ----- \n",
      " 0   age             48842 non-null  int64 \n",
      " 1   workclass       47879 non-null  object\n",
      " 2   fnlwgt          48842 non-null  int64 \n",
      " 3   education       48842 non-null  object\n",
      " 4   education-num   48842 non-null  int64 \n",
      " 5   marital-status  48842 non-null  object\n",
      " 6   occupation      47876 non-null  object\n",
      " 7   relationship    48842 non-null  object\n",
      " 8   race            48842 non-null  object\n",
      " 9   sex             48842 non-null  object\n",
      " 10  capital-gain    48842 non-null  int64 \n",
      " 11  capital-loss    48842 non-null  int64 \n",
      " 12  hours-per-week  48842 non-null  int64 \n",
      " 13  native-country  48568 non-null  object\n",
      "dtypes: int64(6), object(8)\n",
      "memory usage: 5.2+ MB\n"
     ]
    }
   ],
   "source": [
    "# look for shape, null values, data types\n",
    "x.info()"
   ],
   "metadata": {
    "collapsed": false,
    "ExecuteTime": {
     "end_time": "2024-03-27T12:34:05.585637Z",
     "start_time": "2024-03-27T12:34:05.571235Z"
    }
   },
   "id": "ef462139fb776629",
   "execution_count": 3
  },
  {
   "cell_type": "code",
   "outputs": [
    {
     "name": "stdout",
     "output_type": "stream",
     "text": [
      "<class 'pandas.core.frame.DataFrame'>\n",
      "RangeIndex: 48842 entries, 0 to 48841\n",
      "Data columns (total 1 columns):\n",
      " #   Column  Non-Null Count  Dtype \n",
      "---  ------  --------------  ----- \n",
      " 0   income  48842 non-null  object\n",
      "dtypes: object(1)\n",
      "memory usage: 381.7+ KB\n"
     ]
    }
   ],
   "source": [
    "# look for null values, data type\n",
    "y.info()"
   ],
   "metadata": {
    "collapsed": false,
    "ExecuteTime": {
     "end_time": "2024-03-27T12:34:05.590069Z",
     "start_time": "2024-03-27T12:34:05.586303Z"
    }
   },
   "id": "bc9fe6d2965d05e8",
   "execution_count": 4
  },
  {
   "cell_type": "code",
   "outputs": [],
   "source": [
    "import pandas as pd"
   ],
   "metadata": {
    "collapsed": false,
    "ExecuteTime": {
     "end_time": "2024-03-27T12:34:05.592886Z",
     "start_time": "2024-03-27T12:34:05.591317Z"
    }
   },
   "id": "ef2ebadf24f5d1f2",
   "execution_count": 5
  },
  {
   "cell_type": "code",
   "outputs": [
    {
     "data": {
      "text/plain": "       age         workclass  fnlwgt  education  education-num  \\\n48480   37           Private  171393    HS-grad              9   \n14822   35           Private  200153    Masters             14   \n11240   45  Self-emp-not-inc   54098  Assoc-voc             11   \n\n           marital-status       occupation relationship   race   sex  \\\n48480  Married-civ-spouse            Sales      Husband  White  Male   \n14822  Married-civ-spouse  Exec-managerial      Husband  White  Male   \n11240  Married-civ-spouse  Farming-fishing      Husband  White  Male   \n\n       capital-gain  capital-loss  hours-per-week native-country  income  \n48480             0          1740              40  United-States  <=50K.  \n14822             0             0              45  United-States    >50K  \n11240             0             0              50  United-States    >50K  ",
      "text/html": "<div>\n<style scoped>\n    .dataframe tbody tr th:only-of-type {\n        vertical-align: middle;\n    }\n\n    .dataframe tbody tr th {\n        vertical-align: top;\n    }\n\n    .dataframe thead th {\n        text-align: right;\n    }\n</style>\n<table border=\"1\" class=\"dataframe\">\n  <thead>\n    <tr style=\"text-align: right;\">\n      <th></th>\n      <th>age</th>\n      <th>workclass</th>\n      <th>fnlwgt</th>\n      <th>education</th>\n      <th>education-num</th>\n      <th>marital-status</th>\n      <th>occupation</th>\n      <th>relationship</th>\n      <th>race</th>\n      <th>sex</th>\n      <th>capital-gain</th>\n      <th>capital-loss</th>\n      <th>hours-per-week</th>\n      <th>native-country</th>\n      <th>income</th>\n    </tr>\n  </thead>\n  <tbody>\n    <tr>\n      <th>48480</th>\n      <td>37</td>\n      <td>Private</td>\n      <td>171393</td>\n      <td>HS-grad</td>\n      <td>9</td>\n      <td>Married-civ-spouse</td>\n      <td>Sales</td>\n      <td>Husband</td>\n      <td>White</td>\n      <td>Male</td>\n      <td>0</td>\n      <td>1740</td>\n      <td>40</td>\n      <td>United-States</td>\n      <td>&lt;=50K.</td>\n    </tr>\n    <tr>\n      <th>14822</th>\n      <td>35</td>\n      <td>Private</td>\n      <td>200153</td>\n      <td>Masters</td>\n      <td>14</td>\n      <td>Married-civ-spouse</td>\n      <td>Exec-managerial</td>\n      <td>Husband</td>\n      <td>White</td>\n      <td>Male</td>\n      <td>0</td>\n      <td>0</td>\n      <td>45</td>\n      <td>United-States</td>\n      <td>&gt;50K</td>\n    </tr>\n    <tr>\n      <th>11240</th>\n      <td>45</td>\n      <td>Self-emp-not-inc</td>\n      <td>54098</td>\n      <td>Assoc-voc</td>\n      <td>11</td>\n      <td>Married-civ-spouse</td>\n      <td>Farming-fishing</td>\n      <td>Husband</td>\n      <td>White</td>\n      <td>Male</td>\n      <td>0</td>\n      <td>0</td>\n      <td>50</td>\n      <td>United-States</td>\n      <td>&gt;50K</td>\n    </tr>\n  </tbody>\n</table>\n</div>"
     },
     "execution_count": 6,
     "metadata": {},
     "output_type": "execute_result"
    }
   ],
   "source": [
    "# concatenate the features and targets into one dataframe for pre-processing\n",
    "df = pd.concat([x, y], axis=1)\n",
    "df.sample(3)"
   ],
   "metadata": {
    "collapsed": false,
    "ExecuteTime": {
     "end_time": "2024-03-27T12:34:05.602879Z",
     "start_time": "2024-03-27T12:34:05.593502Z"
    }
   },
   "id": "94af50d9e47c3f96",
   "execution_count": 6
  },
  {
   "cell_type": "code",
   "outputs": [
    {
     "data": {
      "text/plain": "False    48813\nTrue        29\nName: count, dtype: int64"
     },
     "execution_count": 7,
     "metadata": {},
     "output_type": "execute_result"
    }
   ],
   "source": [
    "# view how many records are duplicated\n",
    "df.duplicated().value_counts()"
   ],
   "metadata": {
    "collapsed": false,
    "ExecuteTime": {
     "end_time": "2024-03-27T12:34:05.622908Z",
     "start_time": "2024-03-27T12:34:05.603534Z"
    }
   },
   "id": "cf3de66b09920dc6",
   "execution_count": 7
  },
  {
   "cell_type": "code",
   "outputs": [
    {
     "data": {
      "text/plain": "(48813, 15)"
     },
     "execution_count": 8,
     "metadata": {},
     "output_type": "execute_result"
    }
   ],
   "source": [
    "# drop duplicated samples keeping the first one\n",
    "df = df.drop_duplicates(keep = 'first')\n",
    "df.shape"
   ],
   "metadata": {
    "collapsed": false,
    "ExecuteTime": {
     "end_time": "2024-03-27T12:34:05.645384Z",
     "start_time": "2024-03-27T12:34:05.623608Z"
    }
   },
   "id": "5cd29208e20281cc",
   "execution_count": 8
  },
  {
   "cell_type": "code",
   "outputs": [],
   "source": [
    "from matplotlib import pyplot as plt"
   ],
   "metadata": {
    "collapsed": false,
    "ExecuteTime": {
     "end_time": "2024-03-27T12:34:05.648229Z",
     "start_time": "2024-03-27T12:34:05.646109Z"
    }
   },
   "id": "605d38f5bb3afc6",
   "execution_count": 9
  },
  {
   "cell_type": "code",
   "outputs": [
    {
     "data": {
      "text/plain": "<Figure size 500x400 with 1 Axes>",
      "image/png": "[encoded data removed]"
     },
     "metadata": {},
     "output_type": "display_data"
    }
   ],
   "source": [
    "# visualise the imbalances of the dataset\n",
    "plt.figure(figsize=(5, 4))\n",
    "df['income'].value_counts().plot(kind = 'bar')\n",
    "plt.title('Value count of a class in target variable')\n",
    "plt.xlabel('Income classes')\n",
    "plt.ylabel('Value counts')\n",
    "plt.show()"
   ],
   "metadata": {
    "collapsed": false,
    "ExecuteTime": {
     "end_time": "2024-03-27T12:34:05.789964Z",
     "start_time": "2024-03-27T12:34:05.649084Z"
    }
   },
   "id": "6002d11a390d8f59",
   "execution_count": 10
  },
  {
   "cell_type": "code",
   "outputs": [],
   "source": [
    "# separate features and targets for sampling\n",
    "x = df.drop(columns=['income'])\n",
    "y = df['income']"
   ],
   "metadata": {
    "collapsed": false,
    "ExecuteTime": {
     "end_time": "2024-03-27T12:34:05.809206Z",
     "start_time": "2024-03-27T12:34:05.802524Z"
    }
   },
   "id": "19361fdcc06639f8",
   "execution_count": 11
  },
  {
   "cell_type": "code",
   "outputs": [],
   "source": [
    "from imblearn.over_sampling import RandomOverSampler"
   ],
   "metadata": {
    "collapsed": false,
    "ExecuteTime": {
     "end_time": "2024-03-27T12:34:06.158821Z",
     "start_time": "2024-03-27T12:34:05.811458Z"
    }
   },
   "id": "d36fb2dff5f1ae24",
   "execution_count": 12
  },
  {
   "cell_type": "code",
   "outputs": [
    {
     "data": {
      "text/plain": "<Figure size 500x400 with 1 Axes>",
      "image/png": "[encoded data removed]"
     },
     "metadata": {},
     "output_type": "display_data"
    }
   ],
   "source": [
    "oversample = RandomOverSampler(random_state=42)\n",
    "\n",
    "# resample and balance the dataset\n",
    "x, y = oversample.fit_resample(x, y)\n",
    "\n",
    "plt.figure(figsize=(5, 4))\n",
    "y.value_counts().plot(kind = 'bar')\n",
    "plt.title('Value count of a class in target variable')\n",
    "plt.xlabel('Income classes')\n",
    "plt.ylabel('Value counts')\n",
    "plt.show()"
   ],
   "metadata": {
    "collapsed": false,
    "ExecuteTime": {
     "end_time": "2024-03-27T12:34:06.329796Z",
     "start_time": "2024-03-27T12:34:06.164732Z"
    }
   },
   "id": "cc6a5ce106cc955d",
   "execution_count": 13
  },
  {
   "cell_type": "code",
   "outputs": [
    {
     "data": {
      "text/plain": "       age     workclass  fnlwgt  education  education-num  \\\n41187   36       Private  101192    HS-grad              9   \n86787   43  Self-emp-inc  123490  Bachelors             13   \n4705    40       Private  273308    HS-grad              9   \n\n           marital-status         occupation relationship   race     sex  \\\n41187  Married-civ-spouse       Craft-repair      Husband  White    Male   \n86787  Married-civ-spouse    Exec-managerial      Husband  White    Male   \n4705             Divorced  Machine-op-inspct    Unmarried  White  Female   \n\n       capital-gain  capital-loss  hours-per-week native-country income  \n41187             0             0              40  United-States  >50K.  \n86787             0             0              40  United-States  >50K.  \n4705              0             0              48         Mexico  <=50K  ",
      "text/html": "<div>\n<style scoped>\n    .dataframe tbody tr th:only-of-type {\n        vertical-align: middle;\n    }\n\n    .dataframe tbody tr th {\n        vertical-align: top;\n    }\n\n    .dataframe thead th {\n        text-align: right;\n    }\n</style>\n<table border=\"1\" class=\"dataframe\">\n  <thead>\n    <tr style=\"text-align: right;\">\n      <th></th>\n      <th>age</th>\n      <th>workclass</th>\n      <th>fnlwgt</th>\n      <th>education</th>\n      <th>education-num</th>\n      <th>marital-status</th>\n      <th>occupation</th>\n      <th>relationship</th>\n      <th>race</th>\n      <th>sex</th>\n      <th>capital-gain</th>\n      <th>capital-loss</th>\n      <th>hours-per-week</th>\n      <th>native-country</th>\n      <th>income</th>\n    </tr>\n  </thead>\n  <tbody>\n    <tr>\n      <th>41187</th>\n      <td>36</td>\n      <td>Private</td>\n      <td>101192</td>\n      <td>HS-grad</td>\n      <td>9</td>\n      <td>Married-civ-spouse</td>\n      <td>Craft-repair</td>\n      <td>Husband</td>\n      <td>White</td>\n      <td>Male</td>\n      <td>0</td>\n      <td>0</td>\n      <td>40</td>\n      <td>United-States</td>\n      <td>&gt;50K.</td>\n    </tr>\n    <tr>\n      <th>86787</th>\n      <td>43</td>\n      <td>Self-emp-inc</td>\n      <td>123490</td>\n      <td>Bachelors</td>\n      <td>13</td>\n      <td>Married-civ-spouse</td>\n      <td>Exec-managerial</td>\n      <td>Husband</td>\n      <td>White</td>\n      <td>Male</td>\n      <td>0</td>\n      <td>0</td>\n      <td>40</td>\n      <td>United-States</td>\n      <td>&gt;50K.</td>\n    </tr>\n    <tr>\n      <th>4705</th>\n      <td>40</td>\n      <td>Private</td>\n      <td>273308</td>\n      <td>HS-grad</td>\n      <td>9</td>\n      <td>Divorced</td>\n      <td>Machine-op-inspct</td>\n      <td>Unmarried</td>\n      <td>White</td>\n      <td>Female</td>\n      <td>0</td>\n      <td>0</td>\n      <td>48</td>\n      <td>Mexico</td>\n      <td>&lt;=50K</td>\n    </tr>\n  </tbody>\n</table>\n</div>"
     },
     "execution_count": 14,
     "metadata": {},
     "output_type": "execute_result"
    }
   ],
   "source": [
    "# concatenate the features and targets into one dataframe for pre-processing\n",
    "df = pd.concat([x, y], axis=1)\n",
    "df.sample(3)"
   ],
   "metadata": {
    "collapsed": false,
    "ExecuteTime": {
     "end_time": "2024-03-27T12:34:06.350980Z",
     "start_time": "2024-03-27T12:34:06.331111Z"
    }
   },
   "id": "fe59316e41c596c2",
   "execution_count": 14
  },
  {
   "cell_type": "code",
   "outputs": [
    {
     "data": {
      "text/plain": "(98792, 15)"
     },
     "execution_count": 15,
     "metadata": {},
     "output_type": "execute_result"
    }
   ],
   "source": [
    "df.shape"
   ],
   "metadata": {
    "collapsed": false,
    "ExecuteTime": {
     "end_time": "2024-03-27T12:34:06.354845Z",
     "start_time": "2024-03-27T12:34:06.351986Z"
    }
   },
   "id": "a5d502c2ad7a5c9",
   "execution_count": 15
  },
  {
   "cell_type": "code",
   "outputs": [
    {
     "data": {
      "text/plain": "income\n<=50K     24698\n>50K      24698\n<=50K.    24698\n>50K.     24698\nName: count, dtype: int64"
     },
     "execution_count": 16,
     "metadata": {},
     "output_type": "execute_result"
    }
   ],
   "source": [
    "# view unique values with value counts\n",
    "df['income'].value_counts()"
   ],
   "metadata": {
    "collapsed": false,
    "ExecuteTime": {
     "end_time": "2024-03-27T12:34:06.363092Z",
     "start_time": "2024-03-27T12:34:06.355896Z"
    }
   },
   "id": "54200c6885278f60",
   "execution_count": 16
  },
  {
   "cell_type": "code",
   "outputs": [
    {
     "data": {
      "text/plain": "income\n0    49396\n1    49396\nName: count, dtype: int64"
     },
     "execution_count": 17,
     "metadata": {},
     "output_type": "execute_result"
    }
   ],
   "source": [
    "# method to make the problem into binary classification problem\n",
    "# 1 for income > 50K and 0 for <= 50K\n",
    "def process_income(income):\n",
    "    if income == '>50K.':\n",
    "        return 1\n",
    "    elif income == '<=50K.':\n",
    "        return 0\n",
    "    elif income == '>50K':\n",
    "        return 1\n",
    "    elif income == '<=50K':\n",
    "        return 0\n",
    "    \n",
    "df['income'] = df['income'].apply(process_income)\n",
    "df['income'].value_counts()"
   ],
   "metadata": {
    "collapsed": false,
    "ExecuteTime": {
     "end_time": "2024-03-27T12:34:06.387Z",
     "start_time": "2024-03-27T12:34:06.364063Z"
    }
   },
   "id": "7c696d95557ac8eb",
   "execution_count": 17
  },
  {
   "cell_type": "code",
   "outputs": [],
   "source": [
    "import seaborn as sns"
   ],
   "metadata": {
    "collapsed": false,
    "ExecuteTime": {
     "end_time": "2024-03-27T12:34:06.390543Z",
     "start_time": "2024-03-27T12:34:06.388011Z"
    }
   },
   "id": "8a57b5ce1b6403fd",
   "execution_count": 18
  },
  {
   "cell_type": "code",
   "outputs": [
    {
     "data": {
      "text/plain": "<Axes: >"
     },
     "execution_count": 19,
     "metadata": {},
     "output_type": "execute_result"
    },
    {
     "data": {
      "text/plain": "<Figure size 640x480 with 2 Axes>",
      "image/png": "[encoded data removed]"
     },
     "metadata": {},
     "output_type": "display_data"
    }
   ],
   "source": [
    "numerical_features = df.select_dtypes(include=['int64'])\n",
    "corr_metrics = numerical_features.corr()\n",
    "sns.heatmap(corr_metrics, annot=True, cmap=sns.light_palette(\"seagreen\", as_cmap=True))"
   ],
   "metadata": {
    "collapsed": false,
    "ExecuteTime": {
     "end_time": "2024-03-27T12:34:06.571649Z",
     "start_time": "2024-03-27T12:34:06.391697Z"
    }
   },
   "id": "3f41ec30b72deba8",
   "execution_count": 19
  },
  {
   "cell_type": "code",
   "outputs": [],
   "source": [
    "# drop non dependent variables\n",
    "df = df.drop(columns='fnlwgt')"
   ],
   "metadata": {
    "collapsed": false,
    "ExecuteTime": {
     "end_time": "2024-03-27T12:34:06.582730Z",
     "start_time": "2024-03-27T12:34:06.572524Z"
    }
   },
   "id": "4987705c4729b611",
   "execution_count": 20
  },
  {
   "cell_type": "code",
   "outputs": [
    {
     "data": {
      "text/plain": "count    98792.000000\nmean        40.575239\nstd         13.015335\nmin         17.000000\n25%         31.000000\n50%         40.000000\n75%         49.000000\nmax         90.000000\nName: age, dtype: float64"
     },
     "execution_count": 21,
     "metadata": {},
     "output_type": "execute_result"
    }
   ],
   "source": [
    "df['age'].describe()"
   ],
   "metadata": {
    "collapsed": false,
    "ExecuteTime": {
     "end_time": "2024-03-27T12:34:06.593358Z",
     "start_time": "2024-03-27T12:34:06.583329Z"
    }
   },
   "id": "51c6a18e18e8550c",
   "execution_count": 21
  },
  {
   "cell_type": "code",
   "outputs": [
    {
     "data": {
      "text/plain": "<Figure size 640x480 with 1 Axes>",
      "image/png": "[encoded data removed]"
     },
     "metadata": {},
     "output_type": "display_data"
    }
   ],
   "source": [
    "# visualise how the age values are distributed\n",
    "plt.hist(df['age'], bins=20)\n",
    "plt.show()"
   ],
   "metadata": {
    "collapsed": false,
    "ExecuteTime": {
     "end_time": "2024-03-27T12:34:06.686948Z",
     "start_time": "2024-03-27T12:34:06.594254Z"
    }
   },
   "id": "dd1ea034975d6849",
   "execution_count": 22
  },
  {
   "cell_type": "code",
   "outputs": [
    {
     "data": {
      "text/plain": "age\n90    109\n81     74\n83     21\n82     19\n84     18\n88     13\n85     11\n89      5\n87      4\n86      1\nName: count, dtype: int64"
     },
     "execution_count": 23,
     "metadata": {},
     "output_type": "execute_result"
    }
   ],
   "source": [
    "# view the frequency of ages greater than 80\n",
    "age_filter_80 = (df['age'] > 80)\n",
    "df.loc[age_filter_80]['age'].value_counts()"
   ],
   "metadata": {
    "collapsed": false,
    "ExecuteTime": {
     "end_time": "2024-03-27T12:34:06.692308Z",
     "start_time": "2024-03-27T12:34:06.687642Z"
    }
   },
   "id": "92aec0e4322f5b28",
   "execution_count": 23
  },
  {
   "cell_type": "code",
   "outputs": [
    {
     "data": {
      "text/plain": "age\n90    109\n81     74\n87     34\n83     21\n82     19\n84     18\nName: count, dtype: int64"
     },
     "execution_count": 24,
     "metadata": {},
     "output_type": "execute_result"
    }
   ],
   "source": [
    "# replace age values between 84 and 90 by mean value of 84 and 90 to increase the record count for training\n",
    "age_filter_84 = (df['age'] > 84)\n",
    "age_filter_90 = (df['age'] < 90)\n",
    "df.loc[age_filter_84 & age_filter_90, 'age'] = int((85 + 90)/ 2)\n",
    "df.loc[age_filter_80]['age'].value_counts()"
   ],
   "metadata": {
    "collapsed": false,
    "ExecuteTime": {
     "end_time": "2024-03-27T12:34:06.698851Z",
     "start_time": "2024-03-27T12:34:06.693296Z"
    }
   },
   "id": "17b37a624c004ae9",
   "execution_count": 24
  },
  {
   "cell_type": "code",
   "outputs": [
    {
     "data": {
      "text/plain": "2259"
     },
     "execution_count": 25,
     "metadata": {},
     "output_type": "execute_result"
    }
   ],
   "source": [
    "# as the workclass contains null values, view the count\n",
    "df['workclass'].isnull().sum()"
   ],
   "metadata": {
    "collapsed": false,
    "ExecuteTime": {
     "end_time": "2024-03-27T12:34:06.704892Z",
     "start_time": "2024-03-27T12:34:06.699684Z"
    }
   },
   "id": "70aa557416ebb5ce",
   "execution_count": 25
  },
  {
   "cell_type": "code",
   "outputs": [
    {
     "data": {
      "text/plain": "workclass\nPrivate             66420\nSelf-emp-not-inc     8247\nLocal-gov            6861\nSelf-emp-inc         5011\nState-gov            4192\nFederal-gov          3565\nUnknown              2259\n?                    2191\nWithout-pay            35\nNever-worked           11\nName: count, dtype: int64"
     },
     "execution_count": 26,
     "metadata": {},
     "output_type": "execute_result"
    }
   ],
   "source": [
    "# fill the null values using a new class calles 'Unknown'\n",
    "df['workclass'] = df['workclass'].fillna('Unknown')\n",
    "df['workclass'].value_counts()"
   ],
   "metadata": {
    "collapsed": false,
    "ExecuteTime": {
     "end_time": "2024-03-27T12:34:06.715891Z",
     "start_time": "2024-03-27T12:34:06.706054Z"
    }
   },
   "id": "895501570e7d82f6",
   "execution_count": 26
  },
  {
   "cell_type": "code",
   "outputs": [
    {
     "data": {
      "text/plain": "income\n0    36\n1    10\nName: count, dtype: int64"
     },
     "execution_count": 27,
     "metadata": {},
     "output_type": "execute_result"
    }
   ],
   "source": [
    "# view the values counts of income for who were Without-pay and Never-worked\n",
    "workclass_filt_wp = (df['workclass'] == 'Without-pay')\n",
    "workclass_filt_nw = (df['workclass'] == 'Never-worked')\n",
    "\n",
    "df.loc[workclass_filt_wp | workclass_filt_nw, 'income'].value_counts()"
   ],
   "metadata": {
    "collapsed": false,
    "ExecuteTime": {
     "end_time": "2024-03-27T12:34:06.728597Z",
     "start_time": "2024-03-27T12:34:06.716660Z"
    }
   },
   "id": "90630507b372f2b",
   "execution_count": 27
  },
  {
   "cell_type": "code",
   "outputs": [
    {
     "data": {
      "text/plain": "workclass\nPrivate             66420\nSelf-emp-not-inc     8247\nLocal-gov            6861\nSelf-emp-inc         5011\nUnknown              4450\nState-gov            4192\nFederal-gov          3565\nUn-employed            46\nName: count, dtype: int64"
     },
     "execution_count": 28,
     "metadata": {},
     "output_type": "execute_result"
    }
   ],
   "source": [
    "# method to rename '?' value to 'Unknown' and get 'Without-pay' and 'Never-worked' to 'Un-employed' class to increase the amount of records\n",
    "def process_workclass(workclass):\n",
    "    if workclass == '?':\n",
    "        return 'Unknown'\n",
    "    elif workclass in ['Without-pay', 'Never-worked']:\n",
    "        return 'Un-employed'\n",
    "    else:\n",
    "        return workclass\n",
    "    \n",
    "df['workclass'] = df['workclass'].apply(process_workclass)\n",
    "df['workclass'].value_counts()"
   ],
   "metadata": {
    "collapsed": false,
    "ExecuteTime": {
     "end_time": "2024-03-27T12:34:06.746159Z",
     "start_time": "2024-03-27T12:34:06.729472Z"
    }
   },
   "id": "649749f03e9faa58",
   "execution_count": 28
  },
  {
   "cell_type": "code",
   "outputs": [
    {
     "data": {
      "text/plain": "education\nHS-grad         28174\nSome-college    20402\nBachelors       20254\nMasters          7746\nAssoc-voc        4258\nAssoc-acdm       3396\nProf-school      2781\n11th             2747\n10th             2134\nDoctorate        2059\n7th-8th          1480\n9th              1128\n12th             1008\n5th-6th           777\n1st-4th           327\nPreschool         121\nName: count, dtype: int64"
     },
     "execution_count": 29,
     "metadata": {},
     "output_type": "execute_result"
    }
   ],
   "source": [
    "# view the frequency of classes in education feature\n",
    "df['education'].value_counts()"
   ],
   "metadata": {
    "collapsed": false,
    "ExecuteTime": {
     "end_time": "2024-03-27T12:34:06.766057Z",
     "start_time": "2024-03-27T12:34:06.757950Z"
    }
   },
   "id": "ede7ca8668b32f55",
   "execution_count": 29
  },
  {
   "cell_type": "code",
   "outputs": [
    {
     "data": {
      "text/plain": "income\n0    113\n1      8\nName: count, dtype: int64"
     },
     "execution_count": 30,
     "metadata": {},
     "output_type": "execute_result"
    }
   ],
   "source": [
    "# check for outliers\n",
    "filt_preschool = (df['education'] == 'Preschool')\n",
    "df.loc[filt_preschool, 'income'].value_counts()"
   ],
   "metadata": {
    "collapsed": false,
    "ExecuteTime": {
     "end_time": "2024-03-27T12:34:06.777288Z",
     "start_time": "2024-03-27T12:34:06.768748Z"
    }
   },
   "id": "5d8ae8785e9b8dc9",
   "execution_count": 30
  },
  {
   "cell_type": "code",
   "outputs": [
    {
     "data": {
      "text/plain": "1"
     },
     "execution_count": 31,
     "metadata": {},
     "output_type": "execute_result"
    }
   ],
   "source": [
    "# discover the outlier\n",
    "filt_preschool_out = ((df['education'] == 'Preschool') & (df['income'] == 1))\n",
    "df.loc[filt_preschool_out].drop_duplicates().shape[0]"
   ],
   "metadata": {
    "collapsed": false,
    "ExecuteTime": {
     "end_time": "2024-03-27T12:34:06.787620Z",
     "start_time": "2024-03-27T12:34:06.779021Z"
    }
   },
   "id": "e2e675cb7586f8c",
   "execution_count": 31
  },
  {
   "cell_type": "code",
   "outputs": [],
   "source": [
    "# as a result of oversampling the outlier has duplicated 5 times and drop it\n",
    "df = df.loc[~filt_preschool_out]"
   ],
   "metadata": {
    "collapsed": false,
    "ExecuteTime": {
     "end_time": "2024-03-27T12:34:06.798529Z",
     "start_time": "2024-03-27T12:34:06.788329Z"
    }
   },
   "id": "89ca9cb277c149d2",
   "execution_count": 32
  },
  {
   "cell_type": "code",
   "outputs": [
    {
     "data": {
      "text/plain": "income\n0    299\n1     28\nName: count, dtype: int64"
     },
     "execution_count": 33,
     "metadata": {},
     "output_type": "execute_result"
    }
   ],
   "source": [
    "filt_1_4 = (df['education'] == '1st-4th')\n",
    "df.loc[filt_1_4, 'income'].value_counts()"
   ],
   "metadata": {
    "collapsed": false,
    "ExecuteTime": {
     "end_time": "2024-03-27T12:34:06.807264Z",
     "start_time": "2024-03-27T12:34:06.799267Z"
    }
   },
   "id": "19eedaecbb4d0b2f",
   "execution_count": 33
  },
  {
   "cell_type": "code",
   "outputs": [
    {
     "data": {
      "text/plain": "8"
     },
     "execution_count": 34,
     "metadata": {},
     "output_type": "execute_result"
    }
   ],
   "source": [
    "filt_1_4_out = ((df['education'] == '1st-4th') & (df['income'] == 1))\n",
    "df.loc[filt_1_4_out].drop_duplicates().shape[0]"
   ],
   "metadata": {
    "collapsed": false,
    "ExecuteTime": {
     "end_time": "2024-03-27T12:34:06.817626Z",
     "start_time": "2024-03-27T12:34:06.808216Z"
    }
   },
   "id": "9fc34602a99b0801",
   "execution_count": 34
  },
  {
   "cell_type": "code",
   "outputs": [
    {
     "data": {
      "text/plain": "education-num\n9     28174\n10    20402\n13    20254\n14     7746\n11     4258\n12     3396\n15     2781\n7      2747\n6      2134\n16     2059\n4      1480\n5      1128\n8      1008\n3       777\n2       327\n1       113\nName: count, dtype: int64"
     },
     "execution_count": 35,
     "metadata": {},
     "output_type": "execute_result"
    }
   ],
   "source": [
    "# check the frequency of education-num values\n",
    "df['education-num'].value_counts()"
   ],
   "metadata": {
    "collapsed": false,
    "ExecuteTime": {
     "end_time": "2024-03-27T12:34:06.823406Z",
     "start_time": "2024-03-27T12:34:06.818661Z"
    }
   },
   "id": "fab074c010376617",
   "execution_count": 35
  },
  {
   "cell_type": "code",
   "outputs": [
    {
     "data": {
      "text/plain": "marital-status\nMarried-civ-spouse       58804\nNever-married            23438\nDivorced                 10703\nWidowed                   2424\nSeparated                 2294\nMarried-spouse-absent     1032\nMarried-AF-spouse           89\nName: count, dtype: int64"
     },
     "execution_count": 36,
     "metadata": {},
     "output_type": "execute_result"
    }
   ],
   "source": [
    "# check the frequency of marital-status values\n",
    "df['marital-status'].value_counts()"
   ],
   "metadata": {
    "collapsed": false,
    "ExecuteTime": {
     "end_time": "2024-03-27T12:34:06.829827Z",
     "start_time": "2024-03-27T12:34:06.824318Z"
    }
   },
   "id": "86178803ec425bd5",
   "execution_count": 36
  },
  {
   "cell_type": "code",
   "outputs": [
    {
     "data": {
      "text/plain": "income\n1    53\n0    36\nName: count, dtype: int64"
     },
     "execution_count": 37,
     "metadata": {},
     "output_type": "execute_result"
    }
   ],
   "source": [
    "# check for the target value balance for Married-AF-spouse\n",
    "filt_af_spouse = df['marital-status'] == 'Married-AF-spouse'\n",
    "df.loc[filt_af_spouse, 'income'].value_counts()"
   ],
   "metadata": {
    "collapsed": false,
    "ExecuteTime": {
     "end_time": "2024-03-27T12:34:06.838623Z",
     "start_time": "2024-03-27T12:34:06.830968Z"
    }
   },
   "id": "fe289ef0afacc40d",
   "execution_count": 37
  },
  {
   "cell_type": "code",
   "outputs": [
    {
     "data": {
      "text/plain": "2263"
     },
     "execution_count": 38,
     "metadata": {},
     "output_type": "execute_result"
    }
   ],
   "source": [
    "# as the occupation contains null values, view the count\n",
    "df['occupation'].isnull().sum()"
   ],
   "metadata": {
    "collapsed": false,
    "ExecuteTime": {
     "end_time": "2024-03-27T12:34:06.844585Z",
     "start_time": "2024-03-27T12:34:06.839474Z"
    }
   },
   "id": "83ff163823570707",
   "execution_count": 38
  },
  {
   "cell_type": "code",
   "outputs": [
    {
     "data": {
      "text/plain": "occupation\nExec-managerial      16545\nProf-specialty       16266\nCraft-repair         12056\nSales                11628\nAdm-clerical          9699\nOther-service         7134\nMachine-op-inspct     5074\nTransport-moving      4418\nHandlers-cleaners     3225\nTech-support          3192\nFarming-fishing       2524\nUnknown               2263\n?                     2198\nProtective-serv       2179\nPriv-house-serv        339\nArmed-Forces            44\nName: count, dtype: int64"
     },
     "execution_count": 39,
     "metadata": {},
     "output_type": "execute_result"
    }
   ],
   "source": [
    "# fill null values with new class 'Unknown'\n",
    "df['occupation'] = df['occupation'].fillna('Unknown')\n",
    "df['occupation'].value_counts()"
   ],
   "metadata": {
    "collapsed": false,
    "ExecuteTime": {
     "end_time": "2024-03-27T12:34:06.854787Z",
     "start_time": "2024-03-27T12:34:06.845390Z"
    }
   },
   "id": "e38c3e029f3b05",
   "execution_count": 39
  },
  {
   "cell_type": "code",
   "outputs": [],
   "source": [
    "# fill '?' values with 'Unknown' value\n",
    "df['occupation'] = df['occupation'].apply(lambda x : 'Unknown' if x == '?' else x)"
   ],
   "metadata": {
    "collapsed": false,
    "ExecuteTime": {
     "end_time": "2024-03-27T12:34:06.866010Z",
     "start_time": "2024-03-27T12:34:06.855804Z"
    }
   },
   "id": "f8bb239c7992dca2",
   "execution_count": 40
  },
  {
   "cell_type": "code",
   "outputs": [
    {
     "data": {
      "text/plain": "income\n1    32\n0    12\nName: count, dtype: int64"
     },
     "execution_count": 41,
     "metadata": {},
     "output_type": "execute_result"
    }
   ],
   "source": [
    "# check for outliers\n",
    "filt_af = (df['occupation'] == 'Armed-Forces')\n",
    "df.loc[filt_af, 'income'].value_counts()"
   ],
   "metadata": {
    "collapsed": false,
    "ExecuteTime": {
     "end_time": "2024-03-27T12:34:06.875505Z",
     "start_time": "2024-03-27T12:34:06.867420Z"
    }
   },
   "id": "e661b641ccda82e6",
   "execution_count": 41
  },
  {
   "cell_type": "code",
   "outputs": [
    {
     "data": {
      "text/plain": "5"
     },
     "execution_count": 42,
     "metadata": {},
     "output_type": "execute_result"
    }
   ],
   "source": [
    "filt_af_out = ((df['occupation'] == 'Armed-Forces') & (df['income'] == 1))\n",
    "df.loc[filt_af_out].drop_duplicates().shape[0]"
   ],
   "metadata": {
    "collapsed": false,
    "ExecuteTime": {
     "end_time": "2024-03-27T12:34:06.884226Z",
     "start_time": "2024-03-27T12:34:06.876652Z"
    }
   },
   "id": "b6c539480a46fd88",
   "execution_count": 42
  },
  {
   "cell_type": "code",
   "outputs": [
    {
     "data": {
      "text/plain": "relationship\nHusband           51926\nNot-in-family     20338\nOwn-child         10426\nUnmarried          7651\nWife               6291\nOther-relative     2152\nName: count, dtype: int64"
     },
     "execution_count": 43,
     "metadata": {},
     "output_type": "execute_result"
    }
   ],
   "source": [
    "# check for the frequency of relationship values\n",
    "df['relationship'].value_counts()"
   ],
   "metadata": {
    "collapsed": false,
    "ExecuteTime": {
     "end_time": "2024-03-27T12:34:06.889831Z",
     "start_time": "2024-03-27T12:34:06.885217Z"
    }
   },
   "id": "779692d958748e97",
   "execution_count": 43
  },
  {
   "cell_type": "code",
   "outputs": [
    {
     "data": {
      "text/plain": "marital-status\nDivorced                 3677\nNever-married            1803\nSeparated                 998\nWidowed                   897\nMarried-spouse-absent     276\nName: count, dtype: int64"
     },
     "execution_count": 44,
     "metadata": {},
     "output_type": "execute_result"
    }
   ],
   "source": [
    "# check if the 'Unmarried' values are accurate\n",
    "filt_unmarried = (df['relationship'] == 'Unmarried')\n",
    "df.loc[filt_unmarried, 'marital-status'].value_counts()"
   ],
   "metadata": {
    "collapsed": false,
    "ExecuteTime": {
     "end_time": "2024-03-27T12:34:06.897402Z",
     "start_time": "2024-03-27T12:34:06.890454Z"
    }
   },
   "id": "ecb9afd6d715ac30",
   "execution_count": 44
  },
  {
   "cell_type": "code",
   "outputs": [
    {
     "data": {
      "text/plain": "race\nWhite                 86355\nBlack                  7812\nAsian-Pac-Islander     3124\nAmer-Indian-Eskimo      779\nOther                   714\nName: count, dtype: int64"
     },
     "execution_count": 45,
     "metadata": {},
     "output_type": "execute_result"
    }
   ],
   "source": [
    "# check for the frequency of race values\n",
    "df['race'].value_counts()"
   ],
   "metadata": {
    "collapsed": false,
    "ExecuteTime": {
     "end_time": "2024-03-27T12:34:06.902598Z",
     "start_time": "2024-03-27T12:34:06.898025Z"
    }
   },
   "id": "6378bb8ac9ba254c",
   "execution_count": 45
  },
  {
   "cell_type": "code",
   "outputs": [
    {
     "data": {
      "text/plain": "sex\nMale      72070\nFemale    26714\nName: count, dtype: int64"
     },
     "execution_count": 46,
     "metadata": {},
     "output_type": "execute_result"
    }
   ],
   "source": [
    "# check for the frequency of sex values\n",
    "df['sex'].value_counts()"
   ],
   "metadata": {
    "collapsed": false,
    "ExecuteTime": {
     "end_time": "2024-03-27T12:34:06.907697Z",
     "start_time": "2024-03-27T12:34:06.903200Z"
    }
   },
   "id": "d7290c3b8a26ba03",
   "execution_count": 46
  },
  {
   "cell_type": "code",
   "outputs": [
    {
     "data": {
      "text/plain": "count    98784.000000\nmean      2107.515205\nstd      10689.089529\nmin          0.000000\n25%          0.000000\n50%          0.000000\n75%          0.000000\nmax      99999.000000\nName: capital-gain, dtype: float64"
     },
     "execution_count": 47,
     "metadata": {},
     "output_type": "execute_result"
    }
   ],
   "source": [
    "df['capital-gain'].describe()"
   ],
   "metadata": {
    "collapsed": false,
    "ExecuteTime": {
     "end_time": "2024-03-27T12:34:06.912600Z",
     "start_time": "2024-03-27T12:34:06.908296Z"
    }
   },
   "id": "2653f69ac413797b",
   "execution_count": 47
  },
  {
   "cell_type": "code",
   "outputs": [
    {
     "data": {
      "text/plain": "86186"
     },
     "execution_count": 48,
     "metadata": {},
     "output_type": "execute_result"
    }
   ],
   "source": [
    "# check how many 0 in the capital-gain\n",
    "(df['capital-gain'] == 0).sum()"
   ],
   "metadata": {
    "collapsed": false,
    "ExecuteTime": {
     "end_time": "2024-03-27T12:34:06.915597Z",
     "start_time": "2024-03-27T12:34:06.913210Z"
    }
   },
   "id": "a88d2e3a96a2c924",
   "execution_count": 48
  },
  {
   "cell_type": "code",
   "outputs": [
    {
     "data": {
      "text/plain": "<Figure size 640x480 with 1 Axes>",
      "image/png": "[encoded data removed]"
     },
     "metadata": {},
     "output_type": "display_data"
    }
   ],
   "source": [
    "# check for outliers in capital-gain\n",
    "plt.boxplot(df['capital-gain'])\n",
    "plt.show()"
   ],
   "metadata": {
    "collapsed": false,
    "ExecuteTime": {
     "end_time": "2024-03-27T12:34:06.969895Z",
     "start_time": "2024-03-27T12:34:06.916222Z"
    }
   },
   "id": "690a185008968a34",
   "execution_count": 49
  },
  {
   "cell_type": "code",
   "outputs": [
    {
     "data": {
      "text/plain": "1043"
     },
     "execution_count": 50,
     "metadata": {},
     "output_type": "execute_result"
    }
   ],
   "source": [
    "# check if the outlier affects training process\n",
    "(df['capital-gain'] > 80000).sum()"
   ],
   "metadata": {
    "collapsed": false,
    "ExecuteTime": {
     "end_time": "2024-03-27T12:34:06.974374Z",
     "start_time": "2024-03-27T12:34:06.970958Z"
    }
   },
   "id": "d270909c2049dda",
   "execution_count": 50
  },
  {
   "cell_type": "code",
   "outputs": [
    {
     "data": {
      "text/plain": "count    98784.000000\nmean       123.642057\nstd        478.773342\nmin          0.000000\n25%          0.000000\n50%          0.000000\n75%          0.000000\nmax       4356.000000\nName: capital-loss, dtype: float64"
     },
     "execution_count": 51,
     "metadata": {},
     "output_type": "execute_result"
    }
   ],
   "source": [
    "df['capital-loss'].describe()"
   ],
   "metadata": {
    "collapsed": false,
    "ExecuteTime": {
     "end_time": "2024-03-27T12:34:06.980448Z",
     "start_time": "2024-03-27T12:34:06.975362Z"
    }
   },
   "id": "2721598c1a74da0f",
   "execution_count": 51
  },
  {
   "cell_type": "code",
   "outputs": [
    {
     "data": {
      "text/plain": "92442"
     },
     "execution_count": 52,
     "metadata": {},
     "output_type": "execute_result"
    }
   ],
   "source": [
    "# check how many 0 in the capital-loss\n",
    "(df['capital-loss'] == 0).sum()"
   ],
   "metadata": {
    "collapsed": false,
    "ExecuteTime": {
     "end_time": "2024-03-27T12:34:06.986173Z",
     "start_time": "2024-03-27T12:34:06.981838Z"
    }
   },
   "id": "cd89c40112493966",
   "execution_count": 52
  },
  {
   "cell_type": "code",
   "outputs": [
    {
     "data": {
      "text/plain": "<Figure size 640x480 with 1 Axes>",
      "image/png": "[encoded data removed]"
     },
     "metadata": {},
     "output_type": "display_data"
    }
   ],
   "source": [
    "plt.boxplot(df['capital-loss'])\n",
    "plt.show()"
   ],
   "metadata": {
    "collapsed": false,
    "ExecuteTime": {
     "end_time": "2024-03-27T12:34:07.038080Z",
     "start_time": "2024-03-27T12:34:06.987065Z"
    }
   },
   "id": "e73ccc928111017",
   "execution_count": 53
  },
  {
   "cell_type": "code",
   "outputs": [
    {
     "data": {
      "text/plain": "count    98784.000000\nmean        42.112741\nstd         12.236244\nmin          1.000000\n25%         40.000000\n50%         40.000000\n75%         48.000000\nmax         99.000000\nName: hours-per-week, dtype: float64"
     },
     "execution_count": 54,
     "metadata": {},
     "output_type": "execute_result"
    }
   ],
   "source": [
    "df['hours-per-week'].describe()"
   ],
   "metadata": {
    "collapsed": false,
    "ExecuteTime": {
     "end_time": "2024-03-27T12:34:07.046990Z",
     "start_time": "2024-03-27T12:34:07.039089Z"
    }
   },
   "id": "67a06b5933a4e85d",
   "execution_count": 54
  },
  {
   "cell_type": "code",
   "outputs": [
    {
     "data": {
      "text/plain": "<Figure size 640x480 with 1 Axes>",
      "image/png": "[encoded data removed]"
     },
     "metadata": {},
     "output_type": "display_data"
    }
   ],
   "source": [
    "plt.boxplot(df['hours-per-week'])\n",
    "plt.show()"
   ],
   "metadata": {
    "collapsed": false,
    "ExecuteTime": {
     "end_time": "2024-03-27T12:34:07.104205Z",
     "start_time": "2024-03-27T12:34:07.048960Z"
    }
   },
   "id": "ef205f9ebcfe6fe2",
   "execution_count": 55
  },
  {
   "cell_type": "code",
   "outputs": [
    {
     "data": {
      "text/plain": "858"
     },
     "execution_count": 56,
     "metadata": {},
     "output_type": "execute_result"
    }
   ],
   "source": [
    "# as the native-country contains null values, view the count\n",
    "\n",
    "df['native-country'].isnull().sum()"
   ],
   "metadata": {
    "collapsed": false,
    "ExecuteTime": {
     "end_time": "2024-03-27T12:34:07.109977Z",
     "start_time": "2024-03-27T12:34:07.105063Z"
    }
   },
   "id": "8753c3d21b632b1a",
   "execution_count": 56
  },
  {
   "cell_type": "code",
   "outputs": [
    {
     "data": {
      "text/plain": "native-country\nUnited-States                 89340\nMexico                         1340\n?                               923\nOther                           858\nPhilippines                     633\nCanada                          420\nGermany                         413\nIndia                           392\nEngland                         318\nPuerto-Rico                     307\nCuba                            276\nChina                           262\nEl-Salvador                     242\nItaly                           223\nJapan                           214\nSouth                           201\nJamaica                         170\nPoland                          168\nDominican-Republic              158\nTaiwan                          155\nIran                            141\nPortugal                        134\nGreece                          134\nColumbia                        130\nHaiti                           126\nVietnam                         125\nGuatemala                       113\nFrance                          101\nIreland                          92\nPeru                             76\nEcuador                          75\nNicaragua                        71\nCambodia                         67\nHong                             58\nYugoslavia                       56\nThailand                         48\nHungary                          45\nTrinadad&Tobago                  43\nScotland                         37\nHonduras                         36\nOutlying-US(Guam-USVI-etc)       32\nLaos                             30\nHoland-Netherlands                1\nName: count, dtype: int64"
     },
     "execution_count": 57,
     "metadata": {},
     "output_type": "execute_result"
    }
   ],
   "source": [
    "# fill null values with new values 'Other'\n",
    "\n",
    "df['native-country'] = df['native-country'].fillna('Other')\n",
    "df['native-country'].value_counts()"
   ],
   "metadata": {
    "collapsed": false,
    "ExecuteTime": {
     "end_time": "2024-03-27T12:34:07.121086Z",
     "start_time": "2024-03-27T12:34:07.110976Z"
    }
   },
   "id": "c026ffa4bd8dffe3",
   "execution_count": 57
  },
  {
   "cell_type": "code",
   "outputs": [],
   "source": [
    "# replace '?' values to 'Other'\n",
    "\n",
    "df['native-country'] = df['native-country'].apply(lambda x: 'Other' if x == '?' else x)"
   ],
   "metadata": {
    "collapsed": false,
    "ExecuteTime": {
     "end_time": "2024-03-27T12:34:07.133365Z",
     "start_time": "2024-03-27T12:34:07.122420Z"
    }
   },
   "id": "989e74c080b3b027",
   "execution_count": 58
  },
  {
   "cell_type": "code",
   "outputs": [
    {
     "data": {
      "text/plain": "native-country\nUnited-States         89340\nOther                  2548\nMexico                 1340\nPhilippines             633\nCanada                  420\nGermany                 413\nIndia                   392\nEngland                 318\nPuerto-Rico             307\nCuba                    276\nChina                   262\nEl-Salvador             242\nItaly                   223\nJapan                   214\nSouth                   201\nJamaica                 170\nPoland                  168\nDominican-Republic      158\nTaiwan                  155\nIran                    141\nPortugal                134\nGreece                  134\nColumbia                130\nHaiti                   126\nVietnam                 125\nGuatemala               113\nFrance                  101\nName: count, dtype: int64"
     },
     "execution_count": 59,
     "metadata": {},
     "output_type": "execute_result"
    }
   ],
   "source": [
    "# replace the values with 'Other' where frequency is less than 50\n",
    "\n",
    "filt_n_country = df['native-country'].value_counts()\n",
    "classes_to_replace = (filt_n_country[filt_n_country < 100].index)\n",
    "df.loc[df['native-country'].isin(classes_to_replace), 'native-country'] = 'Other'\n",
    "df['native-country'].value_counts()"
   ],
   "metadata": {
    "collapsed": false,
    "ExecuteTime": {
     "end_time": "2024-03-27T12:34:07.146884Z",
     "start_time": "2024-03-27T12:34:07.134786Z"
    }
   },
   "id": "f3deb88c27c3fad",
   "execution_count": 59
  },
  {
   "cell_type": "code",
   "outputs": [
    {
     "name": "stdout",
     "output_type": "stream",
     "text": [
      "<class 'pandas.core.frame.DataFrame'>\n",
      "Index: 98784 entries, 0 to 98791\n",
      "Data columns (total 14 columns):\n",
      " #   Column          Non-Null Count  Dtype \n",
      "---  ------          --------------  ----- \n",
      " 0   age             98784 non-null  int64 \n",
      " 1   workclass       98784 non-null  object\n",
      " 2   education       98784 non-null  object\n",
      " 3   education-num   98784 non-null  int64 \n",
      " 4   marital-status  98784 non-null  object\n",
      " 5   occupation      98784 non-null  object\n",
      " 6   relationship    98784 non-null  object\n",
      " 7   race            98784 non-null  object\n",
      " 8   sex             98784 non-null  object\n",
      " 9   capital-gain    98784 non-null  int64 \n",
      " 10  capital-loss    98784 non-null  int64 \n",
      " 11  hours-per-week  98784 non-null  int64 \n",
      " 12  native-country  98784 non-null  object\n",
      " 13  income          98784 non-null  int64 \n",
      "dtypes: int64(6), object(8)\n",
      "memory usage: 11.3+ MB\n"
     ]
    }
   ],
   "source": [
    "df.info()"
   ],
   "metadata": {
    "collapsed": false,
    "ExecuteTime": {
     "end_time": "2024-03-27T12:34:07.166136Z",
     "start_time": "2024-03-27T12:34:07.148072Z"
    }
   },
   "id": "7c3a05dde29f5571",
   "execution_count": 60
  },
  {
   "cell_type": "code",
   "outputs": [],
   "source": [
    "x = df.drop(columns=['income'])\n",
    "y = df['income']"
   ],
   "metadata": {
    "collapsed": false,
    "ExecuteTime": {
     "end_time": "2024-03-27T12:34:07.181351Z",
     "start_time": "2024-03-27T12:34:07.167451Z"
    }
   },
   "id": "9fe2edc4e548b4fe",
   "execution_count": 61
  },
  {
   "cell_type": "code",
   "outputs": [],
   "source": [
    "x = pd.get_dummies(x)"
   ],
   "metadata": {
    "collapsed": false,
    "ExecuteTime": {
     "end_time": "2024-03-27T12:34:07.227605Z",
     "start_time": "2024-03-27T12:34:07.182092Z"
    }
   },
   "id": "1e1f2f2a4afc79ec",
   "execution_count": 62
  },
  {
   "cell_type": "code",
   "outputs": [],
   "source": [
    "from sklearn.model_selection import train_test_split"
   ],
   "metadata": {
    "collapsed": false,
    "ExecuteTime": {
     "end_time": "2024-03-27T12:34:07.231057Z",
     "start_time": "2024-03-27T12:34:07.228427Z"
    }
   },
   "id": "5fbb21c5f1e4f5dd",
   "execution_count": 63
  },
  {
   "cell_type": "code",
   "outputs": [
    {
     "data": {
      "text/plain": "((59270, 91), (39514, 91))"
     },
     "execution_count": 64,
     "metadata": {},
     "output_type": "execute_result"
    }
   ],
   "source": [
    "# split the dataset 6 : 4\n",
    "x_train, x_test, y_train, y_test = train_test_split(x, y, test_size=0.4, random_state=42)\n",
    "x_train.shape, x_test.shape"
   ],
   "metadata": {
    "collapsed": false,
    "ExecuteTime": {
     "end_time": "2024-03-27T12:34:07.247769Z",
     "start_time": "2024-03-27T12:34:07.231969Z"
    }
   },
   "id": "d9a1cde53635002",
   "execution_count": 64
  },
  {
   "cell_type": "code",
   "outputs": [
    {
     "data": {
      "text/plain": "23821"
     },
     "execution_count": 65,
     "metadata": {},
     "output_type": "execute_result"
    }
   ],
   "source": [
    "x_test.drop_duplicates().shape[0]"
   ],
   "metadata": {
    "collapsed": false,
    "ExecuteTime": {
     "end_time": "2024-03-27T12:34:07.273646Z",
     "start_time": "2024-03-27T12:34:07.248759Z"
    }
   },
   "id": "a7b14c43849d3af0",
   "execution_count": 65
  },
  {
   "cell_type": "code",
   "outputs": [
    {
     "data": {
      "text/plain": "income\n0    19860\n1    19654\nName: count, dtype: int64"
     },
     "execution_count": 66,
     "metadata": {},
     "output_type": "execute_result"
    }
   ],
   "source": [
    "# check the values counts of target in testing set to evaluate the result of confusion_matrix\n",
    "y_test.value_counts()"
   ],
   "metadata": {
    "collapsed": false,
    "ExecuteTime": {
     "end_time": "2024-03-27T12:34:07.278998Z",
     "start_time": "2024-03-27T12:34:07.274875Z"
    }
   },
   "id": "f8418ff4fb933ed9",
   "execution_count": 66
  },
  {
   "cell_type": "code",
   "outputs": [],
   "source": [
    "from sklearn.naive_bayes import BernoulliNB\n",
    "from sklearn.metrics import accuracy_score"
   ],
   "metadata": {
    "collapsed": false,
    "ExecuteTime": {
     "end_time": "2024-03-27T12:34:07.284326Z",
     "start_time": "2024-03-27T12:34:07.280346Z"
    }
   },
   "id": "754f63fac0871d86",
   "execution_count": 67
  },
  {
   "cell_type": "markdown",
   "source": [
    "## Naive Bayes Algorithm"
   ],
   "metadata": {
    "collapsed": false
   },
   "id": "a4a2e3ac34c509cf"
  },
  {
   "cell_type": "code",
   "outputs": [
    {
     "name": "stdout",
     "output_type": "stream",
     "text": [
      "Training accuracy :  0.7751813733760756\n",
      "Testing accuracy :  0.7759022118742724\n"
     ]
    }
   ],
   "source": [
    "# as the problem is changet do binary classification problem, use the BernoulliNB algorithm\n",
    "bernouli_model = BernoulliNB()\n",
    "bernouli_model.fit(x_train,y_train)\n",
    "\n",
    "pred_train = bernouli_model.predict(x_train)\n",
    "pred_test = bernouli_model.predict(x_test)\n",
    "\n",
    "print('Training accuracy : ', accuracy_score(y_train, pred_train))\n",
    "print('Testing accuracy : ', accuracy_score(y_test, pred_test))"
   ],
   "metadata": {
    "collapsed": false,
    "ExecuteTime": {
     "end_time": "2024-03-27T12:34:07.515187Z",
     "start_time": "2024-03-27T12:34:07.285316Z"
    }
   },
   "id": "7243fbe50f624e23",
   "execution_count": 68
  },
  {
   "cell_type": "code",
   "outputs": [],
   "source": [
    "from sklearn.model_selection import GridSearchCV"
   ],
   "metadata": {
    "collapsed": false,
    "ExecuteTime": {
     "end_time": "2024-03-27T12:34:07.520991Z",
     "start_time": "2024-03-27T12:34:07.517297Z"
    }
   },
   "id": "ec9262cba61a8b43",
   "execution_count": 69
  },
  {
   "cell_type": "code",
   "outputs": [],
   "source": [
    "# define parameters to introduce to GridSearchCV\n",
    "param_grid = {\n",
    "    'alpha': [0.1, 0.5, 1.0, 1.5, 2.0],\n",
    "    'force_alpha': [True, False],\n",
    "    'binarize': [0.0, 0.5, 1.0],\n",
    "    'fit_prior': [True, False],\n",
    "    'class_prior': [None, [0.5, 0.5], [0.6, 0.4], [0.4, 0.6]]\n",
    "}"
   ],
   "metadata": {
    "collapsed": false,
    "ExecuteTime": {
     "end_time": "2024-03-27T12:34:07.526501Z",
     "start_time": "2024-03-27T12:34:07.522490Z"
    }
   },
   "id": "e85378db97cd3d0d",
   "execution_count": 70
  },
  {
   "cell_type": "code",
   "outputs": [
    {
     "data": {
      "text/plain": "GridSearchCV(estimator=BernoulliNB(),\n             param_grid={'alpha': [0.1, 0.5, 1.0, 1.5, 2.0],\n                         'binarize': [0.0, 0.5, 1.0],\n                         'class_prior': [None, [0.5, 0.5], [0.6, 0.4],\n                                         [0.4, 0.6]],\n                         'fit_prior': [True, False],\n                         'force_alpha': [True, False]})",
      "text/html": "<style>#sk-container-id-1 {\n  /* Definition of color scheme common for light and dark mode */\n  --sklearn-color-text: black;\n  --sklearn-color-line: gray;\n  /* Definition of color scheme for unfitted estimators */\n  --sklearn-color-unfitted-level-0: #fff5e6;\n  --sklearn-color-unfitted-level-1: #f6e4d2;\n  --sklearn-color-unfitted-level-2: #ffe0b3;\n  --sklearn-color-unfitted-level-3: chocolate;\n  /* Definition of color scheme for fitted estimators */\n  --sklearn-color-fitted-level-0: #f0f8ff;\n  --sklearn-color-fitted-level-1: #d4ebff;\n  --sklearn-color-fitted-level-2: #b3dbfd;\n  --sklearn-color-fitted-level-3: cornflowerblue;\n\n  /* Specific color for light theme */\n  --sklearn-color-text-on-default-background: var(--sg-text-color, var(--theme-code-foreground, var(--jp-content-font-color1, black)));\n  --sklearn-color-background: var(--sg-background-color, var(--theme-background, var(--jp-layout-color0, white)));\n  --sklearn-color-border-box: var(--sg-text-color, var(--theme-code-foreground, var(--jp-content-font-color1, black)));\n  --sklearn-color-icon: #696969;\n\n  @media (prefers-color-scheme: dark) {\n    /* Redefinition of color scheme for dark theme */\n    --sklearn-color-text-on-default-background: var(--sg-text-color, var(--theme-code-foreground, var(--jp-content-font-color1, white)));\n    --sklearn-color-background: var(--sg-background-color, var(--theme-background, var(--jp-layout-color0, #111)));\n    --sklearn-color-border-box: var(--sg-text-color, var(--theme-code-foreground, var(--jp-content-font-color1, white)));\n    --sklearn-color-icon: #878787;\n  }\n}\n\n#sk-container-id-1 {\n  color: var(--sklearn-color-text);\n}\n\n#sk-container-id-1 pre {\n  padding: 0;\n}\n\n#sk-container-id-1 input.sk-hidden--visually {\n  border: 0;\n  clip: rect(1px 1px 1px 1px);\n  clip: rect(1px, 1px, 1px, 1px);\n  height: 1px;\n  margin: -1px;\n  overflow: hidden;\n  padding: 0;\n  position: absolute;\n  width: 1px;\n}\n\n#sk-container-id-1 div.sk-dashed-wrapped {\n  border: 1px dashed var(--sklearn-color-line);\n  margin: 0 0.4em 0.5em 0.4em;\n  box-sizing: border-box;\n  padding-bottom: 0.4em;\n  background-color: var(--sklearn-color-background);\n}\n\n#sk-container-id-1 div.sk-container {\n  /* jupyter's `normalize.less` sets `[hidden] { display: none; }`\n     but bootstrap.min.css set `[hidden] { display: none !important; }`\n     so we also need the `!important` here to be able to override the\n     default hidden behavior on the sphinx rendered scikit-learn.org.\n     See: https://github.com/scikit-learn/scikit-learn/issues/21755 */\n  display: inline-block !important;\n  position: relative;\n}\n\n#sk-container-id-1 div.sk-text-repr-fallback {\n  display: none;\n}\n\ndiv.sk-parallel-item,\ndiv.sk-serial,\ndiv.sk-item {\n  /* draw centered vertical line to link estimators */\n  background-image: linear-gradient(var(--sklearn-color-text-on-default-background), var(--sklearn-color-text-on-default-background));\n  background-size: 2px 100%;\n  background-repeat: no-repeat;\n  background-position: center center;\n}\n\n/* Parallel-specific style estimator block */\n\n#sk-container-id-1 div.sk-parallel-item::after {\n  content: \"\";\n  width: 100%;\n  border-bottom: 2px solid var(--sklearn-color-text-on-default-background);\n  flex-grow: 1;\n}\n\n#sk-container-id-1 div.sk-parallel {\n  display: flex;\n  align-items: stretch;\n  justify-content: center;\n  background-color: var(--sklearn-color-background);\n  position: relative;\n}\n\n#sk-container-id-1 div.sk-parallel-item {\n  display: flex;\n  flex-direction: column;\n}\n\n#sk-container-id-1 div.sk-parallel-item:first-child::after {\n  align-self: flex-end;\n  width: 50%;\n}\n\n#sk-container-id-1 div.sk-parallel-item:last-child::after {\n  align-self: flex-start;\n  width: 50%;\n}\n\n#sk-container-id-1 div.sk-parallel-item:only-child::after {\n  width: 0;\n}\n\n/* Serial-specific style estimator block */\n\n#sk-container-id-1 div.sk-serial {\n  display: flex;\n  flex-direction: column;\n  align-items: center;\n  background-color: var(--sklearn-color-background);\n  padding-right: 1em;\n  padding-left: 1em;\n}\n\n\n/* Toggleable style: style used for estimator/Pipeline/ColumnTransformer box that is\nclickable and can be expanded/collapsed.\n- Pipeline and ColumnTransformer use this feature and define the default style\n- Estimators will overwrite some part of the style using the `sk-estimator` class\n*/\n\n/* Pipeline and ColumnTransformer style (default) */\n\n#sk-container-id-1 div.sk-toggleable {\n  /* Default theme specific background. It is overwritten whether we have a\n  specific estimator or a Pipeline/ColumnTransformer */\n  background-color: var(--sklearn-color-background);\n}\n\n/* Toggleable label */\n#sk-container-id-1 label.sk-toggleable__label {\n  cursor: pointer;\n  display: block;\n  width: 100%;\n  margin-bottom: 0;\n  padding: 0.5em;\n  box-sizing: border-box;\n  text-align: center;\n}\n\n#sk-container-id-1 label.sk-toggleable__label-arrow:before {\n  /* Arrow on the left of the label */\n  content: \"▸\";\n  float: left;\n  margin-right: 0.25em;\n  color: var(--sklearn-color-icon);\n}\n\n#sk-container-id-1 label.sk-toggleable__label-arrow:hover:before {\n  color: var(--sklearn-color-text);\n}\n\n/* Toggleable content - dropdown */\n\n#sk-container-id-1 div.sk-toggleable__content {\n  max-height: 0;\n  max-width: 0;\n  overflow: hidden;\n  text-align: left;\n  /* unfitted */\n  background-color: var(--sklearn-color-unfitted-level-0);\n}\n\n#sk-container-id-1 div.sk-toggleable__content.fitted {\n  /* fitted */\n  background-color: var(--sklearn-color-fitted-level-0);\n}\n\n#sk-container-id-1 div.sk-toggleable__content pre {\n  margin: 0.2em;\n  border-radius: 0.25em;\n  color: var(--sklearn-color-text);\n  /* unfitted */\n  background-color: var(--sklearn-color-unfitted-level-0);\n}\n\n#sk-container-id-1 div.sk-toggleable__content.fitted pre {\n  /* unfitted */\n  background-color: var(--sklearn-color-fitted-level-0);\n}\n\n#sk-container-id-1 input.sk-toggleable__control:checked~div.sk-toggleable__content {\n  /* Expand drop-down */\n  max-height: 200px;\n  max-width: 100%;\n  overflow: auto;\n}\n\n#sk-container-id-1 input.sk-toggleable__control:checked~label.sk-toggleable__label-arrow:before {\n  content: \"▾\";\n}\n\n/* Pipeline/ColumnTransformer-specific style */\n\n#sk-container-id-1 div.sk-label input.sk-toggleable__control:checked~label.sk-toggleable__label {\n  color: var(--sklearn-color-text);\n  background-color: var(--sklearn-color-unfitted-level-2);\n}\n\n#sk-container-id-1 div.sk-label.fitted input.sk-toggleable__control:checked~label.sk-toggleable__label {\n  background-color: var(--sklearn-color-fitted-level-2);\n}\n\n/* Estimator-specific style */\n\n/* Colorize estimator box */\n#sk-container-id-1 div.sk-estimator input.sk-toggleable__control:checked~label.sk-toggleable__label {\n  /* unfitted */\n  background-color: var(--sklearn-color-unfitted-level-2);\n}\n\n#sk-container-id-1 div.sk-estimator.fitted input.sk-toggleable__control:checked~label.sk-toggleable__label {\n  /* fitted */\n  background-color: var(--sklearn-color-fitted-level-2);\n}\n\n#sk-container-id-1 div.sk-label label.sk-toggleable__label,\n#sk-container-id-1 div.sk-label label {\n  /* The background is the default theme color */\n  color: var(--sklearn-color-text-on-default-background);\n}\n\n/* On hover, darken the color of the background */\n#sk-container-id-1 div.sk-label:hover label.sk-toggleable__label {\n  color: var(--sklearn-color-text);\n  background-color: var(--sklearn-color-unfitted-level-2);\n}\n\n/* Label box, darken color on hover, fitted */\n#sk-container-id-1 div.sk-label.fitted:hover label.sk-toggleable__label.fitted {\n  color: var(--sklearn-color-text);\n  background-color: var(--sklearn-color-fitted-level-2);\n}\n\n/* Estimator label */\n\n#sk-container-id-1 div.sk-label label {\n  font-family: monospace;\n  font-weight: bold;\n  display: inline-block;\n  line-height: 1.2em;\n}\n\n#sk-container-id-1 div.sk-label-container {\n  text-align: center;\n}\n\n/* Estimator-specific */\n#sk-container-id-1 div.sk-estimator {\n  font-family: monospace;\n  border: 1px dotted var(--sklearn-color-border-box);\n  border-radius: 0.25em;\n  box-sizing: border-box;\n  margin-bottom: 0.5em;\n  /* unfitted */\n  background-color: var(--sklearn-color-unfitted-level-0);\n}\n\n#sk-container-id-1 div.sk-estimator.fitted {\n  /* fitted */\n  background-color: var(--sklearn-color-fitted-level-0);\n}\n\n/* on hover */\n#sk-container-id-1 div.sk-estimator:hover {\n  /* unfitted */\n  background-color: var(--sklearn-color-unfitted-level-2);\n}\n\n#sk-container-id-1 div.sk-estimator.fitted:hover {\n  /* fitted */\n  background-color: var(--sklearn-color-fitted-level-2);\n}\n\n/* Specification for estimator info (e.g. \"i\" and \"?\") */\n\n/* Common style for \"i\" and \"?\" */\n\n.sk-estimator-doc-link,\na:link.sk-estimator-doc-link,\na:visited.sk-estimator-doc-link {\n  float: right;\n  font-size: smaller;\n  line-height: 1em;\n  font-family: monospace;\n  background-color: var(--sklearn-color-background);\n  border-radius: 1em;\n  height: 1em;\n  width: 1em;\n  text-decoration: none !important;\n  margin-left: 1ex;\n  /* unfitted */\n  border: var(--sklearn-color-unfitted-level-1) 1pt solid;\n  color: var(--sklearn-color-unfitted-level-1);\n}\n\n.sk-estimator-doc-link.fitted,\na:link.sk-estimator-doc-link.fitted,\na:visited.sk-estimator-doc-link.fitted {\n  /* fitted */\n  border: var(--sklearn-color-fitted-level-1) 1pt solid;\n  color: var(--sklearn-color-fitted-level-1);\n}\n\n/* On hover */\ndiv.sk-estimator:hover .sk-estimator-doc-link:hover,\n.sk-estimator-doc-link:hover,\ndiv.sk-label-container:hover .sk-estimator-doc-link:hover,\n.sk-estimator-doc-link:hover {\n  /* unfitted */\n  background-color: var(--sklearn-color-unfitted-level-3);\n  color: var(--sklearn-color-background);\n  text-decoration: none;\n}\n\ndiv.sk-estimator.fitted:hover .sk-estimator-doc-link.fitted:hover,\n.sk-estimator-doc-link.fitted:hover,\ndiv.sk-label-container:hover .sk-estimator-doc-link.fitted:hover,\n.sk-estimator-doc-link.fitted:hover {\n  /* fitted */\n  background-color: var(--sklearn-color-fitted-level-3);\n  color: var(--sklearn-color-background);\n  text-decoration: none;\n}\n\n/* Span, style for the box shown on hovering the info icon */\n.sk-estimator-doc-link span {\n  display: none;\n  z-index: 9999;\n  position: relative;\n  font-weight: normal;\n  right: .2ex;\n  padding: .5ex;\n  margin: .5ex;\n  width: min-content;\n  min-width: 20ex;\n  max-width: 50ex;\n  color: var(--sklearn-color-text);\n  box-shadow: 2pt 2pt 4pt #999;\n  /* unfitted */\n  background: var(--sklearn-color-unfitted-level-0);\n  border: .5pt solid var(--sklearn-color-unfitted-level-3);\n}\n\n.sk-estimator-doc-link.fitted span {\n  /* fitted */\n  background: var(--sklearn-color-fitted-level-0);\n  border: var(--sklearn-color-fitted-level-3);\n}\n\n.sk-estimator-doc-link:hover span {\n  display: block;\n}\n\n/* \"?\"-specific style due to the `<a>` HTML tag */\n\n#sk-container-id-1 a.estimator_doc_link {\n  float: right;\n  font-size: 1rem;\n  line-height: 1em;\n  font-family: monospace;\n  background-color: var(--sklearn-color-background);\n  border-radius: 1rem;\n  height: 1rem;\n  width: 1rem;\n  text-decoration: none;\n  /* unfitted */\n  color: var(--sklearn-color-unfitted-level-1);\n  border: var(--sklearn-color-unfitted-level-1) 1pt solid;\n}\n\n#sk-container-id-1 a.estimator_doc_link.fitted {\n  /* fitted */\n  border: var(--sklearn-color-fitted-level-1) 1pt solid;\n  color: var(--sklearn-color-fitted-level-1);\n}\n\n/* On hover */\n#sk-container-id-1 a.estimator_doc_link:hover {\n  /* unfitted */\n  background-color: var(--sklearn-color-unfitted-level-3);\n  color: var(--sklearn-color-background);\n  text-decoration: none;\n}\n\n#sk-container-id-1 a.estimator_doc_link.fitted:hover {\n  /* fitted */\n  background-color: var(--sklearn-color-fitted-level-3);\n}\n</style><div id=\"sk-container-id-1\" class=\"sk-top-container\"><div class=\"sk-text-repr-fallback\"><pre>GridSearchCV(estimator=BernoulliNB(),\n             param_grid={&#x27;alpha&#x27;: [0.1, 0.5, 1.0, 1.5, 2.0],\n                         &#x27;binarize&#x27;: [0.0, 0.5, 1.0],\n                         &#x27;class_prior&#x27;: [None, [0.5, 0.5], [0.6, 0.4],\n                                         [0.4, 0.6]],\n                         &#x27;fit_prior&#x27;: [True, False],\n                         &#x27;force_alpha&#x27;: [True, False]})</pre><b>In a Jupyter environment, please rerun this cell to show the HTML representation or trust the notebook. <br />On GitHub, the HTML representation is unable to render, please try loading this page with nbviewer.org.</b></div><div class=\"sk-container\" hidden><div class=\"sk-item sk-dashed-wrapped\"><div class=\"sk-label-container\"><div class=\"sk-label fitted sk-toggleable\"><input class=\"sk-toggleable__control sk-hidden--visually\" id=\"sk-estimator-id-1\" type=\"checkbox\" ><label for=\"sk-estimator-id-1\" class=\"sk-toggleable__label fitted sk-toggleable__label-arrow fitted\">&nbsp;&nbsp;GridSearchCV<a class=\"sk-estimator-doc-link fitted\" rel=\"noreferrer\" target=\"_blank\" href=\"https://scikit-learn.org/1.4/modules/generated/sklearn.model_selection.GridSearchCV.html\">?<span>Documentation for GridSearchCV</span></a><span class=\"sk-estimator-doc-link fitted\">i<span>Fitted</span></span></label><div class=\"sk-toggleable__content fitted\"><pre>GridSearchCV(estimator=BernoulliNB(),\n             param_grid={&#x27;alpha&#x27;: [0.1, 0.5, 1.0, 1.5, 2.0],\n                         &#x27;binarize&#x27;: [0.0, 0.5, 1.0],\n                         &#x27;class_prior&#x27;: [None, [0.5, 0.5], [0.6, 0.4],\n                                         [0.4, 0.6]],\n                         &#x27;fit_prior&#x27;: [True, False],\n                         &#x27;force_alpha&#x27;: [True, False]})</pre></div> </div></div><div class=\"sk-parallel\"><div class=\"sk-parallel-item\"><div class=\"sk-item\"><div class=\"sk-label-container\"><div class=\"sk-label fitted sk-toggleable\"><input class=\"sk-toggleable__control sk-hidden--visually\" id=\"sk-estimator-id-2\" type=\"checkbox\" ><label for=\"sk-estimator-id-2\" class=\"sk-toggleable__label fitted sk-toggleable__label-arrow fitted\">estimator: BernoulliNB</label><div class=\"sk-toggleable__content fitted\"><pre>BernoulliNB()</pre></div> </div></div><div class=\"sk-serial\"><div class=\"sk-item\"><div class=\"sk-estimator fitted sk-toggleable\"><input class=\"sk-toggleable__control sk-hidden--visually\" id=\"sk-estimator-id-3\" type=\"checkbox\" ><label for=\"sk-estimator-id-3\" class=\"sk-toggleable__label fitted sk-toggleable__label-arrow fitted\">&nbsp;BernoulliNB<a class=\"sk-estimator-doc-link fitted\" rel=\"noreferrer\" target=\"_blank\" href=\"https://scikit-learn.org/1.4/modules/generated/sklearn.naive_bayes.BernoulliNB.html\">?<span>Documentation for BernoulliNB</span></a></label><div class=\"sk-toggleable__content fitted\"><pre>BernoulliNB()</pre></div> </div></div></div></div></div></div></div></div></div>"
     },
     "execution_count": 71,
     "metadata": {},
     "output_type": "execute_result"
    }
   ],
   "source": [
    "grid_search_bernouli = GridSearchCV(estimator = bernouli_model, param_grid = param_grid)\n",
    "grid_search_bernouli.fit(x_train,y_train)"
   ],
   "metadata": {
    "collapsed": false,
    "ExecuteTime": {
     "end_time": "2024-03-27T12:35:19.494357Z",
     "start_time": "2024-03-27T12:34:07.528194Z"
    }
   },
   "id": "b03997c9bea8d653",
   "execution_count": 71
  },
  {
   "cell_type": "code",
   "outputs": [
    {
     "data": {
      "text/plain": "{'alpha': 0.5,\n 'binarize': 0.0,\n 'class_prior': [0.4, 0.6],\n 'fit_prior': True,\n 'force_alpha': True}"
     },
     "execution_count": 72,
     "metadata": {},
     "output_type": "execute_result"
    }
   ],
   "source": [
    "# vew the optimal parameter list\n",
    "grid_search_bernouli.best_params_"
   ],
   "metadata": {
    "collapsed": false,
    "ExecuteTime": {
     "end_time": "2024-03-27T12:35:19.503822Z",
     "start_time": "2024-03-27T12:35:19.497920Z"
    }
   },
   "id": "a0da1d1c5f68084b",
   "execution_count": 72
  },
  {
   "cell_type": "code",
   "outputs": [
    {
     "name": "stdout",
     "output_type": "stream",
     "text": [
      "Training accuracy :  0.7752994769697992\n",
      "Testing accuracy :  0.7772941236017614\n"
     ]
    }
   ],
   "source": [
    "print('Training accuracy : ', grid_search_bernouli.score(x_train,y_train))\n",
    "print('Testing accuracy : ', grid_search_bernouli.score(x_test,y_test))"
   ],
   "metadata": {
    "collapsed": false,
    "ExecuteTime": {
     "end_time": "2024-03-27T12:35:19.640905Z",
     "start_time": "2024-03-27T12:35:19.506601Z"
    }
   },
   "id": "b00780e896f29966",
   "execution_count": 73
  },
  {
   "cell_type": "code",
   "outputs": [],
   "source": [
    "y_pred = grid_search_bernouli.predict(x_test)"
   ],
   "metadata": {
    "collapsed": false,
    "ExecuteTime": {
     "end_time": "2024-03-27T12:35:19.703373Z",
     "start_time": "2024-03-27T12:35:19.643443Z"
    }
   },
   "id": "247c694b69fdb088",
   "execution_count": 74
  },
  {
   "cell_type": "code",
   "outputs": [],
   "source": [
    "from sklearn.metrics import confusion_matrix"
   ],
   "metadata": {
    "collapsed": false,
    "ExecuteTime": {
     "end_time": "2024-03-27T12:35:19.711787Z",
     "start_time": "2024-03-27T12:35:19.708160Z"
    }
   },
   "id": "bde47ed8b53f9ade",
   "execution_count": 75
  },
  {
   "cell_type": "code",
   "outputs": [
    {
     "data": {
      "text/plain": "array([[14061,  5799],\n       [ 3001, 16653]])"
     },
     "execution_count": 76,
     "metadata": {},
     "output_type": "execute_result"
    }
   ],
   "source": [
    "confusion_matrix(y_test, y_pred)"
   ],
   "metadata": {
    "collapsed": false,
    "ExecuteTime": {
     "end_time": "2024-03-27T12:35:19.724001Z",
     "start_time": "2024-03-27T12:35:19.714065Z"
    }
   },
   "id": "fc5e78f1273e7459",
   "execution_count": 76
  },
  {
   "cell_type": "code",
   "outputs": [],
   "source": [
    "from sklearn.metrics import classification_report"
   ],
   "metadata": {
    "collapsed": false,
    "ExecuteTime": {
     "end_time": "2024-03-27T12:35:19.728894Z",
     "start_time": "2024-03-27T12:35:19.725683Z"
    }
   },
   "id": "91a18d12f303bfa8",
   "execution_count": 77
  },
  {
   "cell_type": "code",
   "outputs": [
    {
     "name": "stdout",
     "output_type": "stream",
     "text": [
      "              precision    recall  f1-score   support\n",
      "\n",
      "           0       0.82      0.71      0.76     19860\n",
      "           1       0.74      0.85      0.79     19654\n",
      "\n",
      "    accuracy                           0.78     39514\n",
      "   macro avg       0.78      0.78      0.78     39514\n",
      "weighted avg       0.78      0.78      0.78     39514\n"
     ]
    }
   ],
   "source": [
    "print(classification_report(y_test, y_pred))"
   ],
   "metadata": {
    "collapsed": false,
    "ExecuteTime": {
     "end_time": "2024-03-27T12:35:19.791311Z",
     "start_time": "2024-03-27T12:35:19.730875Z"
    }
   },
   "id": "3b1ce4d4c6afa7c5",
   "execution_count": 78
  },
  {
   "cell_type": "code",
   "outputs": [],
   "source": [
    "from sklearn.metrics import roc_curve"
   ],
   "metadata": {
    "collapsed": false,
    "ExecuteTime": {
     "end_time": "2024-03-27T12:35:19.796797Z",
     "start_time": "2024-03-27T12:35:19.793582Z"
    }
   },
   "id": "a91b894f2cc3ecfd",
   "execution_count": 79
  },
  {
   "cell_type": "code",
   "outputs": [
    {
     "data": {
      "text/plain": "<Figure size 640x480 with 1 Axes>",
      "image/png": "[encoded data removed]"
     },
     "metadata": {},
     "output_type": "display_data"
    }
   ],
   "source": [
    "fpr, tpr, thresholds = roc_curve(y_test, y_pred)\n",
    "plt.plot(fpr, tpr)\n",
    "plt.title('ROC curve')\n",
    "plt.show()"
   ],
   "metadata": {
    "collapsed": false,
    "ExecuteTime": {
     "end_time": "2024-03-27T12:35:20.022533Z",
     "start_time": "2024-03-27T12:35:19.798331Z"
    }
   },
   "id": "ee220666ff2a8d5f",
   "execution_count": 80
  },
  {
   "cell_type": "code",
   "outputs": [],
   "source": [
    "from sklearn.metrics import roc_auc_score"
   ],
   "metadata": {
    "collapsed": false,
    "ExecuteTime": {
     "end_time": "2024-03-27T12:35:20.026569Z",
     "start_time": "2024-03-27T12:35:20.023597Z"
    }
   },
   "id": "f600fddb34ce5a",
   "execution_count": 81
  },
  {
   "cell_type": "code",
   "outputs": [
    {
     "name": "stdout",
     "output_type": "stream",
     "text": [
      "roc_auc_score :  0.7776572391189329\n"
     ]
    }
   ],
   "source": [
    "print('roc_auc_score : ', roc_auc_score(y_test, y_pred))"
   ],
   "metadata": {
    "collapsed": false,
    "ExecuteTime": {
     "end_time": "2024-03-27T12:35:20.035803Z",
     "start_time": "2024-03-27T12:35:20.027533Z"
    }
   },
   "id": "baf601cb4be66f1a",
   "execution_count": 82
  },
  {
   "cell_type": "markdown",
   "source": [
    "## Random Forest Classification Algorithm"
   ],
   "metadata": {
    "collapsed": false
   },
   "id": "61b6fca598cc074d"
  },
  {
   "cell_type": "code",
   "outputs": [],
   "source": [
    "from sklearn.ensemble import RandomForestClassifier"
   ],
   "metadata": {
    "collapsed": false,
    "ExecuteTime": {
     "end_time": "2024-03-27T12:35:20.049967Z",
     "start_time": "2024-03-27T12:35:20.047395Z"
    }
   },
   "id": "85054a4e4eb5ee21",
   "execution_count": 83
  },
  {
   "cell_type": "code",
   "outputs": [
    {
     "data": {
      "text/plain": "<Figure size 640x480 with 1 Axes>",
      "image/png": "[encoded data removed]"
     },
     "metadata": {},
     "output_type": "display_data"
    }
   ],
   "source": [
    "# list to store accuracy values\n",
    "test_acc_list = []\n",
    "train_acc_list = []\n",
    "\n",
    "for i in range(1, 101):\n",
    "    rf_model = RandomForestClassifier(n_estimators=i, random_state=42)\n",
    "    rf_model.fit(x_train, y_train)\n",
    "    \n",
    "    # training set\n",
    "    train_pred = rf_model.predict(x_train)\n",
    "    train_acc = accuracy_score(y_train, train_pred)\n",
    "    train_acc_list.append(train_acc)\n",
    "    \n",
    "    # testing set\n",
    "    test_pred = rf_model.predict(x_test)\n",
    "    test_acc = accuracy_score(y_test, test_pred)\n",
    "    test_acc_list.append(test_acc)\n",
    "\n",
    "plt.plot(range(1, 101), train_acc_list)\n",
    "plt.plot(range(1, 101), test_acc_list)\n",
    "plt.title('Random Forest Classification Accuracy')\n",
    "plt.xlabel('Number of Trees')\n",
    "plt.ylabel('Accuracy')\n",
    "plt.show()"
   ],
   "metadata": {
    "collapsed": false,
    "ExecuteTime": {
     "end_time": "2024-03-27T12:39:29.585130Z",
     "start_time": "2024-03-27T12:35:20.050637Z"
    }
   },
   "id": "b326fe08affe9f96",
   "execution_count": 84
  },
  {
   "cell_type": "code",
   "outputs": [
    {
     "name": "stdout",
     "output_type": "stream",
     "text": [
      "Training accuracy :  0.9754175805635229\n",
      "Testing accuracy :  0.924583691856051\n"
     ]
    }
   ],
   "source": [
    "rf_model = RandomForestClassifier(n_estimators=40, random_state=42)\n",
    "rf_model.fit(x_train, y_train)\n",
    "\n",
    "train_pred = rf_model.predict(x_train)\n",
    "test_pred = rf_model.predict(x_test)\n",
    "\n",
    "print('Training accuracy : ', accuracy_score(y_train, train_pred))\n",
    "print('Testing accuracy : ', accuracy_score(y_test, test_pred))"
   ],
   "metadata": {
    "collapsed": false,
    "ExecuteTime": {
     "end_time": "2024-03-27T12:39:31.785584Z",
     "start_time": "2024-03-27T12:39:29.586779Z"
    }
   },
   "id": "c1874d1e749652be",
   "execution_count": 85
  },
  {
   "cell_type": "code",
   "outputs": [],
   "source": [
    "# define parameters to introduce to GridSearchCV\n",
    "param_grid = {\n",
    "    'n_estimators': [40],\n",
    "    'random_state': [42],\n",
    "    'criterion': ['gini', 'entropy'],\n",
    "    'bootstrap': [True, False],\n",
    "    'warm_start': [True, False]\n",
    "}"
   ],
   "metadata": {
    "collapsed": false,
    "ExecuteTime": {
     "end_time": "2024-03-27T12:39:31.788517Z",
     "start_time": "2024-03-27T12:39:31.786486Z"
    }
   },
   "id": "f03df5d93976ad5c",
   "execution_count": 86
  },
  {
   "cell_type": "code",
   "outputs": [
    {
     "data": {
      "text/plain": "GridSearchCV(estimator=RandomForestClassifier(n_estimators=40, random_state=42),\n             param_grid={'bootstrap': [True, False],\n                         'criterion': ['gini', 'entropy'], 'n_estimators': [40],\n                         'random_state': [42], 'warm_start': [True, False]})",
      "text/html": "<style>#sk-container-id-2 {\n  /* Definition of color scheme common for light and dark mode */\n  --sklearn-color-text: black;\n  --sklearn-color-line: gray;\n  /* Definition of color scheme for unfitted estimators */\n  --sklearn-color-unfitted-level-0: #fff5e6;\n  --sklearn-color-unfitted-level-1: #f6e4d2;\n  --sklearn-color-unfitted-level-2: #ffe0b3;\n  --sklearn-color-unfitted-level-3: chocolate;\n  /* Definition of color scheme for fitted estimators */\n  --sklearn-color-fitted-level-0: #f0f8ff;\n  --sklearn-color-fitted-level-1: #d4ebff;\n  --sklearn-color-fitted-level-2: #b3dbfd;\n  --sklearn-color-fitted-level-3: cornflowerblue;\n\n  /* Specific color for light theme */\n  --sklearn-color-text-on-default-background: var(--sg-text-color, var(--theme-code-foreground, var(--jp-content-font-color1, black)));\n  --sklearn-color-background: var(--sg-background-color, var(--theme-background, var(--jp-layout-color0, white)));\n  --sklearn-color-border-box: var(--sg-text-color, var(--theme-code-foreground, var(--jp-content-font-color1, black)));\n  --sklearn-color-icon: #696969;\n\n  @media (prefers-color-scheme: dark) {\n    /* Redefinition of color scheme for dark theme */\n    --sklearn-color-text-on-default-background: var(--sg-text-color, var(--theme-code-foreground, var(--jp-content-font-color1, white)));\n    --sklearn-color-background: var(--sg-background-color, var(--theme-background, var(--jp-layout-color0, #111)));\n    --sklearn-color-border-box: var(--sg-text-color, var(--theme-code-foreground, var(--jp-content-font-color1, white)));\n    --sklearn-color-icon: #878787;\n  }\n}\n\n#sk-container-id-2 {\n  color: var(--sklearn-color-text);\n}\n\n#sk-container-id-2 pre {\n  padding: 0;\n}\n\n#sk-container-id-2 input.sk-hidden--visually {\n  border: 0;\n  clip: rect(1px 1px 1px 1px);\n  clip: rect(1px, 1px, 1px, 1px);\n  height: 1px;\n  margin: -1px;\n  overflow: hidden;\n  padding: 0;\n  position: absolute;\n  width: 1px;\n}\n\n#sk-container-id-2 div.sk-dashed-wrapped {\n  border: 1px dashed var(--sklearn-color-line);\n  margin: 0 0.4em 0.5em 0.4em;\n  box-sizing: border-box;\n  padding-bottom: 0.4em;\n  background-color: var(--sklearn-color-background);\n}\n\n#sk-container-id-2 div.sk-container {\n  /* jupyter's `normalize.less` sets `[hidden] { display: none; }`\n     but bootstrap.min.css set `[hidden] { display: none !important; }`\n     so we also need the `!important` here to be able to override the\n     default hidden behavior on the sphinx rendered scikit-learn.org.\n     See: https://github.com/scikit-learn/scikit-learn/issues/21755 */\n  display: inline-block !important;\n  position: relative;\n}\n\n#sk-container-id-2 div.sk-text-repr-fallback {\n  display: none;\n}\n\ndiv.sk-parallel-item,\ndiv.sk-serial,\ndiv.sk-item {\n  /* draw centered vertical line to link estimators */\n  background-image: linear-gradient(var(--sklearn-color-text-on-default-background), var(--sklearn-color-text-on-default-background));\n  background-size: 2px 100%;\n  background-repeat: no-repeat;\n  background-position: center center;\n}\n\n/* Parallel-specific style estimator block */\n\n#sk-container-id-2 div.sk-parallel-item::after {\n  content: \"\";\n  width: 100%;\n  border-bottom: 2px solid var(--sklearn-color-text-on-default-background);\n  flex-grow: 1;\n}\n\n#sk-container-id-2 div.sk-parallel {\n  display: flex;\n  align-items: stretch;\n  justify-content: center;\n  background-color: var(--sklearn-color-background);\n  position: relative;\n}\n\n#sk-container-id-2 div.sk-parallel-item {\n  display: flex;\n  flex-direction: column;\n}\n\n#sk-container-id-2 div.sk-parallel-item:first-child::after {\n  align-self: flex-end;\n  width: 50%;\n}\n\n#sk-container-id-2 div.sk-parallel-item:last-child::after {\n  align-self: flex-start;\n  width: 50%;\n}\n\n#sk-container-id-2 div.sk-parallel-item:only-child::after {\n  width: 0;\n}\n\n/* Serial-specific style estimator block */\n\n#sk-container-id-2 div.sk-serial {\n  display: flex;\n  flex-direction: column;\n  align-items: center;\n  background-color: var(--sklearn-color-background);\n  padding-right: 1em;\n  padding-left: 1em;\n}\n\n\n/* Toggleable style: style used for estimator/Pipeline/ColumnTransformer box that is\nclickable and can be expanded/collapsed.\n- Pipeline and ColumnTransformer use this feature and define the default style\n- Estimators will overwrite some part of the style using the `sk-estimator` class\n*/\n\n/* Pipeline and ColumnTransformer style (default) */\n\n#sk-container-id-2 div.sk-toggleable {\n  /* Default theme specific background. It is overwritten whether we have a\n  specific estimator or a Pipeline/ColumnTransformer */\n  background-color: var(--sklearn-color-background);\n}\n\n/* Toggleable label */\n#sk-container-id-2 label.sk-toggleable__label {\n  cursor: pointer;\n  display: block;\n  width: 100%;\n  margin-bottom: 0;\n  padding: 0.5em;\n  box-sizing: border-box;\n  text-align: center;\n}\n\n#sk-container-id-2 label.sk-toggleable__label-arrow:before {\n  /* Arrow on the left of the label */\n  content: \"▸\";\n  float: left;\n  margin-right: 0.25em;\n  color: var(--sklearn-color-icon);\n}\n\n#sk-container-id-2 label.sk-toggleable__label-arrow:hover:before {\n  color: var(--sklearn-color-text);\n}\n\n/* Toggleable content - dropdown */\n\n#sk-container-id-2 div.sk-toggleable__content {\n  max-height: 0;\n  max-width: 0;\n  overflow: hidden;\n  text-align: left;\n  /* unfitted */\n  background-color: var(--sklearn-color-unfitted-level-0);\n}\n\n#sk-container-id-2 div.sk-toggleable__content.fitted {\n  /* fitted */\n  background-color: var(--sklearn-color-fitted-level-0);\n}\n\n#sk-container-id-2 div.sk-toggleable__content pre {\n  margin: 0.2em;\n  border-radius: 0.25em;\n  color: var(--sklearn-color-text);\n  /* unfitted */\n  background-color: var(--sklearn-color-unfitted-level-0);\n}\n\n#sk-container-id-2 div.sk-toggleable__content.fitted pre {\n  /* unfitted */\n  background-color: var(--sklearn-color-fitted-level-0);\n}\n\n#sk-container-id-2 input.sk-toggleable__control:checked~div.sk-toggleable__content {\n  /* Expand drop-down */\n  max-height: 200px;\n  max-width: 100%;\n  overflow: auto;\n}\n\n#sk-container-id-2 input.sk-toggleable__control:checked~label.sk-toggleable__label-arrow:before {\n  content: \"▾\";\n}\n\n/* Pipeline/ColumnTransformer-specific style */\n\n#sk-container-id-2 div.sk-label input.sk-toggleable__control:checked~label.sk-toggleable__label {\n  color: var(--sklearn-color-text);\n  background-color: var(--sklearn-color-unfitted-level-2);\n}\n\n#sk-container-id-2 div.sk-label.fitted input.sk-toggleable__control:checked~label.sk-toggleable__label {\n  background-color: var(--sklearn-color-fitted-level-2);\n}\n\n/* Estimator-specific style */\n\n/* Colorize estimator box */\n#sk-container-id-2 div.sk-estimator input.sk-toggleable__control:checked~label.sk-toggleable__label {\n  /* unfitted */\n  background-color: var(--sklearn-color-unfitted-level-2);\n}\n\n#sk-container-id-2 div.sk-estimator.fitted input.sk-toggleable__control:checked~label.sk-toggleable__label {\n  /* fitted */\n  background-color: var(--sklearn-color-fitted-level-2);\n}\n\n#sk-container-id-2 div.sk-label label.sk-toggleable__label,\n#sk-container-id-2 div.sk-label label {\n  /* The background is the default theme color */\n  color: var(--sklearn-color-text-on-default-background);\n}\n\n/* On hover, darken the color of the background */\n#sk-container-id-2 div.sk-label:hover label.sk-toggleable__label {\n  color: var(--sklearn-color-text);\n  background-color: var(--sklearn-color-unfitted-level-2);\n}\n\n/* Label box, darken color on hover, fitted */\n#sk-container-id-2 div.sk-label.fitted:hover label.sk-toggleable__label.fitted {\n  color: var(--sklearn-color-text);\n  background-color: var(--sklearn-color-fitted-level-2);\n}\n\n/* Estimator label */\n\n#sk-container-id-2 div.sk-label label {\n  font-family: monospace;\n  font-weight: bold;\n  display: inline-block;\n  line-height: 1.2em;\n}\n\n#sk-container-id-2 div.sk-label-container {\n  text-align: center;\n}\n\n/* Estimator-specific */\n#sk-container-id-2 div.sk-estimator {\n  font-family: monospace;\n  border: 1px dotted var(--sklearn-color-border-box);\n  border-radius: 0.25em;\n  box-sizing: border-box;\n  margin-bottom: 0.5em;\n  /* unfitted */\n  background-color: var(--sklearn-color-unfitted-level-0);\n}\n\n#sk-container-id-2 div.sk-estimator.fitted {\n  /* fitted */\n  background-color: var(--sklearn-color-fitted-level-0);\n}\n\n/* on hover */\n#sk-container-id-2 div.sk-estimator:hover {\n  /* unfitted */\n  background-color: var(--sklearn-color-unfitted-level-2);\n}\n\n#sk-container-id-2 div.sk-estimator.fitted:hover {\n  /* fitted */\n  background-color: var(--sklearn-color-fitted-level-2);\n}\n\n/* Specification for estimator info (e.g. \"i\" and \"?\") */\n\n/* Common style for \"i\" and \"?\" */\n\n.sk-estimator-doc-link,\na:link.sk-estimator-doc-link,\na:visited.sk-estimator-doc-link {\n  float: right;\n  font-size: smaller;\n  line-height: 1em;\n  font-family: monospace;\n  background-color: var(--sklearn-color-background);\n  border-radius: 1em;\n  height: 1em;\n  width: 1em;\n  text-decoration: none !important;\n  margin-left: 1ex;\n  /* unfitted */\n  border: var(--sklearn-color-unfitted-level-1) 1pt solid;\n  color: var(--sklearn-color-unfitted-level-1);\n}\n\n.sk-estimator-doc-link.fitted,\na:link.sk-estimator-doc-link.fitted,\na:visited.sk-estimator-doc-link.fitted {\n  /* fitted */\n  border: var(--sklearn-color-fitted-level-1) 1pt solid;\n  color: var(--sklearn-color-fitted-level-1);\n}\n\n/* On hover */\ndiv.sk-estimator:hover .sk-estimator-doc-link:hover,\n.sk-estimator-doc-link:hover,\ndiv.sk-label-container:hover .sk-estimator-doc-link:hover,\n.sk-estimator-doc-link:hover {\n  /* unfitted */\n  background-color: var(--sklearn-color-unfitted-level-3);\n  color: var(--sklearn-color-background);\n  text-decoration: none;\n}\n\ndiv.sk-estimator.fitted:hover .sk-estimator-doc-link.fitted:hover,\n.sk-estimator-doc-link.fitted:hover,\ndiv.sk-label-container:hover .sk-estimator-doc-link.fitted:hover,\n.sk-estimator-doc-link.fitted:hover {\n  /* fitted */\n  background-color: var(--sklearn-color-fitted-level-3);\n  color: var(--sklearn-color-background);\n  text-decoration: none;\n}\n\n/* Span, style for the box shown on hovering the info icon */\n.sk-estimator-doc-link span {\n  display: none;\n  z-index: 9999;\n  position: relative;\n  font-weight: normal;\n  right: .2ex;\n  padding: .5ex;\n  margin: .5ex;\n  width: min-content;\n  min-width: 20ex;\n  max-width: 50ex;\n  color: var(--sklearn-color-text);\n  box-shadow: 2pt 2pt 4pt #999;\n  /* unfitted */\n  background: var(--sklearn-color-unfitted-level-0);\n  border: .5pt solid var(--sklearn-color-unfitted-level-3);\n}\n\n.sk-estimator-doc-link.fitted span {\n  /* fitted */\n  background: var(--sklearn-color-fitted-level-0);\n  border: var(--sklearn-color-fitted-level-3);\n}\n\n.sk-estimator-doc-link:hover span {\n  display: block;\n}\n\n/* \"?\"-specific style due to the `<a>` HTML tag */\n\n#sk-container-id-2 a.estimator_doc_link {\n  float: right;\n  font-size: 1rem;\n  line-height: 1em;\n  font-family: monospace;\n  background-color: var(--sklearn-color-background);\n  border-radius: 1rem;\n  height: 1rem;\n  width: 1rem;\n  text-decoration: none;\n  /* unfitted */\n  color: var(--sklearn-color-unfitted-level-1);\n  border: var(--sklearn-color-unfitted-level-1) 1pt solid;\n}\n\n#sk-container-id-2 a.estimator_doc_link.fitted {\n  /* fitted */\n  border: var(--sklearn-color-fitted-level-1) 1pt solid;\n  color: var(--sklearn-color-fitted-level-1);\n}\n\n/* On hover */\n#sk-container-id-2 a.estimator_doc_link:hover {\n  /* unfitted */\n  background-color: var(--sklearn-color-unfitted-level-3);\n  color: var(--sklearn-color-background);\n  text-decoration: none;\n}\n\n#sk-container-id-2 a.estimator_doc_link.fitted:hover {\n  /* fitted */\n  background-color: var(--sklearn-color-fitted-level-3);\n}\n</style><div id=\"sk-container-id-2\" class=\"sk-top-container\"><div class=\"sk-text-repr-fallback\"><pre>GridSearchCV(estimator=RandomForestClassifier(n_estimators=40, random_state=42),\n             param_grid={&#x27;bootstrap&#x27;: [True, False],\n                         &#x27;criterion&#x27;: [&#x27;gini&#x27;, &#x27;entropy&#x27;], &#x27;n_estimators&#x27;: [40],\n                         &#x27;random_state&#x27;: [42], &#x27;warm_start&#x27;: [True, False]})</pre><b>In a Jupyter environment, please rerun this cell to show the HTML representation or trust the notebook. <br />On GitHub, the HTML representation is unable to render, please try loading this page with nbviewer.org.</b></div><div class=\"sk-container\" hidden><div class=\"sk-item sk-dashed-wrapped\"><div class=\"sk-label-container\"><div class=\"sk-label fitted sk-toggleable\"><input class=\"sk-toggleable__control sk-hidden--visually\" id=\"sk-estimator-id-4\" type=\"checkbox\" ><label for=\"sk-estimator-id-4\" class=\"sk-toggleable__label fitted sk-toggleable__label-arrow fitted\">&nbsp;&nbsp;GridSearchCV<a class=\"sk-estimator-doc-link fitted\" rel=\"noreferrer\" target=\"_blank\" href=\"https://scikit-learn.org/1.4/modules/generated/sklearn.model_selection.GridSearchCV.html\">?<span>Documentation for GridSearchCV</span></a><span class=\"sk-estimator-doc-link fitted\">i<span>Fitted</span></span></label><div class=\"sk-toggleable__content fitted\"><pre>GridSearchCV(estimator=RandomForestClassifier(n_estimators=40, random_state=42),\n             param_grid={&#x27;bootstrap&#x27;: [True, False],\n                         &#x27;criterion&#x27;: [&#x27;gini&#x27;, &#x27;entropy&#x27;], &#x27;n_estimators&#x27;: [40],\n                         &#x27;random_state&#x27;: [42], &#x27;warm_start&#x27;: [True, False]})</pre></div> </div></div><div class=\"sk-parallel\"><div class=\"sk-parallel-item\"><div class=\"sk-item\"><div class=\"sk-label-container\"><div class=\"sk-label fitted sk-toggleable\"><input class=\"sk-toggleable__control sk-hidden--visually\" id=\"sk-estimator-id-5\" type=\"checkbox\" ><label for=\"sk-estimator-id-5\" class=\"sk-toggleable__label fitted sk-toggleable__label-arrow fitted\">estimator: RandomForestClassifier</label><div class=\"sk-toggleable__content fitted\"><pre>RandomForestClassifier(n_estimators=40, random_state=42)</pre></div> </div></div><div class=\"sk-serial\"><div class=\"sk-item\"><div class=\"sk-estimator fitted sk-toggleable\"><input class=\"sk-toggleable__control sk-hidden--visually\" id=\"sk-estimator-id-6\" type=\"checkbox\" ><label for=\"sk-estimator-id-6\" class=\"sk-toggleable__label fitted sk-toggleable__label-arrow fitted\">&nbsp;RandomForestClassifier<a class=\"sk-estimator-doc-link fitted\" rel=\"noreferrer\" target=\"_blank\" href=\"https://scikit-learn.org/1.4/modules/generated/sklearn.ensemble.RandomForestClassifier.html\">?<span>Documentation for RandomForestClassifier</span></a></label><div class=\"sk-toggleable__content fitted\"><pre>RandomForestClassifier(n_estimators=40, random_state=42)</pre></div> </div></div></div></div></div></div></div></div></div>"
     },
     "execution_count": 87,
     "metadata": {},
     "output_type": "execute_result"
    }
   ],
   "source": [
    "grid_search_rf = GridSearchCV(estimator = rf_model, param_grid = param_grid)\n",
    "grid_search_rf.fit(x_train,y_train)"
   ],
   "metadata": {
    "collapsed": false,
    "ExecuteTime": {
     "end_time": "2024-03-27T12:40:30.377473Z",
     "start_time": "2024-03-27T12:39:31.789268Z"
    }
   },
   "id": "6f7e61009288d6e7",
   "execution_count": 87
  },
  {
   "cell_type": "code",
   "outputs": [
    {
     "data": {
      "text/plain": "{'bootstrap': False,\n 'criterion': 'gini',\n 'n_estimators': 40,\n 'random_state': 42,\n 'warm_start': True}"
     },
     "execution_count": 88,
     "metadata": {},
     "output_type": "execute_result"
    }
   ],
   "source": [
    "# vew the optimal parameter list\n",
    "grid_search_rf.best_params_"
   ],
   "metadata": {
    "collapsed": false,
    "ExecuteTime": {
     "end_time": "2024-03-27T12:40:30.381793Z",
     "start_time": "2024-03-27T12:40:30.378592Z"
    }
   },
   "id": "7091a2b7db359415",
   "execution_count": 88
  },
  {
   "cell_type": "code",
   "outputs": [
    {
     "name": "stdout",
     "output_type": "stream",
     "text": [
      "Training accuracy :  0.9755862999831281\n",
      "Testing accuracy :  0.924355924482462\n"
     ]
    }
   ],
   "source": [
    "print('Training accuracy : ', grid_search_rf.score(x_train,y_train))\n",
    "print('Testing accuracy : ', grid_search_rf.score(x_test,y_test))"
   ],
   "metadata": {
    "collapsed": false,
    "ExecuteTime": {
     "end_time": "2024-03-27T12:40:30.979633Z",
     "start_time": "2024-03-27T12:40:30.382808Z"
    }
   },
   "id": "48ba0853fcbb2742",
   "execution_count": 89
  },
  {
   "cell_type": "code",
   "outputs": [],
   "source": [
    "y_pred = grid_search_rf.predict(x_test)"
   ],
   "metadata": {
    "collapsed": false,
    "ExecuteTime": {
     "end_time": "2024-03-27T12:40:31.215108Z",
     "start_time": "2024-03-27T12:40:30.980443Z"
    }
   },
   "id": "7883307534f8483b",
   "execution_count": 90
  },
  {
   "cell_type": "code",
   "outputs": [],
   "source": [
    "from sklearn.metrics import confusion_matrix"
   ],
   "metadata": {
    "collapsed": false,
    "ExecuteTime": {
     "end_time": "2024-03-27T12:40:31.218365Z",
     "start_time": "2024-03-27T12:40:31.215982Z"
    }
   },
   "id": "1128c828eb4413a2",
   "execution_count": 91
  },
  {
   "cell_type": "code",
   "outputs": [
    {
     "data": {
      "text/plain": "array([[17920,  1940],\n       [ 1049, 18605]])"
     },
     "execution_count": 92,
     "metadata": {},
     "output_type": "execute_result"
    }
   ],
   "source": [
    "confusion_matrix(y_test, y_pred)"
   ],
   "metadata": {
    "collapsed": false,
    "ExecuteTime": {
     "end_time": "2024-03-27T12:40:31.226904Z",
     "start_time": "2024-03-27T12:40:31.219019Z"
    }
   },
   "id": "f9147259dca5c7f3",
   "execution_count": 92
  },
  {
   "cell_type": "code",
   "outputs": [],
   "source": [
    "from sklearn.metrics import classification_report"
   ],
   "metadata": {
    "collapsed": false,
    "ExecuteTime": {
     "end_time": "2024-03-27T12:40:31.228974Z",
     "start_time": "2024-03-27T12:40:31.227509Z"
    }
   },
   "id": "c5ef5ebce9403110",
   "execution_count": 93
  },
  {
   "cell_type": "code",
   "outputs": [
    {
     "name": "stdout",
     "output_type": "stream",
     "text": [
      "              precision    recall  f1-score   support\n",
      "\n",
      "           0       0.94      0.90      0.92     19860\n",
      "           1       0.91      0.95      0.93     19654\n",
      "\n",
      "    accuracy                           0.92     39514\n",
      "   macro avg       0.93      0.92      0.92     39514\n",
      "weighted avg       0.93      0.92      0.92     39514\n"
     ]
    }
   ],
   "source": [
    "print(classification_report(y_test, y_pred))"
   ],
   "metadata": {
    "collapsed": false,
    "ExecuteTime": {
     "end_time": "2024-03-27T12:40:31.272162Z",
     "start_time": "2024-03-27T12:40:31.229703Z"
    }
   },
   "id": "6d65aa8135a56eeb",
   "execution_count": 94
  },
  {
   "cell_type": "code",
   "outputs": [],
   "source": [
    "from sklearn.metrics import roc_curve"
   ],
   "metadata": {
    "collapsed": false,
    "ExecuteTime": {
     "end_time": "2024-03-27T12:40:31.274606Z",
     "start_time": "2024-03-27T12:40:31.272931Z"
    }
   },
   "id": "755513e478a25cee",
   "execution_count": 95
  },
  {
   "cell_type": "code",
   "outputs": [
    {
     "data": {
      "text/plain": "<Figure size 640x480 with 1 Axes>",
      "image/png": "[encoded data removed]"
     },
     "metadata": {},
     "output_type": "display_data"
    }
   ],
   "source": [
    "fpr, tpr, thresholds = roc_curve(y_test, y_pred)\n",
    "plt.plot(fpr, tpr)\n",
    "plt.title('ROC curve')\n",
    "plt.show()"
   ],
   "metadata": {
    "collapsed": false,
    "ExecuteTime": {
     "end_time": "2024-03-27T12:40:31.357460Z",
     "start_time": "2024-03-27T12:40:31.275541Z"
    }
   },
   "id": "9f6d9b1172b0929a",
   "execution_count": 96
  },
  {
   "cell_type": "code",
   "outputs": [
    {
     "name": "stdout",
     "output_type": "stream",
     "text": [
      "roc_auc_score :  0.9244714271909062\n"
     ]
    }
   ],
   "source": [
    "print('roc_auc_score : ', roc_auc_score(y_test, y_pred))"
   ],
   "metadata": {
    "collapsed": false,
    "ExecuteTime": {
     "end_time": "2024-03-27T12:40:31.366505Z",
     "start_time": "2024-03-27T12:40:31.358547Z"
    }
   },
   "id": "ce648464a82722c2",
   "execution_count": 97
  }
 ],
 "metadata": {
  "kernelspec": {
   "display_name": "Python 3",
   "language": "python",
   "name": "python3"
  },
  "language_info": {
   "codemirror_mode": {
    "name": "ipython",
    "version": 2
   },
   "file_extension": ".py",
   "mimetype": "text/x-python",
   "name": "python",
   "nbconvert_exporter": "python",
   "pygments_lexer": "ipython2",
   "version": "2.7.6"
  }
 },
 "nbformat": 4,
 "nbformat_minor": 5
}
