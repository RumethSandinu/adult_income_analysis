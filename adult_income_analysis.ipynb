{
 "cells": [
  {
   "cell_type": "code",
   "execution_count": 1,
   "id": "initial_id",
   "metadata": {
    "collapsed": true,
    "ExecuteTime": {
     "end_time": "2024-03-19T15:46:54.588808Z",
     "start_time": "2024-03-19T15:46:54.583708Z"
    }
   },
   "outputs": [],
   "source": [
    "import numpy as np\n",
    "# install ucimlrepo, pandas, matplotlib packages\n",
    "\n",
    "from ucimlrepo import fetch_ucirepo "
   ]
  },
  {
   "cell_type": "code",
   "outputs": [
    {
     "data": {
      "text/plain": "((48842, 14), (48842, 1))"
     },
     "execution_count": 2,
     "metadata": {},
     "output_type": "execute_result"
    }
   ],
   "source": [
    "# fetch dataset \n",
    "adult = fetch_ucirepo(id=2) \n",
    "  \n",
    "# data (as pandas dataframes) \n",
    "x = adult.data.features \n",
    "y = adult.data.targets \n",
    "\n",
    "# shape of data\n",
    "x.shape, y.shape"
   ],
   "metadata": {
    "collapsed": false,
    "ExecuteTime": {
     "end_time": "2024-03-19T15:47:03.320951Z",
     "start_time": "2024-03-19T15:46:54.699518Z"
    }
   },
   "id": "495158470cccf097",
   "execution_count": 2
  },
  {
   "cell_type": "code",
   "outputs": [
    {
     "name": "stdout",
     "output_type": "stream",
     "text": [
      "<class 'pandas.core.frame.DataFrame'>\n",
      "RangeIndex: 48842 entries, 0 to 48841\n",
      "Data columns (total 14 columns):\n",
      " #   Column          Non-Null Count  Dtype \n",
      "---  ------          --------------  ----- \n",
      " 0   age             48842 non-null  int64 \n",
      " 1   workclass       47879 non-null  object\n",
      " 2   fnlwgt          48842 non-null  int64 \n",
      " 3   education       48842 non-null  object\n",
      " 4   education-num   48842 non-null  int64 \n",
      " 5   marital-status  48842 non-null  object\n",
      " 6   occupation      47876 non-null  object\n",
      " 7   relationship    48842 non-null  object\n",
      " 8   race            48842 non-null  object\n",
      " 9   sex             48842 non-null  object\n",
      " 10  capital-gain    48842 non-null  int64 \n",
      " 11  capital-loss    48842 non-null  int64 \n",
      " 12  hours-per-week  48842 non-null  int64 \n",
      " 13  native-country  48568 non-null  object\n",
      "dtypes: int64(6), object(8)\n",
      "memory usage: 5.2+ MB\n"
     ]
    }
   ],
   "source": [
    "# look for null values, data types\n",
    "x.info()"
   ],
   "metadata": {
    "collapsed": false,
    "ExecuteTime": {
     "end_time": "2024-03-19T15:47:03.335840Z",
     "start_time": "2024-03-19T15:47:03.322278Z"
    }
   },
   "id": "ef462139fb776629",
   "execution_count": 3
  },
  {
   "cell_type": "code",
   "outputs": [
    {
     "name": "stdout",
     "output_type": "stream",
     "text": [
      "<class 'pandas.core.frame.DataFrame'>\n",
      "RangeIndex: 48842 entries, 0 to 48841\n",
      "Data columns (total 1 columns):\n",
      " #   Column  Non-Null Count  Dtype \n",
      "---  ------  --------------  ----- \n",
      " 0   income  48842 non-null  object\n",
      "dtypes: object(1)\n",
      "memory usage: 381.7+ KB\n"
     ]
    }
   ],
   "source": [
    "# look for null values, data types\n",
    "y.info()"
   ],
   "metadata": {
    "collapsed": false,
    "ExecuteTime": {
     "end_time": "2024-03-19T15:47:03.341621Z",
     "start_time": "2024-03-19T15:47:03.336841Z"
    }
   },
   "id": "bc9fe6d2965d05e8",
   "execution_count": 4
  },
  {
   "cell_type": "code",
   "outputs": [],
   "source": [
    "import pandas as pd"
   ],
   "metadata": {
    "collapsed": false,
    "ExecuteTime": {
     "end_time": "2024-03-19T15:47:03.345327Z",
     "start_time": "2024-03-19T15:47:03.343374Z"
    }
   },
   "id": "ef2ebadf24f5d1f2",
   "execution_count": 5
  },
  {
   "cell_type": "code",
   "outputs": [
    {
     "data": {
      "text/plain": "       age  workclass  fnlwgt     education  education-num marital-status  \\\n3811    38    Private  206535  Some-college             10       Divorced   \n27422   63    Private  208862       HS-grad              9  Never-married   \n15769   45  Local-gov  191776       Masters             14       Divorced   \n\n           occupation   relationship   race     sex  capital-gain  \\\n3811     Tech-support      Unmarried  White  Female             0   \n27422    Craft-repair  Not-in-family  White    Male             0   \n15769  Prof-specialty  Not-in-family  White  Female             0   \n\n       capital-loss  hours-per-week native-country income  \n3811              0              50  United-States  <=50K  \n27422             0              40  United-States  <=50K  \n15769             0              40  United-States  <=50K  ",
      "text/html": "<div>\n<style scoped>\n    .dataframe tbody tr th:only-of-type {\n        vertical-align: middle;\n    }\n\n    .dataframe tbody tr th {\n        vertical-align: top;\n    }\n\n    .dataframe thead th {\n        text-align: right;\n    }\n</style>\n<table border=\"1\" class=\"dataframe\">\n  <thead>\n    <tr style=\"text-align: right;\">\n      <th></th>\n      <th>age</th>\n      <th>workclass</th>\n      <th>fnlwgt</th>\n      <th>education</th>\n      <th>education-num</th>\n      <th>marital-status</th>\n      <th>occupation</th>\n      <th>relationship</th>\n      <th>race</th>\n      <th>sex</th>\n      <th>capital-gain</th>\n      <th>capital-loss</th>\n      <th>hours-per-week</th>\n      <th>native-country</th>\n      <th>income</th>\n    </tr>\n  </thead>\n  <tbody>\n    <tr>\n      <th>3811</th>\n      <td>38</td>\n      <td>Private</td>\n      <td>206535</td>\n      <td>Some-college</td>\n      <td>10</td>\n      <td>Divorced</td>\n      <td>Tech-support</td>\n      <td>Unmarried</td>\n      <td>White</td>\n      <td>Female</td>\n      <td>0</td>\n      <td>0</td>\n      <td>50</td>\n      <td>United-States</td>\n      <td>&lt;=50K</td>\n    </tr>\n    <tr>\n      <th>27422</th>\n      <td>63</td>\n      <td>Private</td>\n      <td>208862</td>\n      <td>HS-grad</td>\n      <td>9</td>\n      <td>Never-married</td>\n      <td>Craft-repair</td>\n      <td>Not-in-family</td>\n      <td>White</td>\n      <td>Male</td>\n      <td>0</td>\n      <td>0</td>\n      <td>40</td>\n      <td>United-States</td>\n      <td>&lt;=50K</td>\n    </tr>\n    <tr>\n      <th>15769</th>\n      <td>45</td>\n      <td>Local-gov</td>\n      <td>191776</td>\n      <td>Masters</td>\n      <td>14</td>\n      <td>Divorced</td>\n      <td>Prof-specialty</td>\n      <td>Not-in-family</td>\n      <td>White</td>\n      <td>Female</td>\n      <td>0</td>\n      <td>0</td>\n      <td>40</td>\n      <td>United-States</td>\n      <td>&lt;=50K</td>\n    </tr>\n  </tbody>\n</table>\n</div>"
     },
     "execution_count": 6,
     "metadata": {},
     "output_type": "execute_result"
    }
   ],
   "source": [
    "df = pd.concat([x, y], axis=1)\n",
    "df.sample(3)"
   ],
   "metadata": {
    "collapsed": false,
    "ExecuteTime": {
     "end_time": "2024-03-19T15:47:03.358409Z",
     "start_time": "2024-03-19T15:47:03.346025Z"
    }
   },
   "id": "94af50d9e47c3f96",
   "execution_count": 6
  },
  {
   "cell_type": "code",
   "outputs": [
    {
     "data": {
      "text/plain": "income\n<=50K     24720\n<=50K.    12435\n>50K       7841\n>50K.      3846\nName: count, dtype: int64"
     },
     "execution_count": 7,
     "metadata": {},
     "output_type": "execute_result"
    }
   ],
   "source": [
    "# view unique values with value counts\n",
    "df['income'].value_counts()"
   ],
   "metadata": {
    "collapsed": false,
    "ExecuteTime": {
     "end_time": "2024-03-19T15:47:03.363557Z",
     "start_time": "2024-03-19T15:47:03.359099Z"
    }
   },
   "id": "54200c6885278f60",
   "execution_count": 7
  },
  {
   "cell_type": "code",
   "outputs": [
    {
     "data": {
      "text/plain": "income\n<=50K    37155\n>50K     11687\nName: count, dtype: int64"
     },
     "execution_count": 8,
     "metadata": {},
     "output_type": "execute_result"
    }
   ],
   "source": [
    "def process_income(income):\n",
    "    if income == '<=50K.':\n",
    "        return '<=50K'\n",
    "    elif income == '>50K.':\n",
    "        return '>50K'\n",
    "    else: \n",
    "        return income\n",
    "    \n",
    "df['income'] = df['income'].apply(process_income)\n",
    "df['income'].value_counts()"
   ],
   "metadata": {
    "collapsed": false,
    "ExecuteTime": {
     "end_time": "2024-03-19T15:47:03.373831Z",
     "start_time": "2024-03-19T15:47:03.364187Z"
    }
   },
   "id": "7c696d95557ac8eb",
   "execution_count": 8
  },
  {
   "cell_type": "code",
   "outputs": [],
   "source": [
    "import seaborn as sns"
   ],
   "metadata": {
    "collapsed": false,
    "ExecuteTime": {
     "end_time": "2024-03-19T15:47:03.376194Z",
     "start_time": "2024-03-19T15:47:03.374538Z"
    }
   },
   "id": "8a57b5ce1b6403fd",
   "execution_count": 9
  },
  {
   "cell_type": "code",
   "outputs": [
    {
     "data": {
      "text/plain": "<Axes: >"
     },
     "execution_count": 10,
     "metadata": {},
     "output_type": "execute_result"
    },
    {
     "data": {
      "text/plain": "<Figure size 640x480 with 2 Axes>",
      "image/png": "[encoded data removed]"
     },
     "metadata": {},
     "output_type": "display_data"
    }
   ],
   "source": [
    "neumerical_features = df.select_dtypes(include=['int64', 'float64'])\n",
    "corr_metrics = neumerical_features.corr()\n",
    "sns.heatmap(corr_metrics, annot=True, fmt='.2f', cmap='coolwarm')"
   ],
   "metadata": {
    "collapsed": false,
    "ExecuteTime": {
     "end_time": "2024-03-19T15:47:03.732746Z",
     "start_time": "2024-03-19T15:47:03.376968Z"
    }
   },
   "id": "3f41ec30b72deba8",
   "execution_count": 10
  },
  {
   "cell_type": "code",
   "outputs": [
    {
     "data": {
      "text/plain": "count    48842.000000\nmean        38.643585\nstd         13.710510\nmin         17.000000\n25%         28.000000\n50%         37.000000\n75%         48.000000\nmax         90.000000\nName: age, dtype: float64"
     },
     "execution_count": 11,
     "metadata": {},
     "output_type": "execute_result"
    }
   ],
   "source": [
    "df['age'].describe()"
   ],
   "metadata": {
    "collapsed": false,
    "ExecuteTime": {
     "end_time": "2024-03-19T15:47:03.742024Z",
     "start_time": "2024-03-19T15:47:03.735314Z"
    }
   },
   "id": "51c6a18e18e8550c",
   "execution_count": 11
  },
  {
   "cell_type": "code",
   "outputs": [],
   "source": [
    "from matplotlib import pyplot as plt"
   ],
   "metadata": {
    "collapsed": false,
    "ExecuteTime": {
     "end_time": "2024-03-19T15:47:03.744317Z",
     "start_time": "2024-03-19T15:47:03.742723Z"
    }
   },
   "id": "89d1fc1365cbeed9",
   "execution_count": 12
  },
  {
   "cell_type": "code",
   "outputs": [
    {
     "data": {
      "text/plain": "<Figure size 640x480 with 1 Axes>",
      "image/png": "[encoded data removed]"
     },
     "metadata": {},
     "output_type": "display_data"
    }
   ],
   "source": [
    "plt.hist(df['age'], bins=50)\n",
    "plt.show()"
   ],
   "metadata": {
    "collapsed": false,
    "ExecuteTime": {
     "end_time": "2024-03-19T15:47:03.840245Z",
     "start_time": "2024-03-19T15:47:03.744865Z"
    }
   },
   "id": "dd1ea034975d6849",
   "execution_count": 13
  },
  {
   "cell_type": "code",
   "outputs": [
    {
     "data": {
      "text/plain": "148"
     },
     "execution_count": 14,
     "metadata": {},
     "output_type": "execute_result"
    }
   ],
   "source": [
    "(df['age'] > 80).sum()"
   ],
   "metadata": {
    "collapsed": false,
    "ExecuteTime": {
     "end_time": "2024-03-19T15:47:03.845727Z",
     "start_time": "2024-03-19T15:47:03.841184Z"
    }
   },
   "id": "6b94176a61c96a3f",
   "execution_count": 14
  },
  {
   "cell_type": "code",
   "outputs": [
    {
     "data": {
      "text/plain": "age\n90    55\n81    37\n82    15\n84    13\n83    11\n88     6\n85     5\n87     3\n89     2\n86     1\nName: count, dtype: int64"
     },
     "execution_count": 15,
     "metadata": {},
     "output_type": "execute_result"
    }
   ],
   "source": [
    "age_filter_1 = df['age'] > 80\n",
    "df.loc[age_filter_1]['age'].value_counts()"
   ],
   "metadata": {
    "collapsed": false,
    "ExecuteTime": {
     "end_time": "2024-03-19T15:47:03.851110Z",
     "start_time": "2024-03-19T15:47:03.846510Z"
    }
   },
   "id": "92aec0e4322f5b28",
   "execution_count": 15
  },
  {
   "cell_type": "code",
   "outputs": [
    {
     "data": {
      "text/plain": "age\n85    93\n90    55\nName: count, dtype: int64"
     },
     "execution_count": 16,
     "metadata": {},
     "output_type": "execute_result"
    }
   ],
   "source": [
    "age_filter_2 = df['age'] > 80\n",
    "age_filter_3 = df['age'] < 90\n",
    "df.loc[age_filter_2 & age_filter_3, 'age'] = (80 + 90)/ 2\n",
    "df.loc[age_filter_1]['age'].value_counts()"
   ],
   "metadata": {
    "collapsed": false,
    "ExecuteTime": {
     "end_time": "2024-03-19T15:47:03.857621Z",
     "start_time": "2024-03-19T15:47:03.852134Z"
    }
   },
   "id": "17b37a624c004ae9",
   "execution_count": 16
  },
  {
   "cell_type": "code",
   "outputs": [
    {
     "name": "stderr",
     "output_type": "stream",
     "text": [
      "/var/folders/p1/plqqz3vn75d873bd3kj4mtgw0000gn/T/ipykernel_48874/781229096.py:1: FutureWarning: A value is trying to be set on a copy of a DataFrame or Series through chained assignment using an inplace method.\n",
      "The behavior will change in pandas 3.0. This inplace method will never work because the intermediate object on which we are setting values always behaves as a copy.\n",
      "\n",
      "For example, when doing 'df[col].method(value, inplace=True)', try using 'df.method({col: value}, inplace=True)' or df[col] = df[col].method(value) instead, to perform the operation inplace on the original object.\n",
      "\n",
      "\n",
      "  df['workclass'].fillna('Unknown', inplace=True)\n"
     ]
    }
   ],
   "source": [
    "df['workclass'].fillna('Unknown', inplace=True)"
   ],
   "metadata": {
    "collapsed": false,
    "ExecuteTime": {
     "end_time": "2024-03-19T15:47:03.864076Z",
     "start_time": "2024-03-19T15:47:03.858854Z"
    }
   },
   "id": "895501570e7d82f6",
   "execution_count": 17
  },
  {
   "cell_type": "code",
   "outputs": [
    {
     "data": {
      "text/plain": "workclass\nPrivate             33906\nSelf-emp-not-inc     3862\nLocal-gov            3136\nState-gov            1981\n?                    1836\nSelf-emp-inc         1695\nFederal-gov          1432\nUnknown               963\nWithout-pay            21\nNever-worked           10\nName: count, dtype: int64"
     },
     "execution_count": 18,
     "metadata": {},
     "output_type": "execute_result"
    }
   ],
   "source": [
    "df['workclass'].value_counts()"
   ],
   "metadata": {
    "collapsed": false,
    "ExecuteTime": {
     "end_time": "2024-03-19T15:47:03.872671Z",
     "start_time": "2024-03-19T15:47:03.865010Z"
    }
   },
   "id": "d288288598cf9ef8",
   "execution_count": 18
  },
  {
   "cell_type": "code",
   "outputs": [
    {
     "data": {
      "text/plain": "income\n<=50K    29\n>50K      2\nName: count, dtype: int64"
     },
     "execution_count": 19,
     "metadata": {},
     "output_type": "execute_result"
    }
   ],
   "source": [
    "workclass_filt_1 = df['workclass'] == 'Without-pay'\n",
    "workclass_filt_2 = df['workclass'] == 'Never-worked'\n",
    "\n",
    "df.loc[workclass_filt_1 | workclass_filt_2, 'income'].value_counts()"
   ],
   "metadata": {
    "collapsed": false,
    "ExecuteTime": {
     "end_time": "2024-03-19T15:47:03.883762Z",
     "start_time": "2024-03-19T15:47:03.874065Z"
    }
   },
   "id": "90630507b372f2b",
   "execution_count": 19
  },
  {
   "cell_type": "code",
   "outputs": [
    {
     "data": {
      "text/plain": "(48840, 15)"
     },
     "execution_count": 20,
     "metadata": {},
     "output_type": "execute_result"
    }
   ],
   "source": [
    "indices = df[(workclass_filt_1 | workclass_filt_2) & (df['income'] == '>50K')].index\n",
    "df = df.drop(indices)\n",
    "df.shape"
   ],
   "metadata": {
    "collapsed": false,
    "ExecuteTime": {
     "end_time": "2024-03-19T15:47:03.897432Z",
     "start_time": "2024-03-19T15:47:03.885657Z"
    }
   },
   "id": "a0b718270c87870",
   "execution_count": 20
  },
  {
   "cell_type": "code",
   "outputs": [
    {
     "data": {
      "text/plain": "workclass\nPrivate             33906\nSelf-emp-not-inc     3862\nLocal-gov            3136\nUnknown              2799\nState-gov            1981\nSelf-emp-inc         1695\nFederal-gov          1432\nUnemployed             29\nName: count, dtype: int64"
     },
     "execution_count": 21,
     "metadata": {},
     "output_type": "execute_result"
    }
   ],
   "source": [
    "def process_workclass(workclass):\n",
    "    if workclass == '?':\n",
    "        return 'Unknown'\n",
    "    elif workclass in ['Without-pay', 'Never-worked']:\n",
    "        return 'Unemployed'\n",
    "    else:\n",
    "        return workclass\n",
    "    \n",
    "df['workclass'] = df['workclass'].apply(process_workclass)\n",
    "df['workclass'].value_counts()"
   ],
   "metadata": {
    "collapsed": false,
    "ExecuteTime": {
     "end_time": "2024-03-19T15:47:03.911734Z",
     "start_time": "2024-03-19T15:47:03.898998Z"
    }
   },
   "id": "649749f03e9faa58",
   "execution_count": 21
  },
  {
   "cell_type": "code",
   "outputs": [
    {
     "data": {
      "text/plain": "education\nHS-grad         15782\nSome-college    10878\nBachelors        8025\nMasters          2657\nAssoc-voc        2061\n11th             1812\nAssoc-acdm       1601\n10th             1389\n7th-8th           955\nProf-school       834\n9th               756\n12th              657\nDoctorate         594\n5th-6th           509\n1st-4th           247\nPreschool          83\nName: count, dtype: int64"
     },
     "execution_count": 22,
     "metadata": {},
     "output_type": "execute_result"
    }
   ],
   "source": [
    "df['education'].value_counts()"
   ],
   "metadata": {
    "collapsed": false,
    "ExecuteTime": {
     "end_time": "2024-03-19T15:47:03.917666Z",
     "start_time": "2024-03-19T15:47:03.912736Z"
    }
   },
   "id": "ede7ca8668b32f55",
   "execution_count": 22
  },
  {
   "cell_type": "code",
   "outputs": [
    {
     "data": {
      "text/plain": "income\n<=50K    82\n>50K      1\nName: count, dtype: int64"
     },
     "execution_count": 23,
     "metadata": {},
     "output_type": "execute_result"
    }
   ],
   "source": [
    "filt_preschool = (df['education'] == 'Preschool')\n",
    "df.loc[filt_preschool, 'income'].value_counts()"
   ],
   "metadata": {
    "collapsed": false,
    "ExecuteTime": {
     "end_time": "2024-03-19T15:47:03.925102Z",
     "start_time": "2024-03-19T15:47:03.919009Z"
    }
   },
   "id": "5d8ae8785e9b8dc9",
   "execution_count": 23
  },
  {
   "cell_type": "code",
   "outputs": [
    {
     "data": {
      "text/plain": "       age workclass  fnlwgt  education  education-num marital-status  \\\n48525   61   Private  194804  Preschool              1      Separated   \n\n             occupation   relationship   race   sex  capital-gain  \\\n48525  Transport-moving  Not-in-family  Black  Male         14344   \n\n       capital-loss  hours-per-week native-country income  \n48525             0              40  United-States   >50K  ",
      "text/html": "<div>\n<style scoped>\n    .dataframe tbody tr th:only-of-type {\n        vertical-align: middle;\n    }\n\n    .dataframe tbody tr th {\n        vertical-align: top;\n    }\n\n    .dataframe thead th {\n        text-align: right;\n    }\n</style>\n<table border=\"1\" class=\"dataframe\">\n  <thead>\n    <tr style=\"text-align: right;\">\n      <th></th>\n      <th>age</th>\n      <th>workclass</th>\n      <th>fnlwgt</th>\n      <th>education</th>\n      <th>education-num</th>\n      <th>marital-status</th>\n      <th>occupation</th>\n      <th>relationship</th>\n      <th>race</th>\n      <th>sex</th>\n      <th>capital-gain</th>\n      <th>capital-loss</th>\n      <th>hours-per-week</th>\n      <th>native-country</th>\n      <th>income</th>\n    </tr>\n  </thead>\n  <tbody>\n    <tr>\n      <th>48525</th>\n      <td>61</td>\n      <td>Private</td>\n      <td>194804</td>\n      <td>Preschool</td>\n      <td>1</td>\n      <td>Separated</td>\n      <td>Transport-moving</td>\n      <td>Not-in-family</td>\n      <td>Black</td>\n      <td>Male</td>\n      <td>14344</td>\n      <td>0</td>\n      <td>40</td>\n      <td>United-States</td>\n      <td>&gt;50K</td>\n    </tr>\n  </tbody>\n</table>\n</div>"
     },
     "execution_count": 24,
     "metadata": {},
     "output_type": "execute_result"
    }
   ],
   "source": [
    "filt_preschool_50 = (df['education'] == 'Preschool') & (df['income'] == '>50K')\n",
    "df.loc[filt_preschool_50]"
   ],
   "metadata": {
    "collapsed": false,
    "ExecuteTime": {
     "end_time": "2024-03-19T15:47:03.936449Z",
     "start_time": "2024-03-19T15:47:03.925993Z"
    }
   },
   "id": "d392f23f1cbf7182",
   "execution_count": 24
  },
  {
   "cell_type": "code",
   "outputs": [],
   "source": [
    "df = df[~filt_preschool]"
   ],
   "metadata": {
    "collapsed": false,
    "ExecuteTime": {
     "end_time": "2024-03-19T15:47:03.944640Z",
     "start_time": "2024-03-19T15:47:03.937587Z"
    }
   },
   "id": "a05420c6a0bfdd17",
   "execution_count": 25
  },
  {
   "cell_type": "code",
   "outputs": [
    {
     "data": {
      "text/plain": "income\n<=50K    239\n>50K       8\nName: count, dtype: int64"
     },
     "execution_count": 26,
     "metadata": {},
     "output_type": "execute_result"
    }
   ],
   "source": [
    "filt_1_4 = df['education'] == '1st-4th'\n",
    "df.loc[filt_1_4, 'income'].value_counts()"
   ],
   "metadata": {
    "collapsed": false,
    "ExecuteTime": {
     "end_time": "2024-03-19T15:47:03.951906Z",
     "start_time": "2024-03-19T15:47:03.946009Z"
    }
   },
   "id": "19eedaecbb4d0b2f",
   "execution_count": 26
  },
  {
   "cell_type": "code",
   "outputs": [
    {
     "data": {
      "text/plain": "       age         workclass  fnlwgt education  education-num  \\\n2817    41           Private  237321   1st-4th              2   \n10264   52           Private  177995   1st-4th              2   \n13682   52           Private  117295   1st-4th              2   \n19576   53  Self-emp-not-inc  145419   1st-4th              2   \n21097   54           Private  167552   1st-4th              2   \n29322   60           Private  532845   1st-4th              2   \n33451   42           Private   67243   1st-4th              2   \n40935   61           Private   56248   1st-4th              2   \n\n           marital-status         occupation relationship   race   sex  \\\n2817   Married-civ-spouse  Machine-op-inspct      Husband  White  Male   \n10264  Married-civ-spouse    Farming-fishing      Husband  White  Male   \n13682  Married-civ-spouse    Exec-managerial      Husband  White  Male   \n19576  Married-civ-spouse    Exec-managerial      Husband  White  Male   \n21097  Married-civ-spouse       Craft-repair      Husband  Black  Male   \n29322  Married-civ-spouse       Craft-repair      Husband  White  Male   \n33451  Married-civ-spouse       Adm-clerical      Husband  White  Male   \n40935  Married-civ-spouse  Machine-op-inspct      Husband  White  Male   \n\n       capital-gain  capital-loss  hours-per-week native-country income  \n2817              0             0              40         Mexico   >50K  \n10264             0             0              56         Mexico   >50K  \n13682             0             0              50  United-States   >50K  \n19576          7688             0              67          Italy   >50K  \n21097             0             0              40          Haiti   >50K  \n29322             0             0              40         Mexico   >50K  \n33451             0             0              55       Portugal   >50K  \n40935             0             0              60  United-States   >50K  ",
      "text/html": "<div>\n<style scoped>\n    .dataframe tbody tr th:only-of-type {\n        vertical-align: middle;\n    }\n\n    .dataframe tbody tr th {\n        vertical-align: top;\n    }\n\n    .dataframe thead th {\n        text-align: right;\n    }\n</style>\n<table border=\"1\" class=\"dataframe\">\n  <thead>\n    <tr style=\"text-align: right;\">\n      <th></th>\n      <th>age</th>\n      <th>workclass</th>\n      <th>fnlwgt</th>\n      <th>education</th>\n      <th>education-num</th>\n      <th>marital-status</th>\n      <th>occupation</th>\n      <th>relationship</th>\n      <th>race</th>\n      <th>sex</th>\n      <th>capital-gain</th>\n      <th>capital-loss</th>\n      <th>hours-per-week</th>\n      <th>native-country</th>\n      <th>income</th>\n    </tr>\n  </thead>\n  <tbody>\n    <tr>\n      <th>2817</th>\n      <td>41</td>\n      <td>Private</td>\n      <td>237321</td>\n      <td>1st-4th</td>\n      <td>2</td>\n      <td>Married-civ-spouse</td>\n      <td>Machine-op-inspct</td>\n      <td>Husband</td>\n      <td>White</td>\n      <td>Male</td>\n      <td>0</td>\n      <td>0</td>\n      <td>40</td>\n      <td>Mexico</td>\n      <td>&gt;50K</td>\n    </tr>\n    <tr>\n      <th>10264</th>\n      <td>52</td>\n      <td>Private</td>\n      <td>177995</td>\n      <td>1st-4th</td>\n      <td>2</td>\n      <td>Married-civ-spouse</td>\n      <td>Farming-fishing</td>\n      <td>Husband</td>\n      <td>White</td>\n      <td>Male</td>\n      <td>0</td>\n      <td>0</td>\n      <td>56</td>\n      <td>Mexico</td>\n      <td>&gt;50K</td>\n    </tr>\n    <tr>\n      <th>13682</th>\n      <td>52</td>\n      <td>Private</td>\n      <td>117295</td>\n      <td>1st-4th</td>\n      <td>2</td>\n      <td>Married-civ-spouse</td>\n      <td>Exec-managerial</td>\n      <td>Husband</td>\n      <td>White</td>\n      <td>Male</td>\n      <td>0</td>\n      <td>0</td>\n      <td>50</td>\n      <td>United-States</td>\n      <td>&gt;50K</td>\n    </tr>\n    <tr>\n      <th>19576</th>\n      <td>53</td>\n      <td>Self-emp-not-inc</td>\n      <td>145419</td>\n      <td>1st-4th</td>\n      <td>2</td>\n      <td>Married-civ-spouse</td>\n      <td>Exec-managerial</td>\n      <td>Husband</td>\n      <td>White</td>\n      <td>Male</td>\n      <td>7688</td>\n      <td>0</td>\n      <td>67</td>\n      <td>Italy</td>\n      <td>&gt;50K</td>\n    </tr>\n    <tr>\n      <th>21097</th>\n      <td>54</td>\n      <td>Private</td>\n      <td>167552</td>\n      <td>1st-4th</td>\n      <td>2</td>\n      <td>Married-civ-spouse</td>\n      <td>Craft-repair</td>\n      <td>Husband</td>\n      <td>Black</td>\n      <td>Male</td>\n      <td>0</td>\n      <td>0</td>\n      <td>40</td>\n      <td>Haiti</td>\n      <td>&gt;50K</td>\n    </tr>\n    <tr>\n      <th>29322</th>\n      <td>60</td>\n      <td>Private</td>\n      <td>532845</td>\n      <td>1st-4th</td>\n      <td>2</td>\n      <td>Married-civ-spouse</td>\n      <td>Craft-repair</td>\n      <td>Husband</td>\n      <td>White</td>\n      <td>Male</td>\n      <td>0</td>\n      <td>0</td>\n      <td>40</td>\n      <td>Mexico</td>\n      <td>&gt;50K</td>\n    </tr>\n    <tr>\n      <th>33451</th>\n      <td>42</td>\n      <td>Private</td>\n      <td>67243</td>\n      <td>1st-4th</td>\n      <td>2</td>\n      <td>Married-civ-spouse</td>\n      <td>Adm-clerical</td>\n      <td>Husband</td>\n      <td>White</td>\n      <td>Male</td>\n      <td>0</td>\n      <td>0</td>\n      <td>55</td>\n      <td>Portugal</td>\n      <td>&gt;50K</td>\n    </tr>\n    <tr>\n      <th>40935</th>\n      <td>61</td>\n      <td>Private</td>\n      <td>56248</td>\n      <td>1st-4th</td>\n      <td>2</td>\n      <td>Married-civ-spouse</td>\n      <td>Machine-op-inspct</td>\n      <td>Husband</td>\n      <td>White</td>\n      <td>Male</td>\n      <td>0</td>\n      <td>0</td>\n      <td>60</td>\n      <td>United-States</td>\n      <td>&gt;50K</td>\n    </tr>\n  </tbody>\n</table>\n</div>"
     },
     "execution_count": 27,
     "metadata": {},
     "output_type": "execute_result"
    }
   ],
   "source": [
    "filt_1_4_50 = (df['education'] == '1st-4th') & (df['income'] == '>50K')\n",
    "df.loc[filt_1_4_50]"
   ],
   "metadata": {
    "collapsed": false,
    "ExecuteTime": {
     "end_time": "2024-03-19T15:47:03.964483Z",
     "start_time": "2024-03-19T15:47:03.953154Z"
    }
   },
   "id": "157e67c6e15bd386",
   "execution_count": 27
  },
  {
   "cell_type": "code",
   "outputs": [],
   "source": [
    "def process_education(education):\n",
    "    if education in ['Preschool', '1st-4th', '5th-6th', '7th-8th', '9th', '10th', '11th', '12th']:\n",
    "        return 'Other'\n",
    "    else:\n",
    "        return education\n",
    "    \n",
    "df['education'] = df['education'].apply(process_education)"
   ],
   "metadata": {
    "collapsed": false,
    "ExecuteTime": {
     "end_time": "2024-03-19T15:47:03.976015Z",
     "start_time": "2024-03-19T15:47:03.965811Z"
    }
   },
   "id": "1c7d0e43042e0c5b",
   "execution_count": 28
  },
  {
   "cell_type": "code",
   "outputs": [
    {
     "data": {
      "text/plain": "education-num\n9     15782\n10    10878\n13     8025\n14     2657\n11     2061\n7      1812\n12     1601\n6      1389\n4       955\n15      834\n5       756\n8       657\n16      594\n3       509\n2       247\nName: count, dtype: int64"
     },
     "execution_count": 29,
     "metadata": {},
     "output_type": "execute_result"
    }
   ],
   "source": [
    "df['education-num'].value_counts()"
   ],
   "metadata": {
    "collapsed": false,
    "ExecuteTime": {
     "end_time": "2024-03-19T15:47:03.986542Z",
     "start_time": "2024-03-19T15:47:03.981537Z"
    }
   },
   "id": "fab074c010376617",
   "execution_count": 29
  },
  {
   "cell_type": "code",
   "outputs": [
    {
     "data": {
      "text/plain": "marital-status\nMarried-civ-spouse       22347\nNever-married            16079\nDivorced                  6631\nSeparated                 1527\nWidowed                   1513\nMarried-spouse-absent      623\nMarried-AF-spouse           37\nName: count, dtype: int64"
     },
     "execution_count": 30,
     "metadata": {},
     "output_type": "execute_result"
    }
   ],
   "source": [
    "df['marital-status'].value_counts()"
   ],
   "metadata": {
    "collapsed": false,
    "ExecuteTime": {
     "end_time": "2024-03-19T15:47:03.991979Z",
     "start_time": "2024-03-19T15:47:03.987201Z"
    }
   },
   "id": "86178803ec425bd5",
   "execution_count": 30
  },
  {
   "cell_type": "code",
   "outputs": [
    {
     "data": {
      "text/plain": "income\n<=50K    23\n>50K     14\nName: count, dtype: int64"
     },
     "execution_count": 31,
     "metadata": {},
     "output_type": "execute_result"
    }
   ],
   "source": [
    "filt_af_spouse = df['marital-status'] == 'Married-AF-spouse'\n",
    "df.loc[filt_af_spouse, 'income'].value_counts()"
   ],
   "metadata": {
    "collapsed": false,
    "ExecuteTime": {
     "end_time": "2024-03-19T15:47:03.999318Z",
     "start_time": "2024-03-19T15:47:03.993123Z"
    }
   },
   "id": "fe289ef0afacc40d",
   "execution_count": 31
  },
  {
   "cell_type": "code",
   "outputs": [
    {
     "data": {
      "text/plain": "occupation\nProf-specialty       6171\nCraft-repair         6106\nExec-managerial      6085\nAdm-clerical         5608\nSales                5502\nOther-service        4901\nMachine-op-inspct    3009\nTransport-moving     2353\nHandlers-cleaners    2066\n?                    1838\nFarming-fishing      1473\nTech-support         1446\nProtective-serv       983\nPriv-house-serv       240\nArmed-Forces           15\nName: count, dtype: int64"
     },
     "execution_count": 32,
     "metadata": {},
     "output_type": "execute_result"
    }
   ],
   "source": [
    "df['occupation'].value_counts()"
   ],
   "metadata": {
    "collapsed": false,
    "ExecuteTime": {
     "end_time": "2024-03-19T15:47:04.005671Z",
     "start_time": "2024-03-19T15:47:04.000510Z"
    }
   },
   "id": "40f649527c2f5a06",
   "execution_count": 32
  },
  {
   "cell_type": "code",
   "outputs": [
    {
     "name": "stderr",
     "output_type": "stream",
     "text": [
      "/var/folders/p1/plqqz3vn75d873bd3kj4mtgw0000gn/T/ipykernel_48874/2116681980.py:1: FutureWarning: A value is trying to be set on a copy of a DataFrame or Series through chained assignment using an inplace method.\n",
      "The behavior will change in pandas 3.0. This inplace method will never work because the intermediate object on which we are setting values always behaves as a copy.\n",
      "\n",
      "For example, when doing 'df[col].method(value, inplace=True)', try using 'df.method({col: value}, inplace=True)' or df[col] = df[col].method(value) instead, to perform the operation inplace on the original object.\n",
      "\n",
      "\n",
      "  df['occupation'].fillna('Unknown', inplace=True)\n"
     ]
    }
   ],
   "source": [
    "df['occupation'].fillna('Unknown', inplace=True)"
   ],
   "metadata": {
    "collapsed": false,
    "ExecuteTime": {
     "end_time": "2024-03-19T15:47:04.011402Z",
     "start_time": "2024-03-19T15:47:04.006880Z"
    }
   },
   "id": "e38c3e029f3b05",
   "execution_count": 33
  },
  {
   "cell_type": "code",
   "outputs": [],
   "source": [
    "df['occupation'] = df['occupation'].apply(lambda x : 'Unknown' if x == '?' else x)"
   ],
   "metadata": {
    "collapsed": false,
    "ExecuteTime": {
     "end_time": "2024-03-19T15:47:04.019701Z",
     "start_time": "2024-03-19T15:47:04.012624Z"
    }
   },
   "id": "f8bb239c7992dca2",
   "execution_count": 34
  },
  {
   "cell_type": "code",
   "outputs": [
    {
     "data": {
      "text/plain": "income\n<=50K    10\n>50K      5\nName: count, dtype: int64"
     },
     "execution_count": 35,
     "metadata": {},
     "output_type": "execute_result"
    }
   ],
   "source": [
    "filt_af = df['occupation'] == 'Armed-Forces'\n",
    "df.loc[filt_af, 'income'].value_counts()"
   ],
   "metadata": {
    "collapsed": false,
    "ExecuteTime": {
     "end_time": "2024-03-19T15:47:04.026090Z",
     "start_time": "2024-03-19T15:47:04.020608Z"
    }
   },
   "id": "e661b641ccda82e6",
   "execution_count": 35
  },
  {
   "cell_type": "code",
   "outputs": [
    {
     "data": {
      "text/plain": "relationship\nHusband           19692\nNot-in-family     12545\nOwn-child          7573\nUnmarried          5119\nWife               2328\nOther-relative     1500\nName: count, dtype: int64"
     },
     "execution_count": 36,
     "metadata": {},
     "output_type": "execute_result"
    }
   ],
   "source": [
    "df['relationship'].value_counts()"
   ],
   "metadata": {
    "collapsed": false,
    "ExecuteTime": {
     "end_time": "2024-03-19T15:47:04.032815Z",
     "start_time": "2024-03-19T15:47:04.027459Z"
    }
   },
   "id": "779692d958748e97",
   "execution_count": 36
  },
  {
   "cell_type": "code",
   "outputs": [
    {
     "data": {
      "text/plain": "marital-status\nDivorced                 2368\nNever-married            1331\nSeparated                 667\nWidowed                   571\nMarried-spouse-absent     182\nName: count, dtype: int64"
     },
     "execution_count": 37,
     "metadata": {},
     "output_type": "execute_result"
    }
   ],
   "source": [
    "filt_unmarried = df['relationship'] == 'Unmarried'\n",
    "df.loc[filt_unmarried, 'marital-status'].value_counts()"
   ],
   "metadata": {
    "collapsed": false,
    "ExecuteTime": {
     "end_time": "2024-03-19T15:47:04.039278Z",
     "start_time": "2024-03-19T15:47:04.033501Z"
    }
   },
   "id": "ecb9afd6d715ac30",
   "execution_count": 37
  },
  {
   "cell_type": "code",
   "outputs": [
    {
     "data": {
      "text/plain": "race\nWhite                 41699\nBlack                  4673\nAsian-Pac-Islander     1512\nAmer-Indian-Eskimo      469\nOther                   404\nName: count, dtype: int64"
     },
     "execution_count": 38,
     "metadata": {},
     "output_type": "execute_result"
    }
   ],
   "source": [
    "df['race'].value_counts()"
   ],
   "metadata": {
    "collapsed": false,
    "ExecuteTime": {
     "end_time": "2024-03-19T15:47:04.043533Z",
     "start_time": "2024-03-19T15:47:04.039917Z"
    }
   },
   "id": "6378bb8ac9ba254c",
   "execution_count": 38
  },
  {
   "cell_type": "code",
   "outputs": [
    {
     "data": {
      "text/plain": "sex\nMale      32590\nFemale    16167\nName: count, dtype: int64"
     },
     "execution_count": 39,
     "metadata": {},
     "output_type": "execute_result"
    }
   ],
   "source": [
    "df['sex'].value_counts()"
   ],
   "metadata": {
    "collapsed": false,
    "ExecuteTime": {
     "end_time": "2024-03-19T15:47:04.048039Z",
     "start_time": "2024-03-19T15:47:04.044282Z"
    }
   },
   "id": "d7290c3b8a26ba03",
   "execution_count": 39
  },
  {
   "cell_type": "code",
   "outputs": [
    {
     "data": {
      "text/plain": "count    48757.000000\nmean      1079.702709\nstd       7455.898062\nmin          0.000000\n25%          0.000000\n50%          0.000000\n75%          0.000000\nmax      99999.000000\nName: capital-gain, dtype: float64"
     },
     "execution_count": 40,
     "metadata": {},
     "output_type": "execute_result"
    }
   ],
   "source": [
    "df['capital-gain'].describe()"
   ],
   "metadata": {
    "collapsed": false,
    "ExecuteTime": {
     "end_time": "2024-03-19T15:47:04.052340Z",
     "start_time": "2024-03-19T15:47:04.048754Z"
    }
   },
   "id": "2653f69ac413797b",
   "execution_count": 40
  },
  {
   "cell_type": "code",
   "outputs": [
    {
     "data": {
      "text/plain": "46478"
     },
     "execution_count": 41,
     "metadata": {},
     "output_type": "execute_result"
    }
   ],
   "source": [
    "(df['capital-loss'] == 0).sum()"
   ],
   "metadata": {
    "collapsed": false,
    "ExecuteTime": {
     "end_time": "2024-03-19T15:47:04.055331Z",
     "start_time": "2024-03-19T15:47:04.052971Z"
    }
   },
   "id": "a88d2e3a96a2c924",
   "execution_count": 41
  },
  {
   "cell_type": "code",
   "outputs": [
    {
     "data": {
      "text/plain": "{'whiskers': [<matplotlib.lines.Line2D at 0x157327550>,\n  <matplotlib.lines.Line2D at 0x1573277f0>],\n 'caps': [<matplotlib.lines.Line2D at 0x157327a90>,\n  <matplotlib.lines.Line2D at 0x157327d30>],\n 'boxes': [<matplotlib.lines.Line2D at 0x1573272b0>],\n 'medians': [<matplotlib.lines.Line2D at 0x157327fd0>],\n 'fliers': [<matplotlib.lines.Line2D at 0x1573392b0>],\n 'means': []}"
     },
     "execution_count": 42,
     "metadata": {},
     "output_type": "execute_result"
    },
    {
     "data": {
      "text/plain": "<Figure size 640x480 with 1 Axes>",
      "image/png": "[encoded data removed]"
     },
     "metadata": {},
     "output_type": "display_data"
    }
   ],
   "source": [
    "plt.boxplot(df['capital-gain'])"
   ],
   "metadata": {
    "collapsed": false,
    "ExecuteTime": {
     "end_time": "2024-03-19T15:47:04.117191Z",
     "start_time": "2024-03-19T15:47:04.055872Z"
    }
   },
   "id": "690a185008968a34",
   "execution_count": 42
  },
  {
   "cell_type": "code",
   "outputs": [],
   "source": [
    "filt_cp_gain_out = df['capital-gain'] > 80000\n",
    "df['capital-gain'] = np.where(filt_cp_gain_out, np.mean(df[~filt_cp_gain_out]['capital-gain']), df['capital-gain'])"
   ],
   "metadata": {
    "collapsed": false,
    "ExecuteTime": {
     "end_time": "2024-03-19T15:47:04.126272Z",
     "start_time": "2024-03-19T15:47:04.119257Z"
    }
   },
   "id": "4b9f5e79c3e78429",
   "execution_count": 43
  },
  {
   "cell_type": "code",
   "outputs": [
    {
     "data": {
      "text/plain": "{'whiskers': [<matplotlib.lines.Line2D at 0x15739e070>,\n  <matplotlib.lines.Line2D at 0x15739e1f0>],\n 'caps': [<matplotlib.lines.Line2D at 0x15739e490>,\n  <matplotlib.lines.Line2D at 0x15739e730>],\n 'boxes': [<matplotlib.lines.Line2D at 0x15738ed90>],\n 'medians': [<matplotlib.lines.Line2D at 0x15739e9d0>],\n 'fliers': [<matplotlib.lines.Line2D at 0x15739ec40>],\n 'means': []}"
     },
     "execution_count": 44,
     "metadata": {},
     "output_type": "execute_result"
    },
    {
     "data": {
      "text/plain": "<Figure size 640x480 with 1 Axes>",
      "image/png": "[encoded data removed]"
     },
     "metadata": {},
     "output_type": "display_data"
    }
   ],
   "source": [
    "plt.boxplot(df['capital-gain'])"
   ],
   "metadata": {
    "collapsed": false,
    "ExecuteTime": {
     "end_time": "2024-03-19T15:47:04.188203Z",
     "start_time": "2024-03-19T15:47:04.127414Z"
    }
   },
   "id": "9931f5efc0bf3b18",
   "execution_count": 44
  },
  {
   "cell_type": "code",
   "outputs": [
    {
     "data": {
      "text/plain": "{'whiskers': [<matplotlib.lines.Line2D at 0x157401670>,\n  <matplotlib.lines.Line2D at 0x157401910>],\n 'caps': [<matplotlib.lines.Line2D at 0x157401bb0>,\n  <matplotlib.lines.Line2D at 0x157401e50>],\n 'boxes': [<matplotlib.lines.Line2D at 0x1574013d0>],\n 'medians': [<matplotlib.lines.Line2D at 0x15740f130>],\n 'fliers': [<matplotlib.lines.Line2D at 0x15740f3d0>],\n 'means': []}"
     },
     "execution_count": 45,
     "metadata": {},
     "output_type": "execute_result"
    },
    {
     "data": {
      "text/plain": "<Figure size 640x480 with 1 Axes>",
      "image/png": "[encoded data removed]"
     },
     "metadata": {},
     "output_type": "display_data"
    }
   ],
   "source": [
    "plt.boxplot(df['capital-loss'])"
   ],
   "metadata": {
    "collapsed": false,
    "ExecuteTime": {
     "end_time": "2024-03-19T15:47:04.250279Z",
     "start_time": "2024-03-19T15:47:04.189653Z"
    }
   },
   "id": "e73ccc928111017",
   "execution_count": 45
  },
  {
   "cell_type": "code",
   "outputs": [
    {
     "data": {
      "text/plain": "{'whiskers': [<matplotlib.lines.Line2D at 0x157468ac0>,\n  <matplotlib.lines.Line2D at 0x157468c40>],\n 'caps': [<matplotlib.lines.Line2D at 0x157468ee0>,\n  <matplotlib.lines.Line2D at 0x1574791c0>],\n 'boxes': [<matplotlib.lines.Line2D at 0x157468820>],\n 'medians': [<matplotlib.lines.Line2D at 0x157479460>],\n 'fliers': [<matplotlib.lines.Line2D at 0x157479700>],\n 'means': []}"
     },
     "execution_count": 46,
     "metadata": {},
     "output_type": "execute_result"
    },
    {
     "data": {
      "text/plain": "<Figure size 640x480 with 1 Axes>",
      "image/png": "[encoded data removed]"
     },
     "metadata": {},
     "output_type": "display_data"
    }
   ],
   "source": [
    "plt.boxplot(df['hours-per-week'])"
   ],
   "metadata": {
    "collapsed": false,
    "ExecuteTime": {
     "end_time": "2024-03-19T15:47:04.321067Z",
     "start_time": "2024-03-19T15:47:04.251725Z"
    }
   },
   "id": "ef205f9ebcfe6fe2",
   "execution_count": 46
  },
  {
   "cell_type": "code",
   "outputs": [
    {
     "data": {
      "text/plain": "race\nWhite                 41699\nBlack                  4673\nAsian-Pac-Islander     1512\nAmer-Indian-Eskimo      469\nOther                   404\nName: count, dtype: int64"
     },
     "execution_count": 47,
     "metadata": {},
     "output_type": "execute_result"
    }
   ],
   "source": [
    "df['race'].value_counts()"
   ],
   "metadata": {
    "collapsed": false,
    "ExecuteTime": {
     "end_time": "2024-03-19T15:47:04.327986Z",
     "start_time": "2024-03-19T15:47:04.322437Z"
    }
   },
   "id": "c66634d9e7d85db3",
   "execution_count": 47
  },
  {
   "cell_type": "code",
   "outputs": [
    {
     "data": {
      "text/plain": "count    48757.000000\nmean        40.428554\nstd         12.392033\nmin          1.000000\n25%         40.000000\n50%         40.000000\n75%         45.000000\nmax         99.000000\nName: hours-per-week, dtype: float64"
     },
     "execution_count": 48,
     "metadata": {},
     "output_type": "execute_result"
    }
   ],
   "source": [
    "df['hours-per-week'].describe()"
   ],
   "metadata": {
    "collapsed": false,
    "ExecuteTime": {
     "end_time": "2024-03-19T15:47:04.333855Z",
     "start_time": "2024-03-19T15:47:04.328909Z"
    }
   },
   "id": "67a06b5933a4e85d",
   "execution_count": 48
  },
  {
   "cell_type": "code",
   "outputs": [
    {
     "data": {
      "text/plain": "native-country\nUnited-States                 43806\nMexico                          920\n?                               582\nPhilippines                     293\nGermany                         206\nPuerto-Rico                     183\nCanada                          182\nIndia                           150\nEl-Salvador                     148\nCuba                            138\nEngland                         127\nChina                           120\nSouth                           114\nItaly                           105\nJamaica                         105\nDominican-Republic              101\nJapan                            92\nPoland                           87\nGuatemala                        86\nVietnam                          86\nColumbia                         85\nHaiti                            71\nPortugal                         67\nTaiwan                           65\nIran                             59\nGreece                           49\nNicaragua                        48\nPeru                             46\nEcuador                          45\nFrance                           38\nIreland                          37\nThailand                         30\nHong                             29\nCambodia                         27\nTrinadad&Tobago                  27\nYugoslavia                       23\nOutlying-US(Guam-USVI-etc)       23\nLaos                             22\nScotland                         21\nHonduras                         20\nHungary                          19\nHoland-Netherlands                1\nName: count, dtype: int64"
     },
     "execution_count": 49,
     "metadata": {},
     "output_type": "execute_result"
    }
   ],
   "source": [
    "df['native-country'].value_counts()"
   ],
   "metadata": {
    "collapsed": false,
    "ExecuteTime": {
     "end_time": "2024-03-19T15:47:04.339953Z",
     "start_time": "2024-03-19T15:47:04.335204Z"
    }
   },
   "id": "a80db5f91ef2b736",
   "execution_count": 49
  },
  {
   "cell_type": "code",
   "outputs": [],
   "source": [
    "df['native-country'] = df['native-country'].apply(lambda x : x if x == 'United-States' else 'Other')"
   ],
   "metadata": {
    "collapsed": false,
    "ExecuteTime": {
     "end_time": "2024-03-19T15:47:04.348132Z",
     "start_time": "2024-03-19T15:47:04.341285Z"
    }
   },
   "id": "989e74c080b3b027",
   "execution_count": 50
  },
  {
   "cell_type": "code",
   "outputs": [
    {
     "data": {
      "text/plain": "native-country\nUnited-States    43806\nOther             4951\nName: count, dtype: int64"
     },
     "execution_count": 51,
     "metadata": {},
     "output_type": "execute_result"
    }
   ],
   "source": [
    "df['native-country'].value_counts()"
   ],
   "metadata": {
    "collapsed": false,
    "ExecuteTime": {
     "end_time": "2024-03-19T15:47:04.353742Z",
     "start_time": "2024-03-19T15:47:04.349034Z"
    }
   },
   "id": "b3161aaa7d58a8b4",
   "execution_count": 51
  },
  {
   "cell_type": "code",
   "outputs": [
    {
     "name": "stdout",
     "output_type": "stream",
     "text": [
      "<class 'pandas.core.frame.DataFrame'>\n",
      "Index: 48757 entries, 0 to 48841\n",
      "Data columns (total 15 columns):\n",
      " #   Column          Non-Null Count  Dtype  \n",
      "---  ------          --------------  -----  \n",
      " 0   age             48757 non-null  int64  \n",
      " 1   workclass       48757 non-null  object \n",
      " 2   fnlwgt          48757 non-null  int64  \n",
      " 3   education       48757 non-null  object \n",
      " 4   education-num   48757 non-null  int64  \n",
      " 5   marital-status  48757 non-null  object \n",
      " 6   occupation      48757 non-null  object \n",
      " 7   relationship    48757 non-null  object \n",
      " 8   race            48757 non-null  object \n",
      " 9   sex             48757 non-null  object \n",
      " 10  capital-gain    48757 non-null  float64\n",
      " 11  capital-loss    48757 non-null  int64  \n",
      " 12  hours-per-week  48757 non-null  int64  \n",
      " 13  native-country  48757 non-null  object \n",
      " 14  income          48757 non-null  object \n",
      "dtypes: float64(1), int64(5), object(9)\n",
      "memory usage: 6.0+ MB\n"
     ]
    }
   ],
   "source": [
    "df.info()"
   ],
   "metadata": {
    "collapsed": false,
    "ExecuteTime": {
     "end_time": "2024-03-19T15:47:04.366907Z",
     "start_time": "2024-03-19T15:47:04.354696Z"
    }
   },
   "id": "7c3a05dde29f5571",
   "execution_count": 52
  },
  {
   "cell_type": "code",
   "outputs": [],
   "source": [
    "from sklearn.decomposition import PCA"
   ],
   "metadata": {
    "collapsed": false,
    "ExecuteTime": {
     "end_time": "2024-03-19T15:47:04.554954Z",
     "start_time": "2024-03-19T15:47:04.368053Z"
    }
   },
   "id": "be9fc470073a02bb",
   "execution_count": 53
  },
  {
   "cell_type": "code",
   "outputs": [],
   "source": [
    "filt_pca = df[['fnlwgt', 'capital-gain', 'capital-loss']]"
   ],
   "metadata": {
    "collapsed": false,
    "ExecuteTime": {
     "end_time": "2024-03-19T15:47:04.558581Z",
     "start_time": "2024-03-19T15:47:04.555705Z"
    }
   },
   "id": "e33b30c0c0e2d77c",
   "execution_count": 54
  },
  {
   "cell_type": "code",
   "outputs": [],
   "source": [
    "pca = PCA(n_components= 1)\n",
    "pca_components = pca.fit_transform(filt_pca)"
   ],
   "metadata": {
    "collapsed": false,
    "ExecuteTime": {
     "end_time": "2024-03-19T15:47:05.037398Z",
     "start_time": "2024-03-19T15:47:04.559273Z"
    }
   },
   "id": "c731f0843912d0e4",
   "execution_count": 55
  },
  {
   "cell_type": "code",
   "outputs": [
    {
     "data": {
      "text/plain": "array([[-112065.33015041],\n       [-106270.166423  ],\n       [  26064.8331816 ],\n       ...,\n       [ 185401.83270553],\n       [-105690.57729293],\n       [  -7433.16671831]])"
     },
     "execution_count": 56,
     "metadata": {},
     "output_type": "execute_result"
    }
   ],
   "source": [
    "pca_components"
   ],
   "metadata": {
    "collapsed": false,
    "ExecuteTime": {
     "end_time": "2024-03-19T15:47:05.056286Z",
     "start_time": "2024-03-19T15:47:05.048891Z"
    }
   },
   "id": "97fdf7d46042f846",
   "execution_count": 56
  },
  {
   "cell_type": "code",
   "outputs": [],
   "source": [
    "from sklearn.preprocessing import StandardScaler"
   ],
   "metadata": {
    "collapsed": false,
    "ExecuteTime": {
     "end_time": "2024-03-19T15:47:05.061410Z",
     "start_time": "2024-03-19T15:47:05.058628Z"
    }
   },
   "id": "90a33a68e1a51bd1",
   "execution_count": 57
  },
  {
   "cell_type": "code",
   "outputs": [],
   "source": [
    "sc = StandardScaler()\n",
    "pca_components = sc.fit_transform(pca_components)"
   ],
   "metadata": {
    "collapsed": false,
    "ExecuteTime": {
     "end_time": "2024-03-19T15:47:05.067893Z",
     "start_time": "2024-03-19T15:47:05.063375Z"
    }
   },
   "id": "d5689f63e4c54341",
   "execution_count": 58
  },
  {
   "cell_type": "code",
   "outputs": [],
   "source": [
    "df = df.drop(columns=['fnlwgt', 'capital-gain', 'capital-loss'])\n",
    "x = df.drop(columns=['income'])\n",
    "x['pca'] = pca_components\n",
    "y = df['income']"
   ],
   "metadata": {
    "collapsed": false,
    "ExecuteTime": {
     "end_time": "2024-03-19T15:47:05.085270Z",
     "start_time": "2024-03-19T15:47:05.069436Z"
    }
   },
   "id": "9fe2edc4e548b4fe",
   "execution_count": 59
  },
  {
   "cell_type": "code",
   "outputs": [],
   "source": [
    "from imblearn.over_sampling import RandomOverSampler"
   ],
   "metadata": {
    "collapsed": false,
    "ExecuteTime": {
     "end_time": "2024-03-19T15:47:05.231332Z",
     "start_time": "2024-03-19T15:47:05.086969Z"
    }
   },
   "id": "4d165edba4ccad",
   "execution_count": 60
  },
  {
   "cell_type": "code",
   "outputs": [
    {
     "data": {
      "text/plain": "income\n<=50K    37073\n>50K     37073\nName: count, dtype: int64"
     },
     "execution_count": 61,
     "metadata": {},
     "output_type": "execute_result"
    }
   ],
   "source": [
    "oversample = RandomOverSampler(random_state=42)\n",
    "x, y = oversample.fit_resample(x, y)\n",
    "y.value_counts()"
   ],
   "metadata": {
    "collapsed": false,
    "ExecuteTime": {
     "end_time": "2024-03-19T15:47:05.345972Z",
     "start_time": "2024-03-19T15:47:05.233666Z"
    }
   },
   "id": "3c15e2883709a2b",
   "execution_count": 61
  },
  {
   "cell_type": "code",
   "outputs": [],
   "source": [
    "x = pd.get_dummies(x)"
   ],
   "metadata": {
    "collapsed": false,
    "ExecuteTime": {
     "end_time": "2024-03-19T15:47:05.381153Z",
     "start_time": "2024-03-19T15:47:05.346765Z"
    }
   },
   "id": "1e1f2f2a4afc79ec",
   "execution_count": 62
  },
  {
   "cell_type": "code",
   "outputs": [],
   "source": [
    "from sklearn.model_selection import train_test_split"
   ],
   "metadata": {
    "collapsed": false,
    "ExecuteTime": {
     "end_time": "2024-03-19T15:47:05.383617Z",
     "start_time": "2024-03-19T15:47:05.381818Z"
    }
   },
   "id": "5fbb21c5f1e4f5dd",
   "execution_count": 63
  },
  {
   "cell_type": "code",
   "outputs": [
    {
     "data": {
      "text/plain": "((51902, 58), (22244, 58))"
     },
     "execution_count": 64,
     "metadata": {},
     "output_type": "execute_result"
    }
   ],
   "source": [
    "x_train, x_test, y_train, y_test = train_test_split(x, y, test_size=0.3, random_state=42)\n",
    "x_train.shape, x_test.shape"
   ],
   "metadata": {
    "collapsed": false,
    "ExecuteTime": {
     "end_time": "2024-03-19T15:47:05.392557Z",
     "start_time": "2024-03-19T15:47:05.384287Z"
    }
   },
   "id": "d9a1cde53635002",
   "execution_count": 64
  },
  {
   "cell_type": "code",
   "outputs": [],
   "source": [
    "from sklearn.naive_bayes import GaussianNB"
   ],
   "metadata": {
    "collapsed": false,
    "ExecuteTime": {
     "end_time": "2024-03-19T15:47:05.396369Z",
     "start_time": "2024-03-19T15:47:05.393243Z"
    }
   },
   "id": "25e9bdc18cd0b0db",
   "execution_count": 65
  },
  {
   "cell_type": "code",
   "outputs": [
    {
     "data": {
      "text/plain": "GaussianNB()",
      "text/html": "<style>#sk-container-id-1 {\n  /* Definition of color scheme common for light and dark mode */\n  --sklearn-color-text: black;\n  --sklearn-color-line: gray;\n  /* Definition of color scheme for unfitted estimators */\n  --sklearn-color-unfitted-level-0: #fff5e6;\n  --sklearn-color-unfitted-level-1: #f6e4d2;\n  --sklearn-color-unfitted-level-2: #ffe0b3;\n  --sklearn-color-unfitted-level-3: chocolate;\n  /* Definition of color scheme for fitted estimators */\n  --sklearn-color-fitted-level-0: #f0f8ff;\n  --sklearn-color-fitted-level-1: #d4ebff;\n  --sklearn-color-fitted-level-2: #b3dbfd;\n  --sklearn-color-fitted-level-3: cornflowerblue;\n\n  /* Specific color for light theme */\n  --sklearn-color-text-on-default-background: var(--sg-text-color, var(--theme-code-foreground, var(--jp-content-font-color1, black)));\n  --sklearn-color-background: var(--sg-background-color, var(--theme-background, var(--jp-layout-color0, white)));\n  --sklearn-color-border-box: var(--sg-text-color, var(--theme-code-foreground, var(--jp-content-font-color1, black)));\n  --sklearn-color-icon: #696969;\n\n  @media (prefers-color-scheme: dark) {\n    /* Redefinition of color scheme for dark theme */\n    --sklearn-color-text-on-default-background: var(--sg-text-color, var(--theme-code-foreground, var(--jp-content-font-color1, white)));\n    --sklearn-color-background: var(--sg-background-color, var(--theme-background, var(--jp-layout-color0, #111)));\n    --sklearn-color-border-box: var(--sg-text-color, var(--theme-code-foreground, var(--jp-content-font-color1, white)));\n    --sklearn-color-icon: #878787;\n  }\n}\n\n#sk-container-id-1 {\n  color: var(--sklearn-color-text);\n}\n\n#sk-container-id-1 pre {\n  padding: 0;\n}\n\n#sk-container-id-1 input.sk-hidden--visually {\n  border: 0;\n  clip: rect(1px 1px 1px 1px);\n  clip: rect(1px, 1px, 1px, 1px);\n  height: 1px;\n  margin: -1px;\n  overflow: hidden;\n  padding: 0;\n  position: absolute;\n  width: 1px;\n}\n\n#sk-container-id-1 div.sk-dashed-wrapped {\n  border: 1px dashed var(--sklearn-color-line);\n  margin: 0 0.4em 0.5em 0.4em;\n  box-sizing: border-box;\n  padding-bottom: 0.4em;\n  background-color: var(--sklearn-color-background);\n}\n\n#sk-container-id-1 div.sk-container {\n  /* jupyter's `normalize.less` sets `[hidden] { display: none; }`\n     but bootstrap.min.css set `[hidden] { display: none !important; }`\n     so we also need the `!important` here to be able to override the\n     default hidden behavior on the sphinx rendered scikit-learn.org.\n     See: https://github.com/scikit-learn/scikit-learn/issues/21755 */\n  display: inline-block !important;\n  position: relative;\n}\n\n#sk-container-id-1 div.sk-text-repr-fallback {\n  display: none;\n}\n\ndiv.sk-parallel-item,\ndiv.sk-serial,\ndiv.sk-item {\n  /* draw centered vertical line to link estimators */\n  background-image: linear-gradient(var(--sklearn-color-text-on-default-background), var(--sklearn-color-text-on-default-background));\n  background-size: 2px 100%;\n  background-repeat: no-repeat;\n  background-position: center center;\n}\n\n/* Parallel-specific style estimator block */\n\n#sk-container-id-1 div.sk-parallel-item::after {\n  content: \"\";\n  width: 100%;\n  border-bottom: 2px solid var(--sklearn-color-text-on-default-background);\n  flex-grow: 1;\n}\n\n#sk-container-id-1 div.sk-parallel {\n  display: flex;\n  align-items: stretch;\n  justify-content: center;\n  background-color: var(--sklearn-color-background);\n  position: relative;\n}\n\n#sk-container-id-1 div.sk-parallel-item {\n  display: flex;\n  flex-direction: column;\n}\n\n#sk-container-id-1 div.sk-parallel-item:first-child::after {\n  align-self: flex-end;\n  width: 50%;\n}\n\n#sk-container-id-1 div.sk-parallel-item:last-child::after {\n  align-self: flex-start;\n  width: 50%;\n}\n\n#sk-container-id-1 div.sk-parallel-item:only-child::after {\n  width: 0;\n}\n\n/* Serial-specific style estimator block */\n\n#sk-container-id-1 div.sk-serial {\n  display: flex;\n  flex-direction: column;\n  align-items: center;\n  background-color: var(--sklearn-color-background);\n  padding-right: 1em;\n  padding-left: 1em;\n}\n\n\n/* Toggleable style: style used for estimator/Pipeline/ColumnTransformer box that is\nclickable and can be expanded/collapsed.\n- Pipeline and ColumnTransformer use this feature and define the default style\n- Estimators will overwrite some part of the style using the `sk-estimator` class\n*/\n\n/* Pipeline and ColumnTransformer style (default) */\n\n#sk-container-id-1 div.sk-toggleable {\n  /* Default theme specific background. It is overwritten whether we have a\n  specific estimator or a Pipeline/ColumnTransformer */\n  background-color: var(--sklearn-color-background);\n}\n\n/* Toggleable label */\n#sk-container-id-1 label.sk-toggleable__label {\n  cursor: pointer;\n  display: block;\n  width: 100%;\n  margin-bottom: 0;\n  padding: 0.5em;\n  box-sizing: border-box;\n  text-align: center;\n}\n\n#sk-container-id-1 label.sk-toggleable__label-arrow:before {\n  /* Arrow on the left of the label */\n  content: \"▸\";\n  float: left;\n  margin-right: 0.25em;\n  color: var(--sklearn-color-icon);\n}\n\n#sk-container-id-1 label.sk-toggleable__label-arrow:hover:before {\n  color: var(--sklearn-color-text);\n}\n\n/* Toggleable content - dropdown */\n\n#sk-container-id-1 div.sk-toggleable__content {\n  max-height: 0;\n  max-width: 0;\n  overflow: hidden;\n  text-align: left;\n  /* unfitted */\n  background-color: var(--sklearn-color-unfitted-level-0);\n}\n\n#sk-container-id-1 div.sk-toggleable__content.fitted {\n  /* fitted */\n  background-color: var(--sklearn-color-fitted-level-0);\n}\n\n#sk-container-id-1 div.sk-toggleable__content pre {\n  margin: 0.2em;\n  border-radius: 0.25em;\n  color: var(--sklearn-color-text);\n  /* unfitted */\n  background-color: var(--sklearn-color-unfitted-level-0);\n}\n\n#sk-container-id-1 div.sk-toggleable__content.fitted pre {\n  /* unfitted */\n  background-color: var(--sklearn-color-fitted-level-0);\n}\n\n#sk-container-id-1 input.sk-toggleable__control:checked~div.sk-toggleable__content {\n  /* Expand drop-down */\n  max-height: 200px;\n  max-width: 100%;\n  overflow: auto;\n}\n\n#sk-container-id-1 input.sk-toggleable__control:checked~label.sk-toggleable__label-arrow:before {\n  content: \"▾\";\n}\n\n/* Pipeline/ColumnTransformer-specific style */\n\n#sk-container-id-1 div.sk-label input.sk-toggleable__control:checked~label.sk-toggleable__label {\n  color: var(--sklearn-color-text);\n  background-color: var(--sklearn-color-unfitted-level-2);\n}\n\n#sk-container-id-1 div.sk-label.fitted input.sk-toggleable__control:checked~label.sk-toggleable__label {\n  background-color: var(--sklearn-color-fitted-level-2);\n}\n\n/* Estimator-specific style */\n\n/* Colorize estimator box */\n#sk-container-id-1 div.sk-estimator input.sk-toggleable__control:checked~label.sk-toggleable__label {\n  /* unfitted */\n  background-color: var(--sklearn-color-unfitted-level-2);\n}\n\n#sk-container-id-1 div.sk-estimator.fitted input.sk-toggleable__control:checked~label.sk-toggleable__label {\n  /* fitted */\n  background-color: var(--sklearn-color-fitted-level-2);\n}\n\n#sk-container-id-1 div.sk-label label.sk-toggleable__label,\n#sk-container-id-1 div.sk-label label {\n  /* The background is the default theme color */\n  color: var(--sklearn-color-text-on-default-background);\n}\n\n/* On hover, darken the color of the background */\n#sk-container-id-1 div.sk-label:hover label.sk-toggleable__label {\n  color: var(--sklearn-color-text);\n  background-color: var(--sklearn-color-unfitted-level-2);\n}\n\n/* Label box, darken color on hover, fitted */\n#sk-container-id-1 div.sk-label.fitted:hover label.sk-toggleable__label.fitted {\n  color: var(--sklearn-color-text);\n  background-color: var(--sklearn-color-fitted-level-2);\n}\n\n/* Estimator label */\n\n#sk-container-id-1 div.sk-label label {\n  font-family: monospace;\n  font-weight: bold;\n  display: inline-block;\n  line-height: 1.2em;\n}\n\n#sk-container-id-1 div.sk-label-container {\n  text-align: center;\n}\n\n/* Estimator-specific */\n#sk-container-id-1 div.sk-estimator {\n  font-family: monospace;\n  border: 1px dotted var(--sklearn-color-border-box);\n  border-radius: 0.25em;\n  box-sizing: border-box;\n  margin-bottom: 0.5em;\n  /* unfitted */\n  background-color: var(--sklearn-color-unfitted-level-0);\n}\n\n#sk-container-id-1 div.sk-estimator.fitted {\n  /* fitted */\n  background-color: var(--sklearn-color-fitted-level-0);\n}\n\n/* on hover */\n#sk-container-id-1 div.sk-estimator:hover {\n  /* unfitted */\n  background-color: var(--sklearn-color-unfitted-level-2);\n}\n\n#sk-container-id-1 div.sk-estimator.fitted:hover {\n  /* fitted */\n  background-color: var(--sklearn-color-fitted-level-2);\n}\n\n/* Specification for estimator info (e.g. \"i\" and \"?\") */\n\n/* Common style for \"i\" and \"?\" */\n\n.sk-estimator-doc-link,\na:link.sk-estimator-doc-link,\na:visited.sk-estimator-doc-link {\n  float: right;\n  font-size: smaller;\n  line-height: 1em;\n  font-family: monospace;\n  background-color: var(--sklearn-color-background);\n  border-radius: 1em;\n  height: 1em;\n  width: 1em;\n  text-decoration: none !important;\n  margin-left: 1ex;\n  /* unfitted */\n  border: var(--sklearn-color-unfitted-level-1) 1pt solid;\n  color: var(--sklearn-color-unfitted-level-1);\n}\n\n.sk-estimator-doc-link.fitted,\na:link.sk-estimator-doc-link.fitted,\na:visited.sk-estimator-doc-link.fitted {\n  /* fitted */\n  border: var(--sklearn-color-fitted-level-1) 1pt solid;\n  color: var(--sklearn-color-fitted-level-1);\n}\n\n/* On hover */\ndiv.sk-estimator:hover .sk-estimator-doc-link:hover,\n.sk-estimator-doc-link:hover,\ndiv.sk-label-container:hover .sk-estimator-doc-link:hover,\n.sk-estimator-doc-link:hover {\n  /* unfitted */\n  background-color: var(--sklearn-color-unfitted-level-3);\n  color: var(--sklearn-color-background);\n  text-decoration: none;\n}\n\ndiv.sk-estimator.fitted:hover .sk-estimator-doc-link.fitted:hover,\n.sk-estimator-doc-link.fitted:hover,\ndiv.sk-label-container:hover .sk-estimator-doc-link.fitted:hover,\n.sk-estimator-doc-link.fitted:hover {\n  /* fitted */\n  background-color: var(--sklearn-color-fitted-level-3);\n  color: var(--sklearn-color-background);\n  text-decoration: none;\n}\n\n/* Span, style for the box shown on hovering the info icon */\n.sk-estimator-doc-link span {\n  display: none;\n  z-index: 9999;\n  position: relative;\n  font-weight: normal;\n  right: .2ex;\n  padding: .5ex;\n  margin: .5ex;\n  width: min-content;\n  min-width: 20ex;\n  max-width: 50ex;\n  color: var(--sklearn-color-text);\n  box-shadow: 2pt 2pt 4pt #999;\n  /* unfitted */\n  background: var(--sklearn-color-unfitted-level-0);\n  border: .5pt solid var(--sklearn-color-unfitted-level-3);\n}\n\n.sk-estimator-doc-link.fitted span {\n  /* fitted */\n  background: var(--sklearn-color-fitted-level-0);\n  border: var(--sklearn-color-fitted-level-3);\n}\n\n.sk-estimator-doc-link:hover span {\n  display: block;\n}\n\n/* \"?\"-specific style due to the `<a>` HTML tag */\n\n#sk-container-id-1 a.estimator_doc_link {\n  float: right;\n  font-size: 1rem;\n  line-height: 1em;\n  font-family: monospace;\n  background-color: var(--sklearn-color-background);\n  border-radius: 1rem;\n  height: 1rem;\n  width: 1rem;\n  text-decoration: none;\n  /* unfitted */\n  color: var(--sklearn-color-unfitted-level-1);\n  border: var(--sklearn-color-unfitted-level-1) 1pt solid;\n}\n\n#sk-container-id-1 a.estimator_doc_link.fitted {\n  /* fitted */\n  border: var(--sklearn-color-fitted-level-1) 1pt solid;\n  color: var(--sklearn-color-fitted-level-1);\n}\n\n/* On hover */\n#sk-container-id-1 a.estimator_doc_link:hover {\n  /* unfitted */\n  background-color: var(--sklearn-color-unfitted-level-3);\n  color: var(--sklearn-color-background);\n  text-decoration: none;\n}\n\n#sk-container-id-1 a.estimator_doc_link.fitted:hover {\n  /* fitted */\n  background-color: var(--sklearn-color-fitted-level-3);\n}\n</style><div id=\"sk-container-id-1\" class=\"sk-top-container\"><div class=\"sk-text-repr-fallback\"><pre>GaussianNB()</pre><b>In a Jupyter environment, please rerun this cell to show the HTML representation or trust the notebook. <br />On GitHub, the HTML representation is unable to render, please try loading this page with nbviewer.org.</b></div><div class=\"sk-container\" hidden><div class=\"sk-item\"><div class=\"sk-estimator fitted sk-toggleable\"><input class=\"sk-toggleable__control sk-hidden--visually\" id=\"sk-estimator-id-1\" type=\"checkbox\" checked><label for=\"sk-estimator-id-1\" class=\"sk-toggleable__label fitted sk-toggleable__label-arrow fitted\">&nbsp;&nbsp;GaussianNB<a class=\"sk-estimator-doc-link fitted\" rel=\"noreferrer\" target=\"_blank\" href=\"https://scikit-learn.org/1.4/modules/generated/sklearn.naive_bayes.GaussianNB.html\">?<span>Documentation for GaussianNB</span></a><span class=\"sk-estimator-doc-link fitted\">i<span>Fitted</span></span></label><div class=\"sk-toggleable__content fitted\"><pre>GaussianNB()</pre></div> </div></div></div></div>"
     },
     "execution_count": 66,
     "metadata": {},
     "output_type": "execute_result"
    }
   ],
   "source": [
    "model = GaussianNB()\n",
    "model.fit(x_train,y_train)"
   ],
   "metadata": {
    "collapsed": false,
    "ExecuteTime": {
     "end_time": "2024-03-19T15:47:05.471636Z",
     "start_time": "2024-03-19T15:47:05.396890Z"
    }
   },
   "id": "d310db35b75c110",
   "execution_count": 66
  },
  {
   "cell_type": "code",
   "outputs": [
    {
     "data": {
      "text/plain": "array(['>50K', '>50K', '<=50K', ..., '>50K', '>50K', '>50K'], dtype='<U5')"
     },
     "execution_count": 67,
     "metadata": {},
     "output_type": "execute_result"
    }
   ],
   "source": [
    "pred = model.predict(x_test)\n",
    "pred"
   ],
   "metadata": {
    "collapsed": false,
    "ExecuteTime": {
     "end_time": "2024-03-19T15:47:05.484416Z",
     "start_time": "2024-03-19T15:47:05.472362Z"
    }
   },
   "id": "3c6b879e7541c498",
   "execution_count": 67
  },
  {
   "cell_type": "code",
   "outputs": [
    {
     "data": {
      "text/plain": "5860      >50K\n35675    <=50K\n32549    <=50K\n43983    <=50K\n16234    <=50K\n         ...  \n36049     >50K\n59172     >50K\n58467     >50K\n32131     >50K\n72957     >50K\nName: income, Length: 22244, dtype: object"
     },
     "execution_count": 68,
     "metadata": {},
     "output_type": "execute_result"
    }
   ],
   "source": [
    "y_test"
   ],
   "metadata": {
    "collapsed": false,
    "ExecuteTime": {
     "end_time": "2024-03-19T15:47:05.487907Z",
     "start_time": "2024-03-19T15:47:05.485199Z"
    }
   },
   "id": "ba55cc3c6c1265e1",
   "execution_count": 68
  },
  {
   "cell_type": "code",
   "outputs": [],
   "source": [
    "from sklearn.metrics import accuracy_score"
   ],
   "metadata": {
    "collapsed": false,
    "ExecuteTime": {
     "end_time": "2024-03-19T15:47:05.490331Z",
     "start_time": "2024-03-19T15:47:05.488652Z"
    }
   },
   "id": "303546a291f18267",
   "execution_count": 69
  },
  {
   "cell_type": "code",
   "outputs": [
    {
     "data": {
      "text/plain": "0.7706347779176407"
     },
     "execution_count": 70,
     "metadata": {},
     "output_type": "execute_result"
    }
   ],
   "source": [
    "accuracy_score(y_test,pred)"
   ],
   "metadata": {
    "collapsed": false,
    "ExecuteTime": {
     "end_time": "2024-03-19T15:47:05.518766Z",
     "start_time": "2024-03-19T15:47:05.490973Z"
    }
   },
   "id": "159c3094cec09a9",
   "execution_count": 70
  },
  {
   "cell_type": "code",
   "outputs": [],
   "source": [
    "from sklearn.ensemble import RandomForestClassifier"
   ],
   "metadata": {
    "collapsed": false,
    "ExecuteTime": {
     "end_time": "2024-03-19T15:47:05.521641Z",
     "start_time": "2024-03-19T15:47:05.519452Z"
    }
   },
   "id": "85054a4e4eb5ee21",
   "execution_count": 71
  },
  {
   "cell_type": "code",
   "outputs": [
    {
     "data": {
      "text/plain": "Text(0, 0.5, 'Accuracy')"
     },
     "execution_count": 72,
     "metadata": {},
     "output_type": "execute_result"
    },
    {
     "data": {
      "text/plain": "<Figure size 640x480 with 1 Axes>",
      "image/png": "[encoded data removed]"
     },
     "metadata": {},
     "output_type": "display_data"
    }
   ],
   "source": [
    "test_acc_list = []\n",
    "\n",
    "for i in range(1, 101):\n",
    "    model = RandomForestClassifier(n_estimators=i, random_state=42)\n",
    "    model.fit(x_train, y_train)\n",
    "    \n",
    "    # Testing set\n",
    "    test_pred = model.predict(x_test)\n",
    "    test_acc = accuracy_score(y_test, test_pred)\n",
    "    test_acc_list.append(test_acc)\n",
    "\n",
    "plt.plot(range(1, 101), test_acc_list)\n",
    "plt.title('Random Forest Regression - Accuracy')\n",
    "plt.xlabel('Number of Estimators')\n",
    "plt.ylabel('Accuracy')"
   ],
   "metadata": {
    "collapsed": false,
    "ExecuteTime": {
     "end_time": "2024-03-19T15:50:06.670488Z",
     "start_time": "2024-03-19T15:47:05.522232Z"
    }
   },
   "id": "b326fe08affe9f96",
   "execution_count": 72
  },
  {
   "cell_type": "code",
   "outputs": [
    {
     "data": {
      "text/plain": "0.9074806689444345"
     },
     "execution_count": 74,
     "metadata": {},
     "output_type": "execute_result"
    }
   ],
   "source": [
    "model = RandomForestClassifier(n_estimators=80, random_state=42)\n",
    "model.fit(x_train, y_train)\n",
    "test_pred = model.predict(x_test)\n",
    "accuracy_score(y_test, test_pred)"
   ],
   "metadata": {
    "collapsed": false,
    "ExecuteTime": {
     "end_time": "2024-03-19T15:51:03.333705Z",
     "start_time": "2024-03-19T15:50:59.861913Z"
    }
   },
   "id": "745129d4c4bdf2af",
   "execution_count": 74
  }
 ],
 "metadata": {
  "kernelspec": {
   "display_name": "Python 3",
   "language": "python",
   "name": "python3"
  },
  "language_info": {
   "codemirror_mode": {
    "name": "ipython",
    "version": 2
   },
   "file_extension": ".py",
   "mimetype": "text/x-python",
   "name": "python",
   "nbconvert_exporter": "python",
   "pygments_lexer": "ipython2",
   "version": "2.7.6"
  }
 },
 "nbformat": 4,
 "nbformat_minor": 5
}
